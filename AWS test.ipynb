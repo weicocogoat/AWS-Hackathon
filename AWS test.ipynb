{
 "cells": [
  {
   "cell_type": "code",
   "execution_count": 17,
   "metadata": {},
   "outputs": [],
   "source": [
    "import numpy as np\n",
    "import pandas as pd\n",
    "import seaborn as sns\n",
    "import matplotlib.pyplot as plt\n",
    "sns.set()"
   ]
  },
  {
   "cell_type": "markdown",
   "metadata": {},
   "source": [
    "# Data cleaning and Exploratory Data Analysis"
   ]
  },
  {
   "cell_type": "code",
   "execution_count": 8,
   "metadata": {},
   "outputs": [
    {
     "data": {
      "text/html": [
       "<div>\n",
       "<style scoped>\n",
       "    .dataframe tbody tr th:only-of-type {\n",
       "        vertical-align: middle;\n",
       "    }\n",
       "\n",
       "    .dataframe tbody tr th {\n",
       "        vertical-align: top;\n",
       "    }\n",
       "\n",
       "    .dataframe thead th {\n",
       "        text-align: right;\n",
       "    }\n",
       "</style>\n",
       "<table border=\"1\" class=\"dataframe\">\n",
       "  <thead>\n",
       "    <tr style=\"text-align: right;\">\n",
       "      <th></th>\n",
       "      <th>date</th>\n",
       "      <th>quarter</th>\n",
       "      <th>department</th>\n",
       "      <th>day</th>\n",
       "      <th>team</th>\n",
       "      <th>targeted_productivity</th>\n",
       "      <th>smv</th>\n",
       "      <th>wip</th>\n",
       "      <th>over_time</th>\n",
       "      <th>incentive</th>\n",
       "      <th>idle_time</th>\n",
       "      <th>idle_men</th>\n",
       "      <th>no_of_style_change</th>\n",
       "      <th>no_of_workers</th>\n",
       "      <th>actual_productivity</th>\n",
       "    </tr>\n",
       "  </thead>\n",
       "  <tbody>\n",
       "    <tr>\n",
       "      <th>0</th>\n",
       "      <td>1/1/2015</td>\n",
       "      <td>Quarter1</td>\n",
       "      <td>sweing</td>\n",
       "      <td>Thursday</td>\n",
       "      <td>8</td>\n",
       "      <td>0.80</td>\n",
       "      <td>26.16</td>\n",
       "      <td>1108.0</td>\n",
       "      <td>7080</td>\n",
       "      <td>98</td>\n",
       "      <td>0.0</td>\n",
       "      <td>0</td>\n",
       "      <td>0</td>\n",
       "      <td>59.0</td>\n",
       "      <td>0.940725</td>\n",
       "    </tr>\n",
       "    <tr>\n",
       "      <th>1</th>\n",
       "      <td>1/1/2015</td>\n",
       "      <td>Quarter1</td>\n",
       "      <td>finishing</td>\n",
       "      <td>Thursday</td>\n",
       "      <td>1</td>\n",
       "      <td>0.75</td>\n",
       "      <td>3.94</td>\n",
       "      <td>NaN</td>\n",
       "      <td>960</td>\n",
       "      <td>0</td>\n",
       "      <td>0.0</td>\n",
       "      <td>0</td>\n",
       "      <td>0</td>\n",
       "      <td>8.0</td>\n",
       "      <td>0.886500</td>\n",
       "    </tr>\n",
       "    <tr>\n",
       "      <th>2</th>\n",
       "      <td>1/1/2015</td>\n",
       "      <td>Quarter1</td>\n",
       "      <td>sweing</td>\n",
       "      <td>Thursday</td>\n",
       "      <td>11</td>\n",
       "      <td>0.80</td>\n",
       "      <td>11.41</td>\n",
       "      <td>968.0</td>\n",
       "      <td>3660</td>\n",
       "      <td>50</td>\n",
       "      <td>0.0</td>\n",
       "      <td>0</td>\n",
       "      <td>0</td>\n",
       "      <td>30.5</td>\n",
       "      <td>0.800570</td>\n",
       "    </tr>\n",
       "    <tr>\n",
       "      <th>3</th>\n",
       "      <td>1/1/2015</td>\n",
       "      <td>Quarter1</td>\n",
       "      <td>sweing</td>\n",
       "      <td>Thursday</td>\n",
       "      <td>12</td>\n",
       "      <td>0.80</td>\n",
       "      <td>11.41</td>\n",
       "      <td>968.0</td>\n",
       "      <td>3660</td>\n",
       "      <td>50</td>\n",
       "      <td>0.0</td>\n",
       "      <td>0</td>\n",
       "      <td>0</td>\n",
       "      <td>30.5</td>\n",
       "      <td>0.800570</td>\n",
       "    </tr>\n",
       "    <tr>\n",
       "      <th>4</th>\n",
       "      <td>1/1/2015</td>\n",
       "      <td>Quarter1</td>\n",
       "      <td>sweing</td>\n",
       "      <td>Thursday</td>\n",
       "      <td>6</td>\n",
       "      <td>0.80</td>\n",
       "      <td>25.90</td>\n",
       "      <td>1170.0</td>\n",
       "      <td>1920</td>\n",
       "      <td>50</td>\n",
       "      <td>0.0</td>\n",
       "      <td>0</td>\n",
       "      <td>0</td>\n",
       "      <td>56.0</td>\n",
       "      <td>0.800382</td>\n",
       "    </tr>\n",
       "  </tbody>\n",
       "</table>\n",
       "</div>"
      ],
      "text/plain": [
       "       date   quarter  department       day  team  targeted_productivity  \\\n",
       "0  1/1/2015  Quarter1      sweing  Thursday     8                   0.80   \n",
       "1  1/1/2015  Quarter1  finishing   Thursday     1                   0.75   \n",
       "2  1/1/2015  Quarter1      sweing  Thursday    11                   0.80   \n",
       "3  1/1/2015  Quarter1      sweing  Thursday    12                   0.80   \n",
       "4  1/1/2015  Quarter1      sweing  Thursday     6                   0.80   \n",
       "\n",
       "     smv     wip  over_time  incentive  idle_time  idle_men  \\\n",
       "0  26.16  1108.0       7080         98        0.0         0   \n",
       "1   3.94     NaN        960          0        0.0         0   \n",
       "2  11.41   968.0       3660         50        0.0         0   \n",
       "3  11.41   968.0       3660         50        0.0         0   \n",
       "4  25.90  1170.0       1920         50        0.0         0   \n",
       "\n",
       "   no_of_style_change  no_of_workers  actual_productivity  \n",
       "0                   0           59.0             0.940725  \n",
       "1                   0            8.0             0.886500  \n",
       "2                   0           30.5             0.800570  \n",
       "3                   0           30.5             0.800570  \n",
       "4                   0           56.0             0.800382  "
      ]
     },
     "execution_count": 8,
     "metadata": {},
     "output_type": "execute_result"
    }
   ],
   "source": [
    "#load data into pandas\n",
    "df = pd.read_csv(\"garments_worker_productivity.csv\")\n",
    "df.head()"
   ]
  },
  {
   "cell_type": "code",
   "execution_count": 9,
   "metadata": {},
   "outputs": [
    {
     "data": {
      "text/html": [
       "<div>\n",
       "<style scoped>\n",
       "    .dataframe tbody tr th:only-of-type {\n",
       "        vertical-align: middle;\n",
       "    }\n",
       "\n",
       "    .dataframe tbody tr th {\n",
       "        vertical-align: top;\n",
       "    }\n",
       "\n",
       "    .dataframe thead th {\n",
       "        text-align: right;\n",
       "    }\n",
       "</style>\n",
       "<table border=\"1\" class=\"dataframe\">\n",
       "  <thead>\n",
       "    <tr style=\"text-align: right;\">\n",
       "      <th></th>\n",
       "      <th>date</th>\n",
       "      <th>quarter</th>\n",
       "      <th>department</th>\n",
       "      <th>day</th>\n",
       "      <th>team</th>\n",
       "      <th>targeted_productivity</th>\n",
       "      <th>smv</th>\n",
       "      <th>wip</th>\n",
       "      <th>over_time</th>\n",
       "      <th>incentive</th>\n",
       "      <th>idle_time</th>\n",
       "      <th>idle_men</th>\n",
       "      <th>no_of_style_change</th>\n",
       "      <th>no_of_workers</th>\n",
       "      <th>actual_productivity</th>\n",
       "    </tr>\n",
       "  </thead>\n",
       "  <tbody>\n",
       "    <tr>\n",
       "      <th>0</th>\n",
       "      <td>1/1/2015</td>\n",
       "      <td>Quarter1</td>\n",
       "      <td>sewing</td>\n",
       "      <td>Thursday</td>\n",
       "      <td>8</td>\n",
       "      <td>0.80</td>\n",
       "      <td>26.16</td>\n",
       "      <td>1108.0</td>\n",
       "      <td>7080</td>\n",
       "      <td>98</td>\n",
       "      <td>0.0</td>\n",
       "      <td>0</td>\n",
       "      <td>0</td>\n",
       "      <td>59.0</td>\n",
       "      <td>0.940725</td>\n",
       "    </tr>\n",
       "    <tr>\n",
       "      <th>1</th>\n",
       "      <td>1/1/2015</td>\n",
       "      <td>Quarter1</td>\n",
       "      <td>finishing</td>\n",
       "      <td>Thursday</td>\n",
       "      <td>1</td>\n",
       "      <td>0.75</td>\n",
       "      <td>3.94</td>\n",
       "      <td>NaN</td>\n",
       "      <td>960</td>\n",
       "      <td>0</td>\n",
       "      <td>0.0</td>\n",
       "      <td>0</td>\n",
       "      <td>0</td>\n",
       "      <td>8.0</td>\n",
       "      <td>0.886500</td>\n",
       "    </tr>\n",
       "    <tr>\n",
       "      <th>2</th>\n",
       "      <td>1/1/2015</td>\n",
       "      <td>Quarter1</td>\n",
       "      <td>sewing</td>\n",
       "      <td>Thursday</td>\n",
       "      <td>11</td>\n",
       "      <td>0.80</td>\n",
       "      <td>11.41</td>\n",
       "      <td>968.0</td>\n",
       "      <td>3660</td>\n",
       "      <td>50</td>\n",
       "      <td>0.0</td>\n",
       "      <td>0</td>\n",
       "      <td>0</td>\n",
       "      <td>30.5</td>\n",
       "      <td>0.800570</td>\n",
       "    </tr>\n",
       "    <tr>\n",
       "      <th>3</th>\n",
       "      <td>1/1/2015</td>\n",
       "      <td>Quarter1</td>\n",
       "      <td>sewing</td>\n",
       "      <td>Thursday</td>\n",
       "      <td>12</td>\n",
       "      <td>0.80</td>\n",
       "      <td>11.41</td>\n",
       "      <td>968.0</td>\n",
       "      <td>3660</td>\n",
       "      <td>50</td>\n",
       "      <td>0.0</td>\n",
       "      <td>0</td>\n",
       "      <td>0</td>\n",
       "      <td>30.5</td>\n",
       "      <td>0.800570</td>\n",
       "    </tr>\n",
       "    <tr>\n",
       "      <th>4</th>\n",
       "      <td>1/1/2015</td>\n",
       "      <td>Quarter1</td>\n",
       "      <td>sewing</td>\n",
       "      <td>Thursday</td>\n",
       "      <td>6</td>\n",
       "      <td>0.80</td>\n",
       "      <td>25.90</td>\n",
       "      <td>1170.0</td>\n",
       "      <td>1920</td>\n",
       "      <td>50</td>\n",
       "      <td>0.0</td>\n",
       "      <td>0</td>\n",
       "      <td>0</td>\n",
       "      <td>56.0</td>\n",
       "      <td>0.800382</td>\n",
       "    </tr>\n",
       "  </tbody>\n",
       "</table>\n",
       "</div>"
      ],
      "text/plain": [
       "       date   quarter  department       day  team  targeted_productivity  \\\n",
       "0  1/1/2015  Quarter1      sewing  Thursday     8                   0.80   \n",
       "1  1/1/2015  Quarter1  finishing   Thursday     1                   0.75   \n",
       "2  1/1/2015  Quarter1      sewing  Thursday    11                   0.80   \n",
       "3  1/1/2015  Quarter1      sewing  Thursday    12                   0.80   \n",
       "4  1/1/2015  Quarter1      sewing  Thursday     6                   0.80   \n",
       "\n",
       "     smv     wip  over_time  incentive  idle_time  idle_men  \\\n",
       "0  26.16  1108.0       7080         98        0.0         0   \n",
       "1   3.94     NaN        960          0        0.0         0   \n",
       "2  11.41   968.0       3660         50        0.0         0   \n",
       "3  11.41   968.0       3660         50        0.0         0   \n",
       "4  25.90  1170.0       1920         50        0.0         0   \n",
       "\n",
       "   no_of_style_change  no_of_workers  actual_productivity  \n",
       "0                   0           59.0             0.940725  \n",
       "1                   0            8.0             0.886500  \n",
       "2                   0           30.5             0.800570  \n",
       "3                   0           30.5             0.800570  \n",
       "4                   0           56.0             0.800382  "
      ]
     },
     "execution_count": 9,
     "metadata": {},
     "output_type": "execute_result"
    }
   ],
   "source": [
    "#Cleaning data\n",
    "df[\"department\"] = df[\"department\"].replace([\"sweing\"], [\"sewing\"])\n",
    "df.head()"
   ]
  },
  {
   "cell_type": "code",
   "execution_count": 15,
   "metadata": {},
   "outputs": [
    {
     "data": {
      "text/html": [
       "<div>\n",
       "<style scoped>\n",
       "    .dataframe tbody tr th:only-of-type {\n",
       "        vertical-align: middle;\n",
       "    }\n",
       "\n",
       "    .dataframe tbody tr th {\n",
       "        vertical-align: top;\n",
       "    }\n",
       "\n",
       "    .dataframe thead th {\n",
       "        text-align: right;\n",
       "    }\n",
       "</style>\n",
       "<table border=\"1\" class=\"dataframe\">\n",
       "  <thead>\n",
       "    <tr style=\"text-align: right;\">\n",
       "      <th></th>\n",
       "      <th>smv</th>\n",
       "      <th>wip</th>\n",
       "      <th>over_time</th>\n",
       "      <th>incentive</th>\n",
       "      <th>idle_time</th>\n",
       "      <th>actual_productivity</th>\n",
       "    </tr>\n",
       "  </thead>\n",
       "  <tbody>\n",
       "    <tr>\n",
       "      <th>0</th>\n",
       "      <td>26.16</td>\n",
       "      <td>1108.0</td>\n",
       "      <td>7080</td>\n",
       "      <td>98</td>\n",
       "      <td>0.0</td>\n",
       "      <td>0.940725</td>\n",
       "    </tr>\n",
       "    <tr>\n",
       "      <th>1</th>\n",
       "      <td>3.94</td>\n",
       "      <td>NaN</td>\n",
       "      <td>960</td>\n",
       "      <td>0</td>\n",
       "      <td>0.0</td>\n",
       "      <td>0.886500</td>\n",
       "    </tr>\n",
       "    <tr>\n",
       "      <th>2</th>\n",
       "      <td>11.41</td>\n",
       "      <td>968.0</td>\n",
       "      <td>3660</td>\n",
       "      <td>50</td>\n",
       "      <td>0.0</td>\n",
       "      <td>0.800570</td>\n",
       "    </tr>\n",
       "    <tr>\n",
       "      <th>3</th>\n",
       "      <td>11.41</td>\n",
       "      <td>968.0</td>\n",
       "      <td>3660</td>\n",
       "      <td>50</td>\n",
       "      <td>0.0</td>\n",
       "      <td>0.800570</td>\n",
       "    </tr>\n",
       "    <tr>\n",
       "      <th>4</th>\n",
       "      <td>25.90</td>\n",
       "      <td>1170.0</td>\n",
       "      <td>1920</td>\n",
       "      <td>50</td>\n",
       "      <td>0.0</td>\n",
       "      <td>0.800382</td>\n",
       "    </tr>\n",
       "    <tr>\n",
       "      <th>...</th>\n",
       "      <td>...</td>\n",
       "      <td>...</td>\n",
       "      <td>...</td>\n",
       "      <td>...</td>\n",
       "      <td>...</td>\n",
       "      <td>...</td>\n",
       "    </tr>\n",
       "    <tr>\n",
       "      <th>1192</th>\n",
       "      <td>2.90</td>\n",
       "      <td>NaN</td>\n",
       "      <td>960</td>\n",
       "      <td>0</td>\n",
       "      <td>0.0</td>\n",
       "      <td>0.628333</td>\n",
       "    </tr>\n",
       "    <tr>\n",
       "      <th>1193</th>\n",
       "      <td>3.90</td>\n",
       "      <td>NaN</td>\n",
       "      <td>960</td>\n",
       "      <td>0</td>\n",
       "      <td>0.0</td>\n",
       "      <td>0.625625</td>\n",
       "    </tr>\n",
       "    <tr>\n",
       "      <th>1194</th>\n",
       "      <td>3.90</td>\n",
       "      <td>NaN</td>\n",
       "      <td>960</td>\n",
       "      <td>0</td>\n",
       "      <td>0.0</td>\n",
       "      <td>0.625625</td>\n",
       "    </tr>\n",
       "    <tr>\n",
       "      <th>1195</th>\n",
       "      <td>2.90</td>\n",
       "      <td>NaN</td>\n",
       "      <td>1800</td>\n",
       "      <td>0</td>\n",
       "      <td>0.0</td>\n",
       "      <td>0.505889</td>\n",
       "    </tr>\n",
       "    <tr>\n",
       "      <th>1196</th>\n",
       "      <td>2.90</td>\n",
       "      <td>NaN</td>\n",
       "      <td>720</td>\n",
       "      <td>0</td>\n",
       "      <td>0.0</td>\n",
       "      <td>0.394722</td>\n",
       "    </tr>\n",
       "  </tbody>\n",
       "</table>\n",
       "<p>1197 rows × 6 columns</p>\n",
       "</div>"
      ],
      "text/plain": [
       "        smv     wip  over_time  incentive  idle_time  actual_productivity\n",
       "0     26.16  1108.0       7080         98        0.0             0.940725\n",
       "1      3.94     NaN        960          0        0.0             0.886500\n",
       "2     11.41   968.0       3660         50        0.0             0.800570\n",
       "3     11.41   968.0       3660         50        0.0             0.800570\n",
       "4     25.90  1170.0       1920         50        0.0             0.800382\n",
       "...     ...     ...        ...        ...        ...                  ...\n",
       "1192   2.90     NaN        960          0        0.0             0.628333\n",
       "1193   3.90     NaN        960          0        0.0             0.625625\n",
       "1194   3.90     NaN        960          0        0.0             0.625625\n",
       "1195   2.90     NaN       1800          0        0.0             0.505889\n",
       "1196   2.90     NaN        720          0        0.0             0.394722\n",
       "\n",
       "[1197 rows x 6 columns]"
      ]
     },
     "execution_count": 15,
     "metadata": {},
     "output_type": "execute_result"
    }
   ],
   "source": [
    "#testing stuff\n",
    "subdf = pd.DataFrame(df[[\"smv\", \"wip\", \"over_time\", \"incentive\", \"idle_time\", \"actual_productivity\"]])\n",
    "subdf"
   ]
  },
  {
   "cell_type": "code",
   "execution_count": 19,
   "metadata": {},
   "outputs": [
    {
     "data": {
      "text/plain": [
       "<AxesSubplot:>"
      ]
     },
     "execution_count": 19,
     "metadata": {},
     "output_type": "execute_result"
    },
    {
     "data": {
      "image/png": "[encoded data removed]",
      "text/plain": [
       "<Figure size 864x576 with 2 Axes>"
      ]
     },
     "metadata": {},
     "output_type": "display_data"
    }
   ],
   "source": [
    "#Correlation heat map. 0 means no correlation. 1 means strong positive correlation. -1 means strong neg correlation\n",
    "f, axes = plt.subplots(1, 1, figsize=(12,8))\n",
    "sns.heatmap(df.corr(), vmin = -1, vmax = +1, annot=True, fmt='.2"
   ]
  },
  {
   "cell_type": "markdown",
   "metadata": {},
   "source": [
    "Bruh, whr the correlation? sianzz.\n",
    "can consider deleting this"
   ]
  },
  {
   "cell_type": "code",
   "execution_count": 26,
   "metadata": {
    "scrolled": false
   },
   "outputs": [
    {
     "data": {
      "text/html": [
       "<div>\n",
       "<style scoped>\n",
       "    .dataframe tbody tr th:only-of-type {\n",
       "        vertical-align: middle;\n",
       "    }\n",
       "\n",
       "    .dataframe tbody tr th {\n",
       "        vertical-align: top;\n",
       "    }\n",
       "\n",
       "    .dataframe thead th {\n",
       "        text-align: right;\n",
       "    }\n",
       "</style>\n",
       "<table border=\"1\" class=\"dataframe\">\n",
       "  <thead>\n",
       "    <tr style=\"text-align: right;\">\n",
       "      <th></th>\n",
       "      <th>targeted_productivity</th>\n",
       "      <th>smv</th>\n",
       "      <th>wip</th>\n",
       "      <th>over_time</th>\n",
       "      <th>incentive</th>\n",
       "      <th>idle_time</th>\n",
       "      <th>idle_men</th>\n",
       "      <th>no_of_style_change</th>\n",
       "      <th>no_of_workers</th>\n",
       "      <th>actual_productivity</th>\n",
       "    </tr>\n",
       "    <tr>\n",
       "      <th>team</th>\n",
       "      <th></th>\n",
       "      <th></th>\n",
       "      <th></th>\n",
       "      <th></th>\n",
       "      <th></th>\n",
       "      <th></th>\n",
       "      <th></th>\n",
       "      <th></th>\n",
       "      <th></th>\n",
       "      <th></th>\n",
       "    </tr>\n",
       "  </thead>\n",
       "  <tbody>\n",
       "    <tr>\n",
       "      <th>1</th>\n",
       "      <td>0.80</td>\n",
       "      <td>22.52</td>\n",
       "      <td>1418.0</td>\n",
       "      <td>3600.0</td>\n",
       "      <td>30.0</td>\n",
       "      <td>0.0</td>\n",
       "      <td>0.0</td>\n",
       "      <td>0.0</td>\n",
       "      <td>56.5</td>\n",
       "      <td>0.850427</td>\n",
       "    </tr>\n",
       "    <tr>\n",
       "      <th>2</th>\n",
       "      <td>0.80</td>\n",
       "      <td>15.28</td>\n",
       "      <td>928.0</td>\n",
       "      <td>3000.0</td>\n",
       "      <td>0.0</td>\n",
       "      <td>0.0</td>\n",
       "      <td>0.0</td>\n",
       "      <td>0.0</td>\n",
       "      <td>45.0</td>\n",
       "      <td>0.800238</td>\n",
       "    </tr>\n",
       "    <tr>\n",
       "      <th>3</th>\n",
       "      <td>0.80</td>\n",
       "      <td>22.52</td>\n",
       "      <td>1129.0</td>\n",
       "      <td>6600.0</td>\n",
       "      <td>40.0</td>\n",
       "      <td>0.0</td>\n",
       "      <td>0.0</td>\n",
       "      <td>0.0</td>\n",
       "      <td>56.0</td>\n",
       "      <td>0.800511</td>\n",
       "    </tr>\n",
       "    <tr>\n",
       "      <th>4</th>\n",
       "      <td>0.75</td>\n",
       "      <td>22.52</td>\n",
       "      <td>864.0</td>\n",
       "      <td>6060.0</td>\n",
       "      <td>0.0</td>\n",
       "      <td>0.0</td>\n",
       "      <td>0.0</td>\n",
       "      <td>0.0</td>\n",
       "      <td>56.0</td>\n",
       "      <td>0.800393</td>\n",
       "    </tr>\n",
       "    <tr>\n",
       "      <th>5</th>\n",
       "      <td>0.70</td>\n",
       "      <td>20.79</td>\n",
       "      <td>699.0</td>\n",
       "      <td>6960.0</td>\n",
       "      <td>0.0</td>\n",
       "      <td>0.0</td>\n",
       "      <td>0.0</td>\n",
       "      <td>0.0</td>\n",
       "      <td>58.0</td>\n",
       "      <td>0.700618</td>\n",
       "    </tr>\n",
       "    <tr>\n",
       "      <th>6</th>\n",
       "      <td>0.75</td>\n",
       "      <td>11.61</td>\n",
       "      <td>913.0</td>\n",
       "      <td>3660.0</td>\n",
       "      <td>23.0</td>\n",
       "      <td>0.0</td>\n",
       "      <td>0.0</td>\n",
       "      <td>0.0</td>\n",
       "      <td>31.5</td>\n",
       "      <td>0.750651</td>\n",
       "    </tr>\n",
       "    <tr>\n",
       "      <th>7</th>\n",
       "      <td>0.75</td>\n",
       "      <td>23.54</td>\n",
       "      <td>970.0</td>\n",
       "      <td>5820.0</td>\n",
       "      <td>0.0</td>\n",
       "      <td>0.0</td>\n",
       "      <td>0.0</td>\n",
       "      <td>0.0</td>\n",
       "      <td>56.0</td>\n",
       "      <td>0.682975</td>\n",
       "    </tr>\n",
       "    <tr>\n",
       "      <th>8</th>\n",
       "      <td>0.70</td>\n",
       "      <td>15.09</td>\n",
       "      <td>1074.0</td>\n",
       "      <td>3360.0</td>\n",
       "      <td>0.0</td>\n",
       "      <td>0.0</td>\n",
       "      <td>0.0</td>\n",
       "      <td>0.0</td>\n",
       "      <td>52.0</td>\n",
       "      <td>0.700135</td>\n",
       "    </tr>\n",
       "    <tr>\n",
       "      <th>9</th>\n",
       "      <td>0.80</td>\n",
       "      <td>18.79</td>\n",
       "      <td>1149.5</td>\n",
       "      <td>3900.0</td>\n",
       "      <td>29.5</td>\n",
       "      <td>0.0</td>\n",
       "      <td>0.0</td>\n",
       "      <td>0.0</td>\n",
       "      <td>52.0</td>\n",
       "      <td>0.754346</td>\n",
       "    </tr>\n",
       "    <tr>\n",
       "      <th>10</th>\n",
       "      <td>0.75</td>\n",
       "      <td>21.25</td>\n",
       "      <td>1188.0</td>\n",
       "      <td>5340.0</td>\n",
       "      <td>0.0</td>\n",
       "      <td>0.0</td>\n",
       "      <td>0.0</td>\n",
       "      <td>0.0</td>\n",
       "      <td>50.0</td>\n",
       "      <td>0.750608</td>\n",
       "    </tr>\n",
       "    <tr>\n",
       "      <th>11</th>\n",
       "      <td>0.75</td>\n",
       "      <td>11.41</td>\n",
       "      <td>749.0</td>\n",
       "      <td>3240.0</td>\n",
       "      <td>34.0</td>\n",
       "      <td>0.0</td>\n",
       "      <td>0.0</td>\n",
       "      <td>0.0</td>\n",
       "      <td>54.0</td>\n",
       "      <td>0.700527</td>\n",
       "    </tr>\n",
       "    <tr>\n",
       "      <th>12</th>\n",
       "      <td>0.80</td>\n",
       "      <td>11.61</td>\n",
       "      <td>1069.0</td>\n",
       "      <td>3780.0</td>\n",
       "      <td>40.0</td>\n",
       "      <td>0.0</td>\n",
       "      <td>0.0</td>\n",
       "      <td>0.0</td>\n",
       "      <td>31.5</td>\n",
       "      <td>0.800402</td>\n",
       "    </tr>\n",
       "  </tbody>\n",
       "</table>\n",
       "</div>"
      ],
      "text/plain": [
       "      targeted_productivity    smv     wip  over_time  incentive  idle_time  \\\n",
       "team                                                                          \n",
       "1                      0.80  22.52  1418.0     3600.0       30.0        0.0   \n",
       "2                      0.80  15.28   928.0     3000.0        0.0        0.0   \n",
       "3                      0.80  22.52  1129.0     6600.0       40.0        0.0   \n",
       "4                      0.75  22.52   864.0     6060.0        0.0        0.0   \n",
       "5                      0.70  20.79   699.0     6960.0        0.0        0.0   \n",
       "6                      0.75  11.61   913.0     3660.0       23.0        0.0   \n",
       "7                      0.75  23.54   970.0     5820.0        0.0        0.0   \n",
       "8                      0.70  15.09  1074.0     3360.0        0.0        0.0   \n",
       "9                      0.80  18.79  1149.5     3900.0       29.5        0.0   \n",
       "10                     0.75  21.25  1188.0     5340.0        0.0        0.0   \n",
       "11                     0.75  11.41   749.0     3240.0       34.0        0.0   \n",
       "12                     0.80  11.61  1069.0     3780.0       40.0        0.0   \n",
       "\n",
       "      idle_men  no_of_style_change  no_of_workers  actual_productivity  \n",
       "team                                                                    \n",
       "1          0.0                 0.0           56.5             0.850427  \n",
       "2          0.0                 0.0           45.0             0.800238  \n",
       "3          0.0                 0.0           56.0             0.800511  \n",
       "4          0.0                 0.0           56.0             0.800393  \n",
       "5          0.0                 0.0           58.0             0.700618  \n",
       "6          0.0                 0.0           31.5             0.750651  \n",
       "7          0.0                 0.0           56.0             0.682975  \n",
       "8          0.0                 0.0           52.0             0.700135  \n",
       "9          0.0                 0.0           52.0             0.754346  \n",
       "10         0.0                 0.0           50.0             0.750608  \n",
       "11         0.0                 0.0           54.0             0.700527  \n",
       "12         0.0                 0.0           31.5             0.800402  "
      ]
     },
     "execution_count": 26,
     "metadata": {},
     "output_type": "execute_result"
    }
   ],
   "source": [
    "#Groups data by their team and each column represents the median of the team. \n",
    "#Cleans data a bit more\n",
    "subdf = df.groupby('team').median()\n",
    "subdf"
   ]
  },
  {
   "cell_type": "code",
   "execution_count": 29,
   "metadata": {},
   "outputs": [
    {
     "data": {
      "text/plain": [
       "<AxesSubplot:>"
      ]
     },
     "execution_count": 29,
     "metadata": {},
     "output_type": "execute_result"
    },
    {
     "data": {
      "image/png": "[encoded data removed]",
      "text/plain": [
       "<Figure size 864x576 with 2 Axes>"
      ]
     },
     "metadata": {},
     "output_type": "display_data"
    }
   ],
   "source": [
    "f, axes = plt.subplots(1, 1, figsize=(12,8))\n",
    "sns.heatmap(subdf.corr(), vmin = -1, vmax = +1, annot=True, fmt='.2')"
   ]
  },
  {
   "cell_type": "code",
   "execution_count": 34,
   "metadata": {},
   "outputs": [
    {
     "data": {
      "text/html": [
       "<div>\n",
       "<style scoped>\n",
       "    .dataframe tbody tr th:only-of-type {\n",
       "        vertical-align: middle;\n",
       "    }\n",
       "\n",
       "    .dataframe tbody tr th {\n",
       "        vertical-align: top;\n",
       "    }\n",
       "\n",
       "    .dataframe thead th {\n",
       "        text-align: right;\n",
       "    }\n",
       "</style>\n",
       "<table border=\"1\" class=\"dataframe\">\n",
       "  <thead>\n",
       "    <tr style=\"text-align: right;\">\n",
       "      <th></th>\n",
       "      <th>targeted_productivity</th>\n",
       "      <th>smv</th>\n",
       "      <th>wip</th>\n",
       "      <th>over_time</th>\n",
       "      <th>incentive</th>\n",
       "      <th>no_of_workers</th>\n",
       "      <th>actual_productivity</th>\n",
       "    </tr>\n",
       "    <tr>\n",
       "      <th>team</th>\n",
       "      <th></th>\n",
       "      <th></th>\n",
       "      <th></th>\n",
       "      <th></th>\n",
       "      <th></th>\n",
       "      <th></th>\n",
       "      <th></th>\n",
       "    </tr>\n",
       "  </thead>\n",
       "  <tbody>\n",
       "    <tr>\n",
       "      <th>1</th>\n",
       "      <td>0.80</td>\n",
       "      <td>22.52</td>\n",
       "      <td>1418.0</td>\n",
       "      <td>3600.0</td>\n",
       "      <td>30.0</td>\n",
       "      <td>56.5</td>\n",
       "      <td>0.850427</td>\n",
       "    </tr>\n",
       "    <tr>\n",
       "      <th>2</th>\n",
       "      <td>0.80</td>\n",
       "      <td>15.28</td>\n",
       "      <td>928.0</td>\n",
       "      <td>3000.0</td>\n",
       "      <td>0.0</td>\n",
       "      <td>45.0</td>\n",
       "      <td>0.800238</td>\n",
       "    </tr>\n",
       "    <tr>\n",
       "      <th>3</th>\n",
       "      <td>0.80</td>\n",
       "      <td>22.52</td>\n",
       "      <td>1129.0</td>\n",
       "      <td>6600.0</td>\n",
       "      <td>40.0</td>\n",
       "      <td>56.0</td>\n",
       "      <td>0.800511</td>\n",
       "    </tr>\n",
       "    <tr>\n",
       "      <th>4</th>\n",
       "      <td>0.75</td>\n",
       "      <td>22.52</td>\n",
       "      <td>864.0</td>\n",
       "      <td>6060.0</td>\n",
       "      <td>0.0</td>\n",
       "      <td>56.0</td>\n",
       "      <td>0.800393</td>\n",
       "    </tr>\n",
       "    <tr>\n",
       "      <th>5</th>\n",
       "      <td>0.70</td>\n",
       "      <td>20.79</td>\n",
       "      <td>699.0</td>\n",
       "      <td>6960.0</td>\n",
       "      <td>0.0</td>\n",
       "      <td>58.0</td>\n",
       "      <td>0.700618</td>\n",
       "    </tr>\n",
       "    <tr>\n",
       "      <th>6</th>\n",
       "      <td>0.75</td>\n",
       "      <td>11.61</td>\n",
       "      <td>913.0</td>\n",
       "      <td>3660.0</td>\n",
       "      <td>23.0</td>\n",
       "      <td>31.5</td>\n",
       "      <td>0.750651</td>\n",
       "    </tr>\n",
       "    <tr>\n",
       "      <th>7</th>\n",
       "      <td>0.75</td>\n",
       "      <td>23.54</td>\n",
       "      <td>970.0</td>\n",
       "      <td>5820.0</td>\n",
       "      <td>0.0</td>\n",
       "      <td>56.0</td>\n",
       "      <td>0.682975</td>\n",
       "    </tr>\n",
       "    <tr>\n",
       "      <th>8</th>\n",
       "      <td>0.70</td>\n",
       "      <td>15.09</td>\n",
       "      <td>1074.0</td>\n",
       "      <td>3360.0</td>\n",
       "      <td>0.0</td>\n",
       "      <td>52.0</td>\n",
       "      <td>0.700135</td>\n",
       "    </tr>\n",
       "    <tr>\n",
       "      <th>9</th>\n",
       "      <td>0.80</td>\n",
       "      <td>18.79</td>\n",
       "      <td>1149.5</td>\n",
       "      <td>3900.0</td>\n",
       "      <td>29.5</td>\n",
       "      <td>52.0</td>\n",
       "      <td>0.754346</td>\n",
       "    </tr>\n",
       "    <tr>\n",
       "      <th>10</th>\n",
       "      <td>0.75</td>\n",
       "      <td>21.25</td>\n",
       "      <td>1188.0</td>\n",
       "      <td>5340.0</td>\n",
       "      <td>0.0</td>\n",
       "      <td>50.0</td>\n",
       "      <td>0.750608</td>\n",
       "    </tr>\n",
       "    <tr>\n",
       "      <th>11</th>\n",
       "      <td>0.75</td>\n",
       "      <td>11.41</td>\n",
       "      <td>749.0</td>\n",
       "      <td>3240.0</td>\n",
       "      <td>34.0</td>\n",
       "      <td>54.0</td>\n",
       "      <td>0.700527</td>\n",
       "    </tr>\n",
       "    <tr>\n",
       "      <th>12</th>\n",
       "      <td>0.80</td>\n",
       "      <td>11.61</td>\n",
       "      <td>1069.0</td>\n",
       "      <td>3780.0</td>\n",
       "      <td>40.0</td>\n",
       "      <td>31.5</td>\n",
       "      <td>0.800402</td>\n",
       "    </tr>\n",
       "  </tbody>\n",
       "</table>\n",
       "</div>"
      ],
      "text/plain": [
       "      targeted_productivity    smv     wip  over_time  incentive  \\\n",
       "team                                                               \n",
       "1                      0.80  22.52  1418.0     3600.0       30.0   \n",
       "2                      0.80  15.28   928.0     3000.0        0.0   \n",
       "3                      0.80  22.52  1129.0     6600.0       40.0   \n",
       "4                      0.75  22.52   864.0     6060.0        0.0   \n",
       "5                      0.70  20.79   699.0     6960.0        0.0   \n",
       "6                      0.75  11.61   913.0     3660.0       23.0   \n",
       "7                      0.75  23.54   970.0     5820.0        0.0   \n",
       "8                      0.70  15.09  1074.0     3360.0        0.0   \n",
       "9                      0.80  18.79  1149.5     3900.0       29.5   \n",
       "10                     0.75  21.25  1188.0     5340.0        0.0   \n",
       "11                     0.75  11.41   749.0     3240.0       34.0   \n",
       "12                     0.80  11.61  1069.0     3780.0       40.0   \n",
       "\n",
       "      no_of_workers  actual_productivity  \n",
       "team                                      \n",
       "1              56.5             0.850427  \n",
       "2              45.0             0.800238  \n",
       "3              56.0             0.800511  \n",
       "4              56.0             0.800393  \n",
       "5              58.0             0.700618  \n",
       "6              31.5             0.750651  \n",
       "7              56.0             0.682975  \n",
       "8              52.0             0.700135  \n",
       "9              52.0             0.754346  \n",
       "10             50.0             0.750608  \n",
       "11             54.0             0.700527  \n",
       "12             31.5             0.800402  "
      ]
     },
     "execution_count": 34,
     "metadata": {},
     "output_type": "execute_result"
    }
   ],
   "source": [
    "subdf.drop(columns = \"idle_time\", inplace = True)\n",
    "subdf.drop(columns = \"idle_men\", inplace = True)\n",
    "subdf.drop(columns = \"no_of_style_change\", inplace = True)\n",
    "subdf"
   ]
  },
  {
   "cell_type": "code",
   "execution_count": 35,
   "metadata": {},
   "outputs": [
    {
     "data": {
      "text/plain": [
       "<AxesSubplot:>"
      ]
     },
     "execution_count": 35,
     "metadata": {},
     "output_type": "execute_result"
    },
    {
     "data": {
      "image/png": "[encoded data removed]",
      "text/plain": [
       "<Figure size 864x576 with 2 Axes>"
      ]
     },
     "metadata": {},
     "output_type": "display_data"
    }
   ],
   "source": [
    "f, axes = plt.subplots(1, 1, figsize=(12,8))\n",
    "sns.heatmap(subdf.corr(), vmin = -1, vmax = +1, annot=True, fmt='.2')\n"
   ]
  },
  {
   "cell_type": "markdown",
   "metadata": {},
   "source": [
    "SMV: Standard Minute Value, it is the allocated time for a task\n",
    "WIP: Work in progress. Includes the number of unfinished items for products\n",
    "Overtime: amount of overtime by each team in minutes\n",
    "Incentive: amount of financial incentive (in BDT) that enables or motivates a particular course of action"
   ]
  },
  {
   "cell_type": "markdown",
   "metadata": {},
   "source": [
    "Focus on the last row.\n",
    "Can see that more incentive is positively correlated and over_time is negatively correlted with productivity\n",
    "Means that we have to find the optimal incentive to give to boost production and ensure low overtime.\n",
    "We will also test other stuff just in case"
   ]
  },
  {
   "cell_type": "code",
   "execution_count": 36,
   "metadata": {},
   "outputs": [
    {
     "name": "stderr",
     "output_type": "stream",
     "text": [
      "C:\\Users\\yeohw\\anaconda3\\lib\\site-packages\\seaborn\\distributions.py:2551: FutureWarning: `distplot` is a deprecated function and will be removed in a future version. Please adapt your code to use either `displot` (a figure-level function with similar flexibility) or `histplot` (an axes-level function for histograms).\n",
      "  warnings.warn(msg, FutureWarning)\n"
     ]
    },
    {
     "data": {
      "text/plain": [
       "<AxesSubplot:xlabel='actual_productivity', ylabel='Density'>"
      ]
     },
     "execution_count": 36,
     "metadata": {},
     "output_type": "execute_result"
    },
    {
     "data": {
      "image/png": "[encoded data removed]",
      "text/plain": [
       "<Figure size 432x288 with 1 Axes>"
      ]
     },
     "metadata": {},
     "output_type": "display_data"
    }
   ],
   "source": [
    "sns.distplot(df.actual_productivity)"
   ]
  },
  {
   "cell_type": "markdown",
   "metadata": {},
   "source": [
    "# Machine Learning Model"
   ]
  },
  {
   "cell_type": "code",
   "execution_count": 63,
   "metadata": {},
   "outputs": [],
   "source": [
    "from sklearn.tree import plot_tree\n",
    "from sklearn.metrics import confusion_matrix\n",
    "from sklearn.tree import DecisionTreeClassifier\n",
    "from sklearn.model_selection import train_test_split\n",
    "#Predictors\n",
    "x = pd.DataFrame(df[[\"smv\", \"wip\", \"over_time\", \"incentive\"]])\n",
    "\n",
    "#To be tested against\n",
    "y_original = df[['actual_productivity']]\n"
   ]
  },
  {
   "cell_type": "code",
   "execution_count": 64,
   "metadata": {},
   "outputs": [
    {
     "name": "stdout",
     "output_type": "stream",
     "text": [
      "smv 0.0%\n",
      "wip 42.27%\n",
      "over_time 0.0%\n",
      "incentive 0.0%\n"
     ]
    }
   ],
   "source": [
    "#Checks for missing value\n",
    "total_size = len(x)\n",
    "for factor in x.columns:\n",
    "    nan_count = len(x[factor].loc[x[factor].isna()])\n",
    "    print(f'{factor} {round(100 * nan_count / total_size, 2)}%')"
   ]
  },
  {
   "cell_type": "markdown",
   "metadata": {},
   "source": [
    "WIP has too many missing values, so we are dropping that column"
   ]
  },
  {
   "cell_type": "code",
   "execution_count": 65,
   "metadata": {},
   "outputs": [],
   "source": [
    "#Predictors\n",
    "#Predictors\n",
    "X = pd.DataFrame(df[[\"smv\", \"over_time\", \"incentive\"]])"
   ]
  },
  {
   "cell_type": "code",
   "execution_count": 66,
   "metadata": {},
   "outputs": [
    {
     "data": {
      "text/plain": [
       "array([798, 715, 586, ..., 241, 141,  71], dtype=int64)"
      ]
     },
     "execution_count": 66,
     "metadata": {},
     "output_type": "execute_result"
    }
   ],
   "source": [
    "from sklearn import preprocessing\n",
    "from sklearn import utils\n",
    "\n",
    "#convert y values to categorical values\n",
    "lab = preprocessing.LabelEncoder()\n",
    "y = lab.fit_transform(y_original)\n",
    "\n",
    "#view transformed values\n",
    "y\n",
    "\n"
   ]
  },
  {
   "cell_type": "markdown",
   "metadata": {},
   "source": [
    "# Below is all copied code. My prev sem proj didnt work so ye. \n"
   ]
  },
  {
   "cell_type": "code",
   "execution_count": 94,
   "metadata": {},
   "outputs": [],
   "source": [
    "from sklearn.model_selection import train_test_split\n",
    "x_train,x_test,y_train,y_test = train_test_split(X,y,test_size = 0.3)"
   ]
  },
  {
   "cell_type": "code",
   "execution_count": 121,
   "metadata": {},
   "outputs": [],
   "source": [
    "import pandas as pd\n",
    "data = pd.read_csv(\"garments_worker_productivity.csv\")\n",
    "\n",
    "# changing error in sweing\n",
    "data['department'] = data['department'].replace(['sweing'],['sewing'])\n",
    "\n",
    "data.date = pd.to_datetime(data.date,dayfirst = False)\n",
    "data[['month']] = pd.DataFrame(data.date.dt.month)\n",
    "# data[['day']] = pd.DataFrame(data.date.dt.day)\n",
    "data[['year']] = pd.DataFrame(data.date.dt.year)\n",
    "data.drop(columns = ['date'],inplace = True)\n",
    "\n",
    "from sklearn.preprocessing import PowerTransformer\n",
    "p = PowerTransformer()\n",
    "data['actual_productivity'] = p.fit_transform(data[['actual_productivity']])\n",
    "\n",
    "x = data.iloc[:,0:15]\n",
    "y = data[['actual_productivity']] \n",
    "x = data.drop(columns = ['actual_productivity'])\n",
    "\n",
    "\n",
    "nominal_col = [0,1,2]\n",
    "numeric_col = [3,4,9,10,11,13,14]\n",
    "KBins_col = [5]\n",
    "Bina_col = [7,8,12]\n",
    "null_col = [6]\n",
    "\n",
    "from sklearn.model_selection import train_test_split\n",
    "x_train,x_test,y_train,y_test = train_test_split(x,y,test_size = 0.3) "
   ]
  },
  {
   "cell_type": "code",
   "execution_count": 122,
   "metadata": {},
   "outputs": [
    {
     "data": {
      "text/html": [
       "<style>div.sk-top-container {color: black;background-color: white;}div.sk-toggleable {background-color: white;}label.sk-toggleable__label {cursor: pointer;display: block;width: 100%;margin-bottom: 0;padding: 0.2em 0.3em;box-sizing: border-box;text-align: center;}div.sk-toggleable__content {max-height: 0;max-width: 0;overflow: hidden;text-align: left;background-color: #f0f8ff;}div.sk-toggleable__content pre {margin: 0.2em;color: black;border-radius: 0.25em;background-color: #f0f8ff;}input.sk-toggleable__control:checked~div.sk-toggleable__content {max-height: 200px;max-width: 100%;overflow: auto;}div.sk-estimator input.sk-toggleable__control:checked~label.sk-toggleable__label {background-color: #d4ebff;}div.sk-label input.sk-toggleable__control:checked~label.sk-toggleable__label {background-color: #d4ebff;}input.sk-hidden--visually {border: 0;clip: rect(1px 1px 1px 1px);clip: rect(1px, 1px, 1px, 1px);height: 1px;margin: -1px;overflow: hidden;padding: 0;position: absolute;width: 1px;}div.sk-estimator {font-family: monospace;background-color: #f0f8ff;margin: 0.25em 0.25em;border: 1px dotted black;border-radius: 0.25em;box-sizing: border-box;}div.sk-estimator:hover {background-color: #d4ebff;}div.sk-parallel-item::after {content: \"\";width: 100%;border-bottom: 1px solid gray;flex-grow: 1;}div.sk-label:hover label.sk-toggleable__label {background-color: #d4ebff;}div.sk-serial::before {content: \"\";position: absolute;border-left: 1px solid gray;box-sizing: border-box;top: 2em;bottom: 0;left: 50%;}div.sk-serial {display: flex;flex-direction: column;align-items: center;background-color: white;}div.sk-item {z-index: 1;}div.sk-parallel {display: flex;align-items: stretch;justify-content: center;background-color: white;}div.sk-parallel-item {display: flex;flex-direction: column;position: relative;background-color: white;}div.sk-parallel-item:first-child::after {align-self: flex-end;width: 50%;}div.sk-parallel-item:last-child::after {align-self: flex-start;width: 50%;}div.sk-parallel-item:only-child::after {width: 0;}div.sk-dashed-wrapped {border: 1px dashed gray;margin: 0.2em;box-sizing: border-box;padding-bottom: 0.1em;background-color: white;position: relative;}div.sk-label label {font-family: monospace;font-weight: bold;background-color: white;display: inline-block;line-height: 1.2em;}div.sk-label-container {position: relative;z-index: 2;text-align: center;}div.sk-container {display: inline-block;position: relative;}</style><div class=\"sk-top-container\"><div class=\"sk-container\"><div class=\"sk-item sk-dashed-wrapped\"><div class=\"sk-label-container\"><div class=\"sk-label sk-toggleable\"><input class=\"sk-toggleable__control sk-hidden--visually\" id=\"37aa5157-05b6-4ce9-a787-e74d0b967547\" type=\"checkbox\" ><label class=\"sk-toggleable__label\" for=\"37aa5157-05b6-4ce9-a787-e74d0b967547\">ColumnTransformer</label><div class=\"sk-toggleable__content\"><pre>ColumnTransformer(remainder='passthrough',\n",
       "                  transformers=[('onehotencoder', OneHotEncoder(sparse=False),\n",
       "                                 [0, 1, 2]),\n",
       "                                ('powertransformer', PowerTransformer(),\n",
       "                                 [3, 4, 9, 10, 11, 13, 14]),\n",
       "                                ('kbinsdiscretizer', KBinsDiscretizer(), [5]),\n",
       "                                ('binarizer', Binarizer(threshold=55),\n",
       "                                 [7, 8, 12]),\n",
       "                                ('simpleimputer', SimpleImputer(), [6])])</pre></div></div></div><div class=\"sk-parallel\"><div class=\"sk-parallel-item\"><div class=\"sk-item\"><div class=\"sk-label-container\"><div class=\"sk-label sk-toggleable\"><input class=\"sk-toggleable__control sk-hidden--visually\" id=\"b9a298d1-50af-4aec-80cf-f914281d55c0\" type=\"checkbox\" ><label class=\"sk-toggleable__label\" for=\"b9a298d1-50af-4aec-80cf-f914281d55c0\">onehotencoder</label><div class=\"sk-toggleable__content\"><pre>[0, 1, 2]</pre></div></div></div><div class=\"sk-serial\"><div class=\"sk-item\"><div class=\"sk-estimator sk-toggleable\"><input class=\"sk-toggleable__control sk-hidden--visually\" id=\"f02701f8-bdde-4293-b93d-d89659e9f856\" type=\"checkbox\" ><label class=\"sk-toggleable__label\" for=\"f02701f8-bdde-4293-b93d-d89659e9f856\">OneHotEncoder</label><div class=\"sk-toggleable__content\"><pre>OneHotEncoder(sparse=False)</pre></div></div></div></div></div></div><div class=\"sk-parallel-item\"><div class=\"sk-item\"><div class=\"sk-label-container\"><div class=\"sk-label sk-toggleable\"><input class=\"sk-toggleable__control sk-hidden--visually\" id=\"cd1345e0-c04d-4bc7-b084-f5c8203478e9\" type=\"checkbox\" ><label class=\"sk-toggleable__label\" for=\"cd1345e0-c04d-4bc7-b084-f5c8203478e9\">powertransformer</label><div class=\"sk-toggleable__content\"><pre>[3, 4, 9, 10, 11, 13, 14]</pre></div></div></div><div class=\"sk-serial\"><div class=\"sk-item\"><div class=\"sk-estimator sk-toggleable\"><input class=\"sk-toggleable__control sk-hidden--visually\" id=\"b74a6058-7b2a-4f21-a16c-e5b87ba7aef6\" type=\"checkbox\" ><label class=\"sk-toggleable__label\" for=\"b74a6058-7b2a-4f21-a16c-e5b87ba7aef6\">PowerTransformer</label><div class=\"sk-toggleable__content\"><pre>PowerTransformer()</pre></div></div></div></div></div></div><div class=\"sk-parallel-item\"><div class=\"sk-item\"><div class=\"sk-label-container\"><div class=\"sk-label sk-toggleable\"><input class=\"sk-toggleable__control sk-hidden--visually\" id=\"8eb49455-344e-40db-a761-842271a4e276\" type=\"checkbox\" ><label class=\"sk-toggleable__label\" for=\"8eb49455-344e-40db-a761-842271a4e276\">kbinsdiscretizer</label><div class=\"sk-toggleable__content\"><pre>[5]</pre></div></div></div><div class=\"sk-serial\"><div class=\"sk-item\"><div class=\"sk-estimator sk-toggleable\"><input class=\"sk-toggleable__control sk-hidden--visually\" id=\"4fb42206-5a06-4a8a-b165-f2236f631c04\" type=\"checkbox\" ><label class=\"sk-toggleable__label\" for=\"4fb42206-5a06-4a8a-b165-f2236f631c04\">KBinsDiscretizer</label><div class=\"sk-toggleable__content\"><pre>KBinsDiscretizer()</pre></div></div></div></div></div></div><div class=\"sk-parallel-item\"><div class=\"sk-item\"><div class=\"sk-label-container\"><div class=\"sk-label sk-toggleable\"><input class=\"sk-toggleable__control sk-hidden--visually\" id=\"a861db96-667e-4334-af1c-8ca0b1c1f693\" type=\"checkbox\" ><label class=\"sk-toggleable__label\" for=\"a861db96-667e-4334-af1c-8ca0b1c1f693\">binarizer</label><div class=\"sk-toggleable__content\"><pre>[7, 8, 12]</pre></div></div></div><div class=\"sk-serial\"><div class=\"sk-item\"><div class=\"sk-estimator sk-toggleable\"><input class=\"sk-toggleable__control sk-hidden--visually\" id=\"e236f076-cbf5-4e4e-83c4-32892ad1af06\" type=\"checkbox\" ><label class=\"sk-toggleable__label\" for=\"e236f076-cbf5-4e4e-83c4-32892ad1af06\">Binarizer</label><div class=\"sk-toggleable__content\"><pre>Binarizer(threshold=55)</pre></div></div></div></div></div></div><div class=\"sk-parallel-item\"><div class=\"sk-item\"><div class=\"sk-label-container\"><div class=\"sk-label sk-toggleable\"><input class=\"sk-toggleable__control sk-hidden--visually\" id=\"10755413-b674-4660-b553-f3b5200f2ab3\" type=\"checkbox\" ><label class=\"sk-toggleable__label\" for=\"10755413-b674-4660-b553-f3b5200f2ab3\">simpleimputer</label><div class=\"sk-toggleable__content\"><pre>[6]</pre></div></div></div><div class=\"sk-serial\"><div class=\"sk-item\"><div class=\"sk-estimator sk-toggleable\"><input class=\"sk-toggleable__control sk-hidden--visually\" id=\"8d50b2af-82c5-49a7-9e03-5cb457f7c1c8\" type=\"checkbox\" ><label class=\"sk-toggleable__label\" for=\"8d50b2af-82c5-49a7-9e03-5cb457f7c1c8\">SimpleImputer</label><div class=\"sk-toggleable__content\"><pre>SimpleImputer()</pre></div></div></div></div></div></div></div></div></div></div>"
      ],
      "text/plain": [
       "ColumnTransformer(remainder='passthrough',\n",
       "                  transformers=[('onehotencoder', OneHotEncoder(sparse=False),\n",
       "                                 [0, 1, 2]),\n",
       "                                ('powertransformer', PowerTransformer(),\n",
       "                                 [3, 4, 9, 10, 11, 13, 14]),\n",
       "                                ('kbinsdiscretizer', KBinsDiscretizer(), [5]),\n",
       "                                ('binarizer', Binarizer(threshold=55),\n",
       "                                 [7, 8, 12]),\n",
       "                                ('simpleimputer', SimpleImputer(), [6])])"
      ]
     },
     "execution_count": 122,
     "metadata": {},
     "output_type": "execute_result"
    }
   ],
   "source": [
    "from sklearn.preprocessing import OneHotEncoder,PowerTransformer,KBinsDiscretizer,Binarizer\n",
    "from sklearn.compose import make_column_transformer\n",
    "from sklearn.impute import SimpleImputer\n",
    "from sklearn import set_config\n",
    "trans = make_column_transformer((OneHotEncoder(sparse = False),nominal_col),\n",
    "                                (PowerTransformer(),numeric_col),\n",
    "                                (KBinsDiscretizer(),KBins_col),\n",
    "                                (Binarizer(threshold = 55),Bina_col),\n",
    "                                (SimpleImputer(),null_col),\n",
    "                                 remainder = 'passthrough')\n",
    "set_config(display = 'diagram')\n",
    "trans\n"
   ]
  },
  {
   "cell_type": "code",
   "execution_count": 123,
   "metadata": {},
   "outputs": [],
   "source": [
    "from sklearn.linear_model import LinearRegression\n",
    "from sklearn.pipeline import make_pipeline\n",
    "algorithm = LinearRegression()\n",
    "pipe = make_pipeline(trans,algorithm)\n"
   ]
  },
  {
   "cell_type": "code",
   "execution_count": 124,
   "metadata": {},
   "outputs": [
    {
     "data": {
      "text/html": [
       "<style>div.sk-top-container {color: black;background-color: white;}div.sk-toggleable {background-color: white;}label.sk-toggleable__label {cursor: pointer;display: block;width: 100%;margin-bottom: 0;padding: 0.2em 0.3em;box-sizing: border-box;text-align: center;}div.sk-toggleable__content {max-height: 0;max-width: 0;overflow: hidden;text-align: left;background-color: #f0f8ff;}div.sk-toggleable__content pre {margin: 0.2em;color: black;border-radius: 0.25em;background-color: #f0f8ff;}input.sk-toggleable__control:checked~div.sk-toggleable__content {max-height: 200px;max-width: 100%;overflow: auto;}div.sk-estimator input.sk-toggleable__control:checked~label.sk-toggleable__label {background-color: #d4ebff;}div.sk-label input.sk-toggleable__control:checked~label.sk-toggleable__label {background-color: #d4ebff;}input.sk-hidden--visually {border: 0;clip: rect(1px 1px 1px 1px);clip: rect(1px, 1px, 1px, 1px);height: 1px;margin: -1px;overflow: hidden;padding: 0;position: absolute;width: 1px;}div.sk-estimator {font-family: monospace;background-color: #f0f8ff;margin: 0.25em 0.25em;border: 1px dotted black;border-radius: 0.25em;box-sizing: border-box;}div.sk-estimator:hover {background-color: #d4ebff;}div.sk-parallel-item::after {content: \"\";width: 100%;border-bottom: 1px solid gray;flex-grow: 1;}div.sk-label:hover label.sk-toggleable__label {background-color: #d4ebff;}div.sk-serial::before {content: \"\";position: absolute;border-left: 1px solid gray;box-sizing: border-box;top: 2em;bottom: 0;left: 50%;}div.sk-serial {display: flex;flex-direction: column;align-items: center;background-color: white;}div.sk-item {z-index: 1;}div.sk-parallel {display: flex;align-items: stretch;justify-content: center;background-color: white;}div.sk-parallel-item {display: flex;flex-direction: column;position: relative;background-color: white;}div.sk-parallel-item:first-child::after {align-self: flex-end;width: 50%;}div.sk-parallel-item:last-child::after {align-self: flex-start;width: 50%;}div.sk-parallel-item:only-child::after {width: 0;}div.sk-dashed-wrapped {border: 1px dashed gray;margin: 0.2em;box-sizing: border-box;padding-bottom: 0.1em;background-color: white;position: relative;}div.sk-label label {font-family: monospace;font-weight: bold;background-color: white;display: inline-block;line-height: 1.2em;}div.sk-label-container {position: relative;z-index: 2;text-align: center;}div.sk-container {display: inline-block;position: relative;}</style><div class=\"sk-top-container\"><div class=\"sk-container\"><div class=\"sk-item\"><div class=\"sk-estimator sk-toggleable\"><input class=\"sk-toggleable__control sk-hidden--visually\" id=\"7af88843-8b8a-4cb9-b748-50742d18f4fa\" type=\"checkbox\" checked><label class=\"sk-toggleable__label\" for=\"7af88843-8b8a-4cb9-b748-50742d18f4fa\">LinearRegression</label><div class=\"sk-toggleable__content\"><pre>LinearRegression()</pre></div></div></div></div></div>"
      ],
      "text/plain": [
       "LinearRegression()"
      ]
     },
     "execution_count": 124,
     "metadata": {},
     "output_type": "execute_result"
    }
   ],
   "source": [
    "algorithm"
   ]
  },
  {
   "cell_type": "code",
   "execution_count": 125,
   "metadata": {},
   "outputs": [
    {
     "data": {
      "text/html": [
       "<style>div.sk-top-container {color: black;background-color: white;}div.sk-toggleable {background-color: white;}label.sk-toggleable__label {cursor: pointer;display: block;width: 100%;margin-bottom: 0;padding: 0.2em 0.3em;box-sizing: border-box;text-align: center;}div.sk-toggleable__content {max-height: 0;max-width: 0;overflow: hidden;text-align: left;background-color: #f0f8ff;}div.sk-toggleable__content pre {margin: 0.2em;color: black;border-radius: 0.25em;background-color: #f0f8ff;}input.sk-toggleable__control:checked~div.sk-toggleable__content {max-height: 200px;max-width: 100%;overflow: auto;}div.sk-estimator input.sk-toggleable__control:checked~label.sk-toggleable__label {background-color: #d4ebff;}div.sk-label input.sk-toggleable__control:checked~label.sk-toggleable__label {background-color: #d4ebff;}input.sk-hidden--visually {border: 0;clip: rect(1px 1px 1px 1px);clip: rect(1px, 1px, 1px, 1px);height: 1px;margin: -1px;overflow: hidden;padding: 0;position: absolute;width: 1px;}div.sk-estimator {font-family: monospace;background-color: #f0f8ff;margin: 0.25em 0.25em;border: 1px dotted black;border-radius: 0.25em;box-sizing: border-box;}div.sk-estimator:hover {background-color: #d4ebff;}div.sk-parallel-item::after {content: \"\";width: 100%;border-bottom: 1px solid gray;flex-grow: 1;}div.sk-label:hover label.sk-toggleable__label {background-color: #d4ebff;}div.sk-serial::before {content: \"\";position: absolute;border-left: 1px solid gray;box-sizing: border-box;top: 2em;bottom: 0;left: 50%;}div.sk-serial {display: flex;flex-direction: column;align-items: center;background-color: white;}div.sk-item {z-index: 1;}div.sk-parallel {display: flex;align-items: stretch;justify-content: center;background-color: white;}div.sk-parallel-item {display: flex;flex-direction: column;position: relative;background-color: white;}div.sk-parallel-item:first-child::after {align-self: flex-end;width: 50%;}div.sk-parallel-item:last-child::after {align-self: flex-start;width: 50%;}div.sk-parallel-item:only-child::after {width: 0;}div.sk-dashed-wrapped {border: 1px dashed gray;margin: 0.2em;box-sizing: border-box;padding-bottom: 0.1em;background-color: white;position: relative;}div.sk-label label {font-family: monospace;font-weight: bold;background-color: white;display: inline-block;line-height: 1.2em;}div.sk-label-container {position: relative;z-index: 2;text-align: center;}div.sk-container {display: inline-block;position: relative;}</style><div class=\"sk-top-container\"><div class=\"sk-container\"><div class=\"sk-item sk-dashed-wrapped\"><div class=\"sk-label-container\"><div class=\"sk-label sk-toggleable\"><input class=\"sk-toggleable__control sk-hidden--visually\" id=\"d9fa2c36-bb8a-43a0-be05-1f2eb22a48d1\" type=\"checkbox\" ><label class=\"sk-toggleable__label\" for=\"d9fa2c36-bb8a-43a0-be05-1f2eb22a48d1\">Pipeline</label><div class=\"sk-toggleable__content\"><pre>Pipeline(steps=[('columntransformer',\n",
       "                 ColumnTransformer(remainder='passthrough',\n",
       "                                   transformers=[('onehotencoder',\n",
       "                                                  OneHotEncoder(sparse=False),\n",
       "                                                  [0, 1, 2]),\n",
       "                                                 ('powertransformer',\n",
       "                                                  PowerTransformer(),\n",
       "                                                  [3, 4, 9, 10, 11, 13, 14]),\n",
       "                                                 ('kbinsdiscretizer',\n",
       "                                                  KBinsDiscretizer(), [5]),\n",
       "                                                 ('binarizer',\n",
       "                                                  Binarizer(threshold=55),\n",
       "                                                  [7, 8, 12]),\n",
       "                                                 ('simpleimputer',\n",
       "                                                  SimpleImputer(), [6])])),\n",
       "                ('linearregression', LinearRegression())])</pre></div></div></div><div class=\"sk-serial\"><div class=\"sk-item sk-dashed-wrapped\"><div class=\"sk-label-container\"><div class=\"sk-label sk-toggleable\"><input class=\"sk-toggleable__control sk-hidden--visually\" id=\"13f8aa22-edc3-4940-9faf-dce9bdc76cb1\" type=\"checkbox\" ><label class=\"sk-toggleable__label\" for=\"13f8aa22-edc3-4940-9faf-dce9bdc76cb1\">columntransformer: ColumnTransformer</label><div class=\"sk-toggleable__content\"><pre>ColumnTransformer(remainder='passthrough',\n",
       "                  transformers=[('onehotencoder', OneHotEncoder(sparse=False),\n",
       "                                 [0, 1, 2]),\n",
       "                                ('powertransformer', PowerTransformer(),\n",
       "                                 [3, 4, 9, 10, 11, 13, 14]),\n",
       "                                ('kbinsdiscretizer', KBinsDiscretizer(), [5]),\n",
       "                                ('binarizer', Binarizer(threshold=55),\n",
       "                                 [7, 8, 12]),\n",
       "                                ('simpleimputer', SimpleImputer(), [6])])</pre></div></div></div><div class=\"sk-parallel\"><div class=\"sk-parallel-item\"><div class=\"sk-item\"><div class=\"sk-label-container\"><div class=\"sk-label sk-toggleable\"><input class=\"sk-toggleable__control sk-hidden--visually\" id=\"bff9531e-b285-46cb-8cc3-6a032bf466c8\" type=\"checkbox\" ><label class=\"sk-toggleable__label\" for=\"bff9531e-b285-46cb-8cc3-6a032bf466c8\">onehotencoder</label><div class=\"sk-toggleable__content\"><pre>[0, 1, 2]</pre></div></div></div><div class=\"sk-serial\"><div class=\"sk-item\"><div class=\"sk-estimator sk-toggleable\"><input class=\"sk-toggleable__control sk-hidden--visually\" id=\"6f6db9e2-d05e-49c7-a853-5985bde0aa5e\" type=\"checkbox\" ><label class=\"sk-toggleable__label\" for=\"6f6db9e2-d05e-49c7-a853-5985bde0aa5e\">OneHotEncoder</label><div class=\"sk-toggleable__content\"><pre>OneHotEncoder(sparse=False)</pre></div></div></div></div></div></div><div class=\"sk-parallel-item\"><div class=\"sk-item\"><div class=\"sk-label-container\"><div class=\"sk-label sk-toggleable\"><input class=\"sk-toggleable__control sk-hidden--visually\" id=\"70026280-9d9e-44ac-9b00-3fb6746528b3\" type=\"checkbox\" ><label class=\"sk-toggleable__label\" for=\"70026280-9d9e-44ac-9b00-3fb6746528b3\">powertransformer</label><div class=\"sk-toggleable__content\"><pre>[3, 4, 9, 10, 11, 13, 14]</pre></div></div></div><div class=\"sk-serial\"><div class=\"sk-item\"><div class=\"sk-estimator sk-toggleable\"><input class=\"sk-toggleable__control sk-hidden--visually\" id=\"8c36f60c-8450-48eb-8b96-c2b7c9f803ab\" type=\"checkbox\" ><label class=\"sk-toggleable__label\" for=\"8c36f60c-8450-48eb-8b96-c2b7c9f803ab\">PowerTransformer</label><div class=\"sk-toggleable__content\"><pre>PowerTransformer()</pre></div></div></div></div></div></div><div class=\"sk-parallel-item\"><div class=\"sk-item\"><div class=\"sk-label-container\"><div class=\"sk-label sk-toggleable\"><input class=\"sk-toggleable__control sk-hidden--visually\" id=\"ad760c68-51c7-49fa-aa49-8cd9f8233f3e\" type=\"checkbox\" ><label class=\"sk-toggleable__label\" for=\"ad760c68-51c7-49fa-aa49-8cd9f8233f3e\">kbinsdiscretizer</label><div class=\"sk-toggleable__content\"><pre>[5]</pre></div></div></div><div class=\"sk-serial\"><div class=\"sk-item\"><div class=\"sk-estimator sk-toggleable\"><input class=\"sk-toggleable__control sk-hidden--visually\" id=\"01abfa03-cdce-465d-8297-945fec578090\" type=\"checkbox\" ><label class=\"sk-toggleable__label\" for=\"01abfa03-cdce-465d-8297-945fec578090\">KBinsDiscretizer</label><div class=\"sk-toggleable__content\"><pre>KBinsDiscretizer()</pre></div></div></div></div></div></div><div class=\"sk-parallel-item\"><div class=\"sk-item\"><div class=\"sk-label-container\"><div class=\"sk-label sk-toggleable\"><input class=\"sk-toggleable__control sk-hidden--visually\" id=\"8d49de02-a0bf-4727-afbd-e53115226591\" type=\"checkbox\" ><label class=\"sk-toggleable__label\" for=\"8d49de02-a0bf-4727-afbd-e53115226591\">binarizer</label><div class=\"sk-toggleable__content\"><pre>[7, 8, 12]</pre></div></div></div><div class=\"sk-serial\"><div class=\"sk-item\"><div class=\"sk-estimator sk-toggleable\"><input class=\"sk-toggleable__control sk-hidden--visually\" id=\"3f947a4a-24a7-43f3-8284-ba189a61d91d\" type=\"checkbox\" ><label class=\"sk-toggleable__label\" for=\"3f947a4a-24a7-43f3-8284-ba189a61d91d\">Binarizer</label><div class=\"sk-toggleable__content\"><pre>Binarizer(threshold=55)</pre></div></div></div></div></div></div><div class=\"sk-parallel-item\"><div class=\"sk-item\"><div class=\"sk-label-container\"><div class=\"sk-label sk-toggleable\"><input class=\"sk-toggleable__control sk-hidden--visually\" id=\"36fd67c3-59b9-4579-8eee-871d815ad771\" type=\"checkbox\" ><label class=\"sk-toggleable__label\" for=\"36fd67c3-59b9-4579-8eee-871d815ad771\">simpleimputer</label><div class=\"sk-toggleable__content\"><pre>[6]</pre></div></div></div><div class=\"sk-serial\"><div class=\"sk-item\"><div class=\"sk-estimator sk-toggleable\"><input class=\"sk-toggleable__control sk-hidden--visually\" id=\"60726a15-54c8-4e1d-a84f-e0ba66d74711\" type=\"checkbox\" ><label class=\"sk-toggleable__label\" for=\"60726a15-54c8-4e1d-a84f-e0ba66d74711\">SimpleImputer</label><div class=\"sk-toggleable__content\"><pre>SimpleImputer()</pre></div></div></div></div></div></div></div></div><div class=\"sk-item\"><div class=\"sk-estimator sk-toggleable\"><input class=\"sk-toggleable__control sk-hidden--visually\" id=\"ceaa4877-6167-4f83-9702-4cb997b5be2f\" type=\"checkbox\" ><label class=\"sk-toggleable__label\" for=\"ceaa4877-6167-4f83-9702-4cb997b5be2f\">LinearRegression</label><div class=\"sk-toggleable__content\"><pre>LinearRegression()</pre></div></div></div></div></div></div></div>"
      ],
      "text/plain": [
       "Pipeline(steps=[('columntransformer',\n",
       "                 ColumnTransformer(remainder='passthrough',\n",
       "                                   transformers=[('onehotencoder',\n",
       "                                                  OneHotEncoder(sparse=False),\n",
       "                                                  [0, 1, 2]),\n",
       "                                                 ('powertransformer',\n",
       "                                                  PowerTransformer(),\n",
       "                                                  [3, 4, 9, 10, 11, 13, 14]),\n",
       "                                                 ('kbinsdiscretizer',\n",
       "                                                  KBinsDiscretizer(), [5]),\n",
       "                                                 ('binarizer',\n",
       "                                                  Binarizer(threshold=55),\n",
       "                                                  [7, 8, 12]),\n",
       "                                                 ('simpleimputer',\n",
       "                                                  SimpleImputer(), [6])])),\n",
       "                ('linearregression', LinearRegression())])"
      ]
     },
     "execution_count": 125,
     "metadata": {},
     "output_type": "execute_result"
    }
   ],
   "source": [
    "pipe\n"
   ]
  },
  {
   "cell_type": "code",
   "execution_count": 126,
   "metadata": {},
   "outputs": [],
   "source": [
    "from sklearn.linear_model import Lasso,Ridge\n",
    "from sklearn.pipeline import make_pipeline\n",
    "algorithm_1 = Lasso()\n",
    "algorithm_2 = Ridge()\n",
    "pipe_1 = make_pipeline(trans,algorithm_1)\n",
    "pipe_2 = make_pipeline(trans,algorithm_2)"
   ]
  },
  {
   "cell_type": "code",
   "execution_count": 127,
   "metadata": {},
   "outputs": [
    {
     "data": {
      "text/html": [
       "<style>div.sk-top-container {color: black;background-color: white;}div.sk-toggleable {background-color: white;}label.sk-toggleable__label {cursor: pointer;display: block;width: 100%;margin-bottom: 0;padding: 0.2em 0.3em;box-sizing: border-box;text-align: center;}div.sk-toggleable__content {max-height: 0;max-width: 0;overflow: hidden;text-align: left;background-color: #f0f8ff;}div.sk-toggleable__content pre {margin: 0.2em;color: black;border-radius: 0.25em;background-color: #f0f8ff;}input.sk-toggleable__control:checked~div.sk-toggleable__content {max-height: 200px;max-width: 100%;overflow: auto;}div.sk-estimator input.sk-toggleable__control:checked~label.sk-toggleable__label {background-color: #d4ebff;}div.sk-label input.sk-toggleable__control:checked~label.sk-toggleable__label {background-color: #d4ebff;}input.sk-hidden--visually {border: 0;clip: rect(1px 1px 1px 1px);clip: rect(1px, 1px, 1px, 1px);height: 1px;margin: -1px;overflow: hidden;padding: 0;position: absolute;width: 1px;}div.sk-estimator {font-family: monospace;background-color: #f0f8ff;margin: 0.25em 0.25em;border: 1px dotted black;border-radius: 0.25em;box-sizing: border-box;}div.sk-estimator:hover {background-color: #d4ebff;}div.sk-parallel-item::after {content: \"\";width: 100%;border-bottom: 1px solid gray;flex-grow: 1;}div.sk-label:hover label.sk-toggleable__label {background-color: #d4ebff;}div.sk-serial::before {content: \"\";position: absolute;border-left: 1px solid gray;box-sizing: border-box;top: 2em;bottom: 0;left: 50%;}div.sk-serial {display: flex;flex-direction: column;align-items: center;background-color: white;}div.sk-item {z-index: 1;}div.sk-parallel {display: flex;align-items: stretch;justify-content: center;background-color: white;}div.sk-parallel-item {display: flex;flex-direction: column;position: relative;background-color: white;}div.sk-parallel-item:first-child::after {align-self: flex-end;width: 50%;}div.sk-parallel-item:last-child::after {align-self: flex-start;width: 50%;}div.sk-parallel-item:only-child::after {width: 0;}div.sk-dashed-wrapped {border: 1px dashed gray;margin: 0.2em;box-sizing: border-box;padding-bottom: 0.1em;background-color: white;position: relative;}div.sk-label label {font-family: monospace;font-weight: bold;background-color: white;display: inline-block;line-height: 1.2em;}div.sk-label-container {position: relative;z-index: 2;text-align: center;}div.sk-container {display: inline-block;position: relative;}</style><div class=\"sk-top-container\"><div class=\"sk-container\"><div class=\"sk-item\"><div class=\"sk-estimator sk-toggleable\"><input class=\"sk-toggleable__control sk-hidden--visually\" id=\"e559bbb4-044b-433d-9b1a-34b2805cf9a4\" type=\"checkbox\" checked><label class=\"sk-toggleable__label\" for=\"e559bbb4-044b-433d-9b1a-34b2805cf9a4\">Lasso</label><div class=\"sk-toggleable__content\"><pre>Lasso()</pre></div></div></div></div></div>"
      ],
      "text/plain": [
       "Lasso()"
      ]
     },
     "execution_count": 127,
     "metadata": {},
     "output_type": "execute_result"
    }
   ],
   "source": [
    "algorithm_1"
   ]
  },
  {
   "cell_type": "code",
   "execution_count": 128,
   "metadata": {},
   "outputs": [
    {
     "data": {
      "text/html": [
       "<style>div.sk-top-container {color: black;background-color: white;}div.sk-toggleable {background-color: white;}label.sk-toggleable__label {cursor: pointer;display: block;width: 100%;margin-bottom: 0;padding: 0.2em 0.3em;box-sizing: border-box;text-align: center;}div.sk-toggleable__content {max-height: 0;max-width: 0;overflow: hidden;text-align: left;background-color: #f0f8ff;}div.sk-toggleable__content pre {margin: 0.2em;color: black;border-radius: 0.25em;background-color: #f0f8ff;}input.sk-toggleable__control:checked~div.sk-toggleable__content {max-height: 200px;max-width: 100%;overflow: auto;}div.sk-estimator input.sk-toggleable__control:checked~label.sk-toggleable__label {background-color: #d4ebff;}div.sk-label input.sk-toggleable__control:checked~label.sk-toggleable__label {background-color: #d4ebff;}input.sk-hidden--visually {border: 0;clip: rect(1px 1px 1px 1px);clip: rect(1px, 1px, 1px, 1px);height: 1px;margin: -1px;overflow: hidden;padding: 0;position: absolute;width: 1px;}div.sk-estimator {font-family: monospace;background-color: #f0f8ff;margin: 0.25em 0.25em;border: 1px dotted black;border-radius: 0.25em;box-sizing: border-box;}div.sk-estimator:hover {background-color: #d4ebff;}div.sk-parallel-item::after {content: \"\";width: 100%;border-bottom: 1px solid gray;flex-grow: 1;}div.sk-label:hover label.sk-toggleable__label {background-color: #d4ebff;}div.sk-serial::before {content: \"\";position: absolute;border-left: 1px solid gray;box-sizing: border-box;top: 2em;bottom: 0;left: 50%;}div.sk-serial {display: flex;flex-direction: column;align-items: center;background-color: white;}div.sk-item {z-index: 1;}div.sk-parallel {display: flex;align-items: stretch;justify-content: center;background-color: white;}div.sk-parallel-item {display: flex;flex-direction: column;position: relative;background-color: white;}div.sk-parallel-item:first-child::after {align-self: flex-end;width: 50%;}div.sk-parallel-item:last-child::after {align-self: flex-start;width: 50%;}div.sk-parallel-item:only-child::after {width: 0;}div.sk-dashed-wrapped {border: 1px dashed gray;margin: 0.2em;box-sizing: border-box;padding-bottom: 0.1em;background-color: white;position: relative;}div.sk-label label {font-family: monospace;font-weight: bold;background-color: white;display: inline-block;line-height: 1.2em;}div.sk-label-container {position: relative;z-index: 2;text-align: center;}div.sk-container {display: inline-block;position: relative;}</style><div class=\"sk-top-container\"><div class=\"sk-container\"><div class=\"sk-item\"><div class=\"sk-estimator sk-toggleable\"><input class=\"sk-toggleable__control sk-hidden--visually\" id=\"d7ea9ea6-4993-4faa-a1f2-ed07144eec9b\" type=\"checkbox\" checked><label class=\"sk-toggleable__label\" for=\"d7ea9ea6-4993-4faa-a1f2-ed07144eec9b\">Ridge</label><div class=\"sk-toggleable__content\"><pre>Ridge()</pre></div></div></div></div></div>"
      ],
      "text/plain": [
       "Ridge()"
      ]
     },
     "execution_count": 128,
     "metadata": {},
     "output_type": "execute_result"
    }
   ],
   "source": [
    "algorithm_2"
   ]
  },
  {
   "cell_type": "code",
   "execution_count": 129,
   "metadata": {},
   "outputs": [
    {
     "data": {
      "text/html": [
       "<style>div.sk-top-container {color: black;background-color: white;}div.sk-toggleable {background-color: white;}label.sk-toggleable__label {cursor: pointer;display: block;width: 100%;margin-bottom: 0;padding: 0.2em 0.3em;box-sizing: border-box;text-align: center;}div.sk-toggleable__content {max-height: 0;max-width: 0;overflow: hidden;text-align: left;background-color: #f0f8ff;}div.sk-toggleable__content pre {margin: 0.2em;color: black;border-radius: 0.25em;background-color: #f0f8ff;}input.sk-toggleable__control:checked~div.sk-toggleable__content {max-height: 200px;max-width: 100%;overflow: auto;}div.sk-estimator input.sk-toggleable__control:checked~label.sk-toggleable__label {background-color: #d4ebff;}div.sk-label input.sk-toggleable__control:checked~label.sk-toggleable__label {background-color: #d4ebff;}input.sk-hidden--visually {border: 0;clip: rect(1px 1px 1px 1px);clip: rect(1px, 1px, 1px, 1px);height: 1px;margin: -1px;overflow: hidden;padding: 0;position: absolute;width: 1px;}div.sk-estimator {font-family: monospace;background-color: #f0f8ff;margin: 0.25em 0.25em;border: 1px dotted black;border-radius: 0.25em;box-sizing: border-box;}div.sk-estimator:hover {background-color: #d4ebff;}div.sk-parallel-item::after {content: \"\";width: 100%;border-bottom: 1px solid gray;flex-grow: 1;}div.sk-label:hover label.sk-toggleable__label {background-color: #d4ebff;}div.sk-serial::before {content: \"\";position: absolute;border-left: 1px solid gray;box-sizing: border-box;top: 2em;bottom: 0;left: 50%;}div.sk-serial {display: flex;flex-direction: column;align-items: center;background-color: white;}div.sk-item {z-index: 1;}div.sk-parallel {display: flex;align-items: stretch;justify-content: center;background-color: white;}div.sk-parallel-item {display: flex;flex-direction: column;position: relative;background-color: white;}div.sk-parallel-item:first-child::after {align-self: flex-end;width: 50%;}div.sk-parallel-item:last-child::after {align-self: flex-start;width: 50%;}div.sk-parallel-item:only-child::after {width: 0;}div.sk-dashed-wrapped {border: 1px dashed gray;margin: 0.2em;box-sizing: border-box;padding-bottom: 0.1em;background-color: white;position: relative;}div.sk-label label {font-family: monospace;font-weight: bold;background-color: white;display: inline-block;line-height: 1.2em;}div.sk-label-container {position: relative;z-index: 2;text-align: center;}div.sk-container {display: inline-block;position: relative;}</style><div class=\"sk-top-container\"><div class=\"sk-container\"><div class=\"sk-item sk-dashed-wrapped\"><div class=\"sk-label-container\"><div class=\"sk-label sk-toggleable\"><input class=\"sk-toggleable__control sk-hidden--visually\" id=\"f4fb9c75-0ef5-419e-8e62-d2048383cf44\" type=\"checkbox\" ><label class=\"sk-toggleable__label\" for=\"f4fb9c75-0ef5-419e-8e62-d2048383cf44\">Pipeline</label><div class=\"sk-toggleable__content\"><pre>Pipeline(steps=[('columntransformer',\n",
       "                 ColumnTransformer(remainder='passthrough',\n",
       "                                   transformers=[('onehotencoder',\n",
       "                                                  OneHotEncoder(sparse=False),\n",
       "                                                  [0, 1, 2]),\n",
       "                                                 ('powertransformer',\n",
       "                                                  PowerTransformer(),\n",
       "                                                  [3, 4, 9, 10, 11, 13, 14]),\n",
       "                                                 ('kbinsdiscretizer',\n",
       "                                                  KBinsDiscretizer(), [5]),\n",
       "                                                 ('binarizer',\n",
       "                                                  Binarizer(threshold=55),\n",
       "                                                  [7, 8, 12]),\n",
       "                                                 ('simpleimputer',\n",
       "                                                  SimpleImputer(), [6])])),\n",
       "                ('lasso', Lasso())])</pre></div></div></div><div class=\"sk-serial\"><div class=\"sk-item sk-dashed-wrapped\"><div class=\"sk-label-container\"><div class=\"sk-label sk-toggleable\"><input class=\"sk-toggleable__control sk-hidden--visually\" id=\"24a3b3b1-f09d-42cc-a6d8-d422fbf9b366\" type=\"checkbox\" ><label class=\"sk-toggleable__label\" for=\"24a3b3b1-f09d-42cc-a6d8-d422fbf9b366\">columntransformer: ColumnTransformer</label><div class=\"sk-toggleable__content\"><pre>ColumnTransformer(remainder='passthrough',\n",
       "                  transformers=[('onehotencoder', OneHotEncoder(sparse=False),\n",
       "                                 [0, 1, 2]),\n",
       "                                ('powertransformer', PowerTransformer(),\n",
       "                                 [3, 4, 9, 10, 11, 13, 14]),\n",
       "                                ('kbinsdiscretizer', KBinsDiscretizer(), [5]),\n",
       "                                ('binarizer', Binarizer(threshold=55),\n",
       "                                 [7, 8, 12]),\n",
       "                                ('simpleimputer', SimpleImputer(), [6])])</pre></div></div></div><div class=\"sk-parallel\"><div class=\"sk-parallel-item\"><div class=\"sk-item\"><div class=\"sk-label-container\"><div class=\"sk-label sk-toggleable\"><input class=\"sk-toggleable__control sk-hidden--visually\" id=\"825211fb-3653-4744-b04c-4a0f67450555\" type=\"checkbox\" ><label class=\"sk-toggleable__label\" for=\"825211fb-3653-4744-b04c-4a0f67450555\">onehotencoder</label><div class=\"sk-toggleable__content\"><pre>[0, 1, 2]</pre></div></div></div><div class=\"sk-serial\"><div class=\"sk-item\"><div class=\"sk-estimator sk-toggleable\"><input class=\"sk-toggleable__control sk-hidden--visually\" id=\"a6460bb8-0fcb-4b91-a3d9-890d61093208\" type=\"checkbox\" ><label class=\"sk-toggleable__label\" for=\"a6460bb8-0fcb-4b91-a3d9-890d61093208\">OneHotEncoder</label><div class=\"sk-toggleable__content\"><pre>OneHotEncoder(sparse=False)</pre></div></div></div></div></div></div><div class=\"sk-parallel-item\"><div class=\"sk-item\"><div class=\"sk-label-container\"><div class=\"sk-label sk-toggleable\"><input class=\"sk-toggleable__control sk-hidden--visually\" id=\"e4eaaee1-2fa0-4482-b2d9-e6940f085440\" type=\"checkbox\" ><label class=\"sk-toggleable__label\" for=\"e4eaaee1-2fa0-4482-b2d9-e6940f085440\">powertransformer</label><div class=\"sk-toggleable__content\"><pre>[3, 4, 9, 10, 11, 13, 14]</pre></div></div></div><div class=\"sk-serial\"><div class=\"sk-item\"><div class=\"sk-estimator sk-toggleable\"><input class=\"sk-toggleable__control sk-hidden--visually\" id=\"eb4bcd8b-62cb-4656-848c-a6301a4ec560\" type=\"checkbox\" ><label class=\"sk-toggleable__label\" for=\"eb4bcd8b-62cb-4656-848c-a6301a4ec560\">PowerTransformer</label><div class=\"sk-toggleable__content\"><pre>PowerTransformer()</pre></div></div></div></div></div></div><div class=\"sk-parallel-item\"><div class=\"sk-item\"><div class=\"sk-label-container\"><div class=\"sk-label sk-toggleable\"><input class=\"sk-toggleable__control sk-hidden--visually\" id=\"0b141fe0-d965-412a-b1f4-e6b63e69c3e2\" type=\"checkbox\" ><label class=\"sk-toggleable__label\" for=\"0b141fe0-d965-412a-b1f4-e6b63e69c3e2\">kbinsdiscretizer</label><div class=\"sk-toggleable__content\"><pre>[5]</pre></div></div></div><div class=\"sk-serial\"><div class=\"sk-item\"><div class=\"sk-estimator sk-toggleable\"><input class=\"sk-toggleable__control sk-hidden--visually\" id=\"02f32918-ffe5-49b2-9f25-fac002b90cf7\" type=\"checkbox\" ><label class=\"sk-toggleable__label\" for=\"02f32918-ffe5-49b2-9f25-fac002b90cf7\">KBinsDiscretizer</label><div class=\"sk-toggleable__content\"><pre>KBinsDiscretizer()</pre></div></div></div></div></div></div><div class=\"sk-parallel-item\"><div class=\"sk-item\"><div class=\"sk-label-container\"><div class=\"sk-label sk-toggleable\"><input class=\"sk-toggleable__control sk-hidden--visually\" id=\"ad40eb80-facf-4086-94fd-6c14c1749ccb\" type=\"checkbox\" ><label class=\"sk-toggleable__label\" for=\"ad40eb80-facf-4086-94fd-6c14c1749ccb\">binarizer</label><div class=\"sk-toggleable__content\"><pre>[7, 8, 12]</pre></div></div></div><div class=\"sk-serial\"><div class=\"sk-item\"><div class=\"sk-estimator sk-toggleable\"><input class=\"sk-toggleable__control sk-hidden--visually\" id=\"2b1a8697-e83b-4b9c-87b8-11a9d38fb53e\" type=\"checkbox\" ><label class=\"sk-toggleable__label\" for=\"2b1a8697-e83b-4b9c-87b8-11a9d38fb53e\">Binarizer</label><div class=\"sk-toggleable__content\"><pre>Binarizer(threshold=55)</pre></div></div></div></div></div></div><div class=\"sk-parallel-item\"><div class=\"sk-item\"><div class=\"sk-label-container\"><div class=\"sk-label sk-toggleable\"><input class=\"sk-toggleable__control sk-hidden--visually\" id=\"d4f34d00-9df1-4048-b198-7aeb6a433a20\" type=\"checkbox\" ><label class=\"sk-toggleable__label\" for=\"d4f34d00-9df1-4048-b198-7aeb6a433a20\">simpleimputer</label><div class=\"sk-toggleable__content\"><pre>[6]</pre></div></div></div><div class=\"sk-serial\"><div class=\"sk-item\"><div class=\"sk-estimator sk-toggleable\"><input class=\"sk-toggleable__control sk-hidden--visually\" id=\"d94b522e-5ecf-4c6a-b9c5-ba53f53fa87a\" type=\"checkbox\" ><label class=\"sk-toggleable__label\" for=\"d94b522e-5ecf-4c6a-b9c5-ba53f53fa87a\">SimpleImputer</label><div class=\"sk-toggleable__content\"><pre>SimpleImputer()</pre></div></div></div></div></div></div></div></div><div class=\"sk-item\"><div class=\"sk-estimator sk-toggleable\"><input class=\"sk-toggleable__control sk-hidden--visually\" id=\"4c127e0a-82af-4eb5-bf06-e514680e9e8d\" type=\"checkbox\" ><label class=\"sk-toggleable__label\" for=\"4c127e0a-82af-4eb5-bf06-e514680e9e8d\">Lasso</label><div class=\"sk-toggleable__content\"><pre>Lasso()</pre></div></div></div></div></div></div></div>"
      ],
      "text/plain": [
       "Pipeline(steps=[('columntransformer',\n",
       "                 ColumnTransformer(remainder='passthrough',\n",
       "                                   transformers=[('onehotencoder',\n",
       "                                                  OneHotEncoder(sparse=False),\n",
       "                                                  [0, 1, 2]),\n",
       "                                                 ('powertransformer',\n",
       "                                                  PowerTransformer(),\n",
       "                                                  [3, 4, 9, 10, 11, 13, 14]),\n",
       "                                                 ('kbinsdiscretizer',\n",
       "                                                  KBinsDiscretizer(), [5]),\n",
       "                                                 ('binarizer',\n",
       "                                                  Binarizer(threshold=55),\n",
       "                                                  [7, 8, 12]),\n",
       "                                                 ('simpleimputer',\n",
       "                                                  SimpleImputer(), [6])])),\n",
       "                ('lasso', Lasso())])"
      ]
     },
     "execution_count": 129,
     "metadata": {},
     "output_type": "execute_result"
    }
   ],
   "source": [
    "pipe_1"
   ]
  },
  {
   "cell_type": "code",
   "execution_count": 130,
   "metadata": {},
   "outputs": [
    {
     "data": {
      "text/html": [
       "<style>div.sk-top-container {color: black;background-color: white;}div.sk-toggleable {background-color: white;}label.sk-toggleable__label {cursor: pointer;display: block;width: 100%;margin-bottom: 0;padding: 0.2em 0.3em;box-sizing: border-box;text-align: center;}div.sk-toggleable__content {max-height: 0;max-width: 0;overflow: hidden;text-align: left;background-color: #f0f8ff;}div.sk-toggleable__content pre {margin: 0.2em;color: black;border-radius: 0.25em;background-color: #f0f8ff;}input.sk-toggleable__control:checked~div.sk-toggleable__content {max-height: 200px;max-width: 100%;overflow: auto;}div.sk-estimator input.sk-toggleable__control:checked~label.sk-toggleable__label {background-color: #d4ebff;}div.sk-label input.sk-toggleable__control:checked~label.sk-toggleable__label {background-color: #d4ebff;}input.sk-hidden--visually {border: 0;clip: rect(1px 1px 1px 1px);clip: rect(1px, 1px, 1px, 1px);height: 1px;margin: -1px;overflow: hidden;padding: 0;position: absolute;width: 1px;}div.sk-estimator {font-family: monospace;background-color: #f0f8ff;margin: 0.25em 0.25em;border: 1px dotted black;border-radius: 0.25em;box-sizing: border-box;}div.sk-estimator:hover {background-color: #d4ebff;}div.sk-parallel-item::after {content: \"\";width: 100%;border-bottom: 1px solid gray;flex-grow: 1;}div.sk-label:hover label.sk-toggleable__label {background-color: #d4ebff;}div.sk-serial::before {content: \"\";position: absolute;border-left: 1px solid gray;box-sizing: border-box;top: 2em;bottom: 0;left: 50%;}div.sk-serial {display: flex;flex-direction: column;align-items: center;background-color: white;}div.sk-item {z-index: 1;}div.sk-parallel {display: flex;align-items: stretch;justify-content: center;background-color: white;}div.sk-parallel-item {display: flex;flex-direction: column;position: relative;background-color: white;}div.sk-parallel-item:first-child::after {align-self: flex-end;width: 50%;}div.sk-parallel-item:last-child::after {align-self: flex-start;width: 50%;}div.sk-parallel-item:only-child::after {width: 0;}div.sk-dashed-wrapped {border: 1px dashed gray;margin: 0.2em;box-sizing: border-box;padding-bottom: 0.1em;background-color: white;position: relative;}div.sk-label label {font-family: monospace;font-weight: bold;background-color: white;display: inline-block;line-height: 1.2em;}div.sk-label-container {position: relative;z-index: 2;text-align: center;}div.sk-container {display: inline-block;position: relative;}</style><div class=\"sk-top-container\"><div class=\"sk-container\"><div class=\"sk-item sk-dashed-wrapped\"><div class=\"sk-label-container\"><div class=\"sk-label sk-toggleable\"><input class=\"sk-toggleable__control sk-hidden--visually\" id=\"f666cbd7-98f7-41d8-af8c-3f6a55fdc575\" type=\"checkbox\" ><label class=\"sk-toggleable__label\" for=\"f666cbd7-98f7-41d8-af8c-3f6a55fdc575\">Pipeline</label><div class=\"sk-toggleable__content\"><pre>Pipeline(steps=[('columntransformer',\n",
       "                 ColumnTransformer(remainder='passthrough',\n",
       "                                   transformers=[('onehotencoder',\n",
       "                                                  OneHotEncoder(sparse=False),\n",
       "                                                  [0, 1, 2]),\n",
       "                                                 ('powertransformer',\n",
       "                                                  PowerTransformer(),\n",
       "                                                  [3, 4, 9, 10, 11, 13, 14]),\n",
       "                                                 ('kbinsdiscretizer',\n",
       "                                                  KBinsDiscretizer(), [5]),\n",
       "                                                 ('binarizer',\n",
       "                                                  Binarizer(threshold=55),\n",
       "                                                  [7, 8, 12]),\n",
       "                                                 ('simpleimputer',\n",
       "                                                  SimpleImputer(), [6])])),\n",
       "                ('ridge', Ridge())])</pre></div></div></div><div class=\"sk-serial\"><div class=\"sk-item sk-dashed-wrapped\"><div class=\"sk-label-container\"><div class=\"sk-label sk-toggleable\"><input class=\"sk-toggleable__control sk-hidden--visually\" id=\"0835d6a1-c0f0-4e00-9835-7492780610ee\" type=\"checkbox\" ><label class=\"sk-toggleable__label\" for=\"0835d6a1-c0f0-4e00-9835-7492780610ee\">columntransformer: ColumnTransformer</label><div class=\"sk-toggleable__content\"><pre>ColumnTransformer(remainder='passthrough',\n",
       "                  transformers=[('onehotencoder', OneHotEncoder(sparse=False),\n",
       "                                 [0, 1, 2]),\n",
       "                                ('powertransformer', PowerTransformer(),\n",
       "                                 [3, 4, 9, 10, 11, 13, 14]),\n",
       "                                ('kbinsdiscretizer', KBinsDiscretizer(), [5]),\n",
       "                                ('binarizer', Binarizer(threshold=55),\n",
       "                                 [7, 8, 12]),\n",
       "                                ('simpleimputer', SimpleImputer(), [6])])</pre></div></div></div><div class=\"sk-parallel\"><div class=\"sk-parallel-item\"><div class=\"sk-item\"><div class=\"sk-label-container\"><div class=\"sk-label sk-toggleable\"><input class=\"sk-toggleable__control sk-hidden--visually\" id=\"865de1f3-4ed4-4167-af9c-bb55117bf97e\" type=\"checkbox\" ><label class=\"sk-toggleable__label\" for=\"865de1f3-4ed4-4167-af9c-bb55117bf97e\">onehotencoder</label><div class=\"sk-toggleable__content\"><pre>[0, 1, 2]</pre></div></div></div><div class=\"sk-serial\"><div class=\"sk-item\"><div class=\"sk-estimator sk-toggleable\"><input class=\"sk-toggleable__control sk-hidden--visually\" id=\"5c167b48-b93c-46c6-bf82-c03772babbf3\" type=\"checkbox\" ><label class=\"sk-toggleable__label\" for=\"5c167b48-b93c-46c6-bf82-c03772babbf3\">OneHotEncoder</label><div class=\"sk-toggleable__content\"><pre>OneHotEncoder(sparse=False)</pre></div></div></div></div></div></div><div class=\"sk-parallel-item\"><div class=\"sk-item\"><div class=\"sk-label-container\"><div class=\"sk-label sk-toggleable\"><input class=\"sk-toggleable__control sk-hidden--visually\" id=\"698131da-96ba-4cf6-b7ae-da4c5b92c36c\" type=\"checkbox\" ><label class=\"sk-toggleable__label\" for=\"698131da-96ba-4cf6-b7ae-da4c5b92c36c\">powertransformer</label><div class=\"sk-toggleable__content\"><pre>[3, 4, 9, 10, 11, 13, 14]</pre></div></div></div><div class=\"sk-serial\"><div class=\"sk-item\"><div class=\"sk-estimator sk-toggleable\"><input class=\"sk-toggleable__control sk-hidden--visually\" id=\"f1dc13ac-b122-49f2-acaf-8973384dafad\" type=\"checkbox\" ><label class=\"sk-toggleable__label\" for=\"f1dc13ac-b122-49f2-acaf-8973384dafad\">PowerTransformer</label><div class=\"sk-toggleable__content\"><pre>PowerTransformer()</pre></div></div></div></div></div></div><div class=\"sk-parallel-item\"><div class=\"sk-item\"><div class=\"sk-label-container\"><div class=\"sk-label sk-toggleable\"><input class=\"sk-toggleable__control sk-hidden--visually\" id=\"68cf84ff-9dcf-4ff4-9918-9e20072291dd\" type=\"checkbox\" ><label class=\"sk-toggleable__label\" for=\"68cf84ff-9dcf-4ff4-9918-9e20072291dd\">kbinsdiscretizer</label><div class=\"sk-toggleable__content\"><pre>[5]</pre></div></div></div><div class=\"sk-serial\"><div class=\"sk-item\"><div class=\"sk-estimator sk-toggleable\"><input class=\"sk-toggleable__control sk-hidden--visually\" id=\"db88585c-21fc-479f-aa71-70d4cc10843b\" type=\"checkbox\" ><label class=\"sk-toggleable__label\" for=\"db88585c-21fc-479f-aa71-70d4cc10843b\">KBinsDiscretizer</label><div class=\"sk-toggleable__content\"><pre>KBinsDiscretizer()</pre></div></div></div></div></div></div><div class=\"sk-parallel-item\"><div class=\"sk-item\"><div class=\"sk-label-container\"><div class=\"sk-label sk-toggleable\"><input class=\"sk-toggleable__control sk-hidden--visually\" id=\"8b35cfad-429b-41bd-bea6-33a38746e2b9\" type=\"checkbox\" ><label class=\"sk-toggleable__label\" for=\"8b35cfad-429b-41bd-bea6-33a38746e2b9\">binarizer</label><div class=\"sk-toggleable__content\"><pre>[7, 8, 12]</pre></div></div></div><div class=\"sk-serial\"><div class=\"sk-item\"><div class=\"sk-estimator sk-toggleable\"><input class=\"sk-toggleable__control sk-hidden--visually\" id=\"4f227668-1f1d-457f-a529-a31b0e36aad7\" type=\"checkbox\" ><label class=\"sk-toggleable__label\" for=\"4f227668-1f1d-457f-a529-a31b0e36aad7\">Binarizer</label><div class=\"sk-toggleable__content\"><pre>Binarizer(threshold=55)</pre></div></div></div></div></div></div><div class=\"sk-parallel-item\"><div class=\"sk-item\"><div class=\"sk-label-container\"><div class=\"sk-label sk-toggleable\"><input class=\"sk-toggleable__control sk-hidden--visually\" id=\"f9e99c04-d63a-42b6-b85a-4d080f05e224\" type=\"checkbox\" ><label class=\"sk-toggleable__label\" for=\"f9e99c04-d63a-42b6-b85a-4d080f05e224\">simpleimputer</label><div class=\"sk-toggleable__content\"><pre>[6]</pre></div></div></div><div class=\"sk-serial\"><div class=\"sk-item\"><div class=\"sk-estimator sk-toggleable\"><input class=\"sk-toggleable__control sk-hidden--visually\" id=\"0a95850f-a265-4ae6-9bbe-f15fdd7234b3\" type=\"checkbox\" ><label class=\"sk-toggleable__label\" for=\"0a95850f-a265-4ae6-9bbe-f15fdd7234b3\">SimpleImputer</label><div class=\"sk-toggleable__content\"><pre>SimpleImputer()</pre></div></div></div></div></div></div></div></div><div class=\"sk-item\"><div class=\"sk-estimator sk-toggleable\"><input class=\"sk-toggleable__control sk-hidden--visually\" id=\"e8057420-36a3-40fd-a9a1-6c601302ab3c\" type=\"checkbox\" ><label class=\"sk-toggleable__label\" for=\"e8057420-36a3-40fd-a9a1-6c601302ab3c\">Ridge</label><div class=\"sk-toggleable__content\"><pre>Ridge()</pre></div></div></div></div></div></div></div>"
      ],
      "text/plain": [
       "Pipeline(steps=[('columntransformer',\n",
       "                 ColumnTransformer(remainder='passthrough',\n",
       "                                   transformers=[('onehotencoder',\n",
       "                                                  OneHotEncoder(sparse=False),\n",
       "                                                  [0, 1, 2]),\n",
       "                                                 ('powertransformer',\n",
       "                                                  PowerTransformer(),\n",
       "                                                  [3, 4, 9, 10, 11, 13, 14]),\n",
       "                                                 ('kbinsdiscretizer',\n",
       "                                                  KBinsDiscretizer(), [5]),\n",
       "                                                 ('binarizer',\n",
       "                                                  Binarizer(threshold=55),\n",
       "                                                  [7, 8, 12]),\n",
       "                                                 ('simpleimputer',\n",
       "                                                  SimpleImputer(), [6])])),\n",
       "                ('ridge', Ridge())])"
      ]
     },
     "execution_count": 130,
     "metadata": {},
     "output_type": "execute_result"
    }
   ],
   "source": [
    "pipe_2"
   ]
  },
  {
   "cell_type": "code",
   "execution_count": 131,
   "metadata": {},
   "outputs": [
    {
     "name": "stderr",
     "output_type": "stream",
     "text": [
      "C:\\Users\\yeohw\\anaconda3\\lib\\site-packages\\sklearn\\preprocessing\\_data.py:2995: RuntimeWarning: divide by zero encountered in log\n",
      "  loglike = -n_samples / 2 * np.log(x_trans.var())\n"
     ]
    },
    {
     "data": {
      "text/html": [
       "<style>div.sk-top-container {color: black;background-color: white;}div.sk-toggleable {background-color: white;}label.sk-toggleable__label {cursor: pointer;display: block;width: 100%;margin-bottom: 0;padding: 0.2em 0.3em;box-sizing: border-box;text-align: center;}div.sk-toggleable__content {max-height: 0;max-width: 0;overflow: hidden;text-align: left;background-color: #f0f8ff;}div.sk-toggleable__content pre {margin: 0.2em;color: black;border-radius: 0.25em;background-color: #f0f8ff;}input.sk-toggleable__control:checked~div.sk-toggleable__content {max-height: 200px;max-width: 100%;overflow: auto;}div.sk-estimator input.sk-toggleable__control:checked~label.sk-toggleable__label {background-color: #d4ebff;}div.sk-label input.sk-toggleable__control:checked~label.sk-toggleable__label {background-color: #d4ebff;}input.sk-hidden--visually {border: 0;clip: rect(1px 1px 1px 1px);clip: rect(1px, 1px, 1px, 1px);height: 1px;margin: -1px;overflow: hidden;padding: 0;position: absolute;width: 1px;}div.sk-estimator {font-family: monospace;background-color: #f0f8ff;margin: 0.25em 0.25em;border: 1px dotted black;border-radius: 0.25em;box-sizing: border-box;}div.sk-estimator:hover {background-color: #d4ebff;}div.sk-parallel-item::after {content: \"\";width: 100%;border-bottom: 1px solid gray;flex-grow: 1;}div.sk-label:hover label.sk-toggleable__label {background-color: #d4ebff;}div.sk-serial::before {content: \"\";position: absolute;border-left: 1px solid gray;box-sizing: border-box;top: 2em;bottom: 0;left: 50%;}div.sk-serial {display: flex;flex-direction: column;align-items: center;background-color: white;}div.sk-item {z-index: 1;}div.sk-parallel {display: flex;align-items: stretch;justify-content: center;background-color: white;}div.sk-parallel-item {display: flex;flex-direction: column;position: relative;background-color: white;}div.sk-parallel-item:first-child::after {align-self: flex-end;width: 50%;}div.sk-parallel-item:last-child::after {align-self: flex-start;width: 50%;}div.sk-parallel-item:only-child::after {width: 0;}div.sk-dashed-wrapped {border: 1px dashed gray;margin: 0.2em;box-sizing: border-box;padding-bottom: 0.1em;background-color: white;position: relative;}div.sk-label label {font-family: monospace;font-weight: bold;background-color: white;display: inline-block;line-height: 1.2em;}div.sk-label-container {position: relative;z-index: 2;text-align: center;}div.sk-container {display: inline-block;position: relative;}</style><div class=\"sk-top-container\"><div class=\"sk-container\"><div class=\"sk-item sk-dashed-wrapped\"><div class=\"sk-label-container\"><div class=\"sk-label sk-toggleable\"><input class=\"sk-toggleable__control sk-hidden--visually\" id=\"6f201b0a-e45f-4eba-bb49-3c79395461c9\" type=\"checkbox\" ><label class=\"sk-toggleable__label\" for=\"6f201b0a-e45f-4eba-bb49-3c79395461c9\">Pipeline</label><div class=\"sk-toggleable__content\"><pre>Pipeline(steps=[('columntransformer',\n",
       "                 ColumnTransformer(remainder='passthrough',\n",
       "                                   transformers=[('onehotencoder',\n",
       "                                                  OneHotEncoder(sparse=False),\n",
       "                                                  [0, 1, 2]),\n",
       "                                                 ('powertransformer',\n",
       "                                                  PowerTransformer(),\n",
       "                                                  [3, 4, 9, 10, 11, 13, 14]),\n",
       "                                                 ('kbinsdiscretizer',\n",
       "                                                  KBinsDiscretizer(), [5]),\n",
       "                                                 ('binarizer',\n",
       "                                                  Binarizer(threshold=55),\n",
       "                                                  [7, 8, 12]),\n",
       "                                                 ('simpleimputer',\n",
       "                                                  SimpleImputer(), [6])])),\n",
       "                ('linearregression', LinearRegression())])</pre></div></div></div><div class=\"sk-serial\"><div class=\"sk-item sk-dashed-wrapped\"><div class=\"sk-label-container\"><div class=\"sk-label sk-toggleable\"><input class=\"sk-toggleable__control sk-hidden--visually\" id=\"53e662a9-a0ff-4367-87c4-6425a16f165f\" type=\"checkbox\" ><label class=\"sk-toggleable__label\" for=\"53e662a9-a0ff-4367-87c4-6425a16f165f\">columntransformer: ColumnTransformer</label><div class=\"sk-toggleable__content\"><pre>ColumnTransformer(remainder='passthrough',\n",
       "                  transformers=[('onehotencoder', OneHotEncoder(sparse=False),\n",
       "                                 [0, 1, 2]),\n",
       "                                ('powertransformer', PowerTransformer(),\n",
       "                                 [3, 4, 9, 10, 11, 13, 14]),\n",
       "                                ('kbinsdiscretizer', KBinsDiscretizer(), [5]),\n",
       "                                ('binarizer', Binarizer(threshold=55),\n",
       "                                 [7, 8, 12]),\n",
       "                                ('simpleimputer', SimpleImputer(), [6])])</pre></div></div></div><div class=\"sk-parallel\"><div class=\"sk-parallel-item\"><div class=\"sk-item\"><div class=\"sk-label-container\"><div class=\"sk-label sk-toggleable\"><input class=\"sk-toggleable__control sk-hidden--visually\" id=\"32e4b438-0a46-4114-806b-0c5c0d1707e5\" type=\"checkbox\" ><label class=\"sk-toggleable__label\" for=\"32e4b438-0a46-4114-806b-0c5c0d1707e5\">onehotencoder</label><div class=\"sk-toggleable__content\"><pre>[0, 1, 2]</pre></div></div></div><div class=\"sk-serial\"><div class=\"sk-item\"><div class=\"sk-estimator sk-toggleable\"><input class=\"sk-toggleable__control sk-hidden--visually\" id=\"81d2002f-b167-4601-be12-888b4aa85640\" type=\"checkbox\" ><label class=\"sk-toggleable__label\" for=\"81d2002f-b167-4601-be12-888b4aa85640\">OneHotEncoder</label><div class=\"sk-toggleable__content\"><pre>OneHotEncoder(sparse=False)</pre></div></div></div></div></div></div><div class=\"sk-parallel-item\"><div class=\"sk-item\"><div class=\"sk-label-container\"><div class=\"sk-label sk-toggleable\"><input class=\"sk-toggleable__control sk-hidden--visually\" id=\"eb54ee50-3342-4dfd-978e-685a96d2185e\" type=\"checkbox\" ><label class=\"sk-toggleable__label\" for=\"eb54ee50-3342-4dfd-978e-685a96d2185e\">powertransformer</label><div class=\"sk-toggleable__content\"><pre>[3, 4, 9, 10, 11, 13, 14]</pre></div></div></div><div class=\"sk-serial\"><div class=\"sk-item\"><div class=\"sk-estimator sk-toggleable\"><input class=\"sk-toggleable__control sk-hidden--visually\" id=\"81a4533b-cf3c-4e30-a43f-4528d1568174\" type=\"checkbox\" ><label class=\"sk-toggleable__label\" for=\"81a4533b-cf3c-4e30-a43f-4528d1568174\">PowerTransformer</label><div class=\"sk-toggleable__content\"><pre>PowerTransformer()</pre></div></div></div></div></div></div><div class=\"sk-parallel-item\"><div class=\"sk-item\"><div class=\"sk-label-container\"><div class=\"sk-label sk-toggleable\"><input class=\"sk-toggleable__control sk-hidden--visually\" id=\"9fd1f29f-e328-4ad0-8a68-7bab68d24730\" type=\"checkbox\" ><label class=\"sk-toggleable__label\" for=\"9fd1f29f-e328-4ad0-8a68-7bab68d24730\">kbinsdiscretizer</label><div class=\"sk-toggleable__content\"><pre>[5]</pre></div></div></div><div class=\"sk-serial\"><div class=\"sk-item\"><div class=\"sk-estimator sk-toggleable\"><input class=\"sk-toggleable__control sk-hidden--visually\" id=\"50d87f1a-dc44-4d9a-8793-403d9e4a60c0\" type=\"checkbox\" ><label class=\"sk-toggleable__label\" for=\"50d87f1a-dc44-4d9a-8793-403d9e4a60c0\">KBinsDiscretizer</label><div class=\"sk-toggleable__content\"><pre>KBinsDiscretizer()</pre></div></div></div></div></div></div><div class=\"sk-parallel-item\"><div class=\"sk-item\"><div class=\"sk-label-container\"><div class=\"sk-label sk-toggleable\"><input class=\"sk-toggleable__control sk-hidden--visually\" id=\"d1816c63-5921-470f-9716-16f10a322150\" type=\"checkbox\" ><label class=\"sk-toggleable__label\" for=\"d1816c63-5921-470f-9716-16f10a322150\">binarizer</label><div class=\"sk-toggleable__content\"><pre>[7, 8, 12]</pre></div></div></div><div class=\"sk-serial\"><div class=\"sk-item\"><div class=\"sk-estimator sk-toggleable\"><input class=\"sk-toggleable__control sk-hidden--visually\" id=\"fb8b83ce-93db-450c-b302-30af5688fffb\" type=\"checkbox\" ><label class=\"sk-toggleable__label\" for=\"fb8b83ce-93db-450c-b302-30af5688fffb\">Binarizer</label><div class=\"sk-toggleable__content\"><pre>Binarizer(threshold=55)</pre></div></div></div></div></div></div><div class=\"sk-parallel-item\"><div class=\"sk-item\"><div class=\"sk-label-container\"><div class=\"sk-label sk-toggleable\"><input class=\"sk-toggleable__control sk-hidden--visually\" id=\"6661f31d-791e-4c3e-959f-17b8b5b69c37\" type=\"checkbox\" ><label class=\"sk-toggleable__label\" for=\"6661f31d-791e-4c3e-959f-17b8b5b69c37\">simpleimputer</label><div class=\"sk-toggleable__content\"><pre>[6]</pre></div></div></div><div class=\"sk-serial\"><div class=\"sk-item\"><div class=\"sk-estimator sk-toggleable\"><input class=\"sk-toggleable__control sk-hidden--visually\" id=\"d6bcbedf-e3f4-4674-871f-be1e7d286b95\" type=\"checkbox\" ><label class=\"sk-toggleable__label\" for=\"d6bcbedf-e3f4-4674-871f-be1e7d286b95\">SimpleImputer</label><div class=\"sk-toggleable__content\"><pre>SimpleImputer()</pre></div></div></div></div></div></div></div></div><div class=\"sk-item\"><div class=\"sk-estimator sk-toggleable\"><input class=\"sk-toggleable__control sk-hidden--visually\" id=\"3063ed2c-7926-404e-8fbf-d24a908240de\" type=\"checkbox\" ><label class=\"sk-toggleable__label\" for=\"3063ed2c-7926-404e-8fbf-d24a908240de\">LinearRegression</label><div class=\"sk-toggleable__content\"><pre>LinearRegression()</pre></div></div></div></div></div></div></div>"
      ],
      "text/plain": [
       "Pipeline(steps=[('columntransformer',\n",
       "                 ColumnTransformer(remainder='passthrough',\n",
       "                                   transformers=[('onehotencoder',\n",
       "                                                  OneHotEncoder(sparse=False),\n",
       "                                                  [0, 1, 2]),\n",
       "                                                 ('powertransformer',\n",
       "                                                  PowerTransformer(),\n",
       "                                                  [3, 4, 9, 10, 11, 13, 14]),\n",
       "                                                 ('kbinsdiscretizer',\n",
       "                                                  KBinsDiscretizer(), [5]),\n",
       "                                                 ('binarizer',\n",
       "                                                  Binarizer(threshold=55),\n",
       "                                                  [7, 8, 12]),\n",
       "                                                 ('simpleimputer',\n",
       "                                                  SimpleImputer(), [6])])),\n",
       "                ('linearregression', LinearRegression())])"
      ]
     },
     "execution_count": 131,
     "metadata": {},
     "output_type": "execute_result"
    }
   ],
   "source": [
    "pipe.fit(x_train,y_train)"
   ]
  },
  {
   "cell_type": "code",
   "execution_count": 132,
   "metadata": {},
   "outputs": [
    {
     "name": "stderr",
     "output_type": "stream",
     "text": [
      "C:\\Users\\yeohw\\anaconda3\\lib\\site-packages\\sklearn\\preprocessing\\_data.py:2995: RuntimeWarning: divide by zero encountered in log\n",
      "  loglike = -n_samples / 2 * np.log(x_trans.var())\n"
     ]
    },
    {
     "data": {
      "text/html": [
       "<style>div.sk-top-container {color: black;background-color: white;}div.sk-toggleable {background-color: white;}label.sk-toggleable__label {cursor: pointer;display: block;width: 100%;margin-bottom: 0;padding: 0.2em 0.3em;box-sizing: border-box;text-align: center;}div.sk-toggleable__content {max-height: 0;max-width: 0;overflow: hidden;text-align: left;background-color: #f0f8ff;}div.sk-toggleable__content pre {margin: 0.2em;color: black;border-radius: 0.25em;background-color: #f0f8ff;}input.sk-toggleable__control:checked~div.sk-toggleable__content {max-height: 200px;max-width: 100%;overflow: auto;}div.sk-estimator input.sk-toggleable__control:checked~label.sk-toggleable__label {background-color: #d4ebff;}div.sk-label input.sk-toggleable__control:checked~label.sk-toggleable__label {background-color: #d4ebff;}input.sk-hidden--visually {border: 0;clip: rect(1px 1px 1px 1px);clip: rect(1px, 1px, 1px, 1px);height: 1px;margin: -1px;overflow: hidden;padding: 0;position: absolute;width: 1px;}div.sk-estimator {font-family: monospace;background-color: #f0f8ff;margin: 0.25em 0.25em;border: 1px dotted black;border-radius: 0.25em;box-sizing: border-box;}div.sk-estimator:hover {background-color: #d4ebff;}div.sk-parallel-item::after {content: \"\";width: 100%;border-bottom: 1px solid gray;flex-grow: 1;}div.sk-label:hover label.sk-toggleable__label {background-color: #d4ebff;}div.sk-serial::before {content: \"\";position: absolute;border-left: 1px solid gray;box-sizing: border-box;top: 2em;bottom: 0;left: 50%;}div.sk-serial {display: flex;flex-direction: column;align-items: center;background-color: white;}div.sk-item {z-index: 1;}div.sk-parallel {display: flex;align-items: stretch;justify-content: center;background-color: white;}div.sk-parallel-item {display: flex;flex-direction: column;position: relative;background-color: white;}div.sk-parallel-item:first-child::after {align-self: flex-end;width: 50%;}div.sk-parallel-item:last-child::after {align-self: flex-start;width: 50%;}div.sk-parallel-item:only-child::after {width: 0;}div.sk-dashed-wrapped {border: 1px dashed gray;margin: 0.2em;box-sizing: border-box;padding-bottom: 0.1em;background-color: white;position: relative;}div.sk-label label {font-family: monospace;font-weight: bold;background-color: white;display: inline-block;line-height: 1.2em;}div.sk-label-container {position: relative;z-index: 2;text-align: center;}div.sk-container {display: inline-block;position: relative;}</style><div class=\"sk-top-container\"><div class=\"sk-container\"><div class=\"sk-item sk-dashed-wrapped\"><div class=\"sk-label-container\"><div class=\"sk-label sk-toggleable\"><input class=\"sk-toggleable__control sk-hidden--visually\" id=\"c1b57169-877f-4014-8397-7a346c9654ca\" type=\"checkbox\" ><label class=\"sk-toggleable__label\" for=\"c1b57169-877f-4014-8397-7a346c9654ca\">Pipeline</label><div class=\"sk-toggleable__content\"><pre>Pipeline(steps=[('columntransformer',\n",
       "                 ColumnTransformer(remainder='passthrough',\n",
       "                                   transformers=[('onehotencoder',\n",
       "                                                  OneHotEncoder(sparse=False),\n",
       "                                                  [0, 1, 2]),\n",
       "                                                 ('powertransformer',\n",
       "                                                  PowerTransformer(),\n",
       "                                                  [3, 4, 9, 10, 11, 13, 14]),\n",
       "                                                 ('kbinsdiscretizer',\n",
       "                                                  KBinsDiscretizer(), [5]),\n",
       "                                                 ('binarizer',\n",
       "                                                  Binarizer(threshold=55),\n",
       "                                                  [7, 8, 12]),\n",
       "                                                 ('simpleimputer',\n",
       "                                                  SimpleImputer(), [6])])),\n",
       "                ('lasso', Lasso())])</pre></div></div></div><div class=\"sk-serial\"><div class=\"sk-item sk-dashed-wrapped\"><div class=\"sk-label-container\"><div class=\"sk-label sk-toggleable\"><input class=\"sk-toggleable__control sk-hidden--visually\" id=\"0120c40f-4423-4093-b152-121f6553c5f0\" type=\"checkbox\" ><label class=\"sk-toggleable__label\" for=\"0120c40f-4423-4093-b152-121f6553c5f0\">columntransformer: ColumnTransformer</label><div class=\"sk-toggleable__content\"><pre>ColumnTransformer(remainder='passthrough',\n",
       "                  transformers=[('onehotencoder', OneHotEncoder(sparse=False),\n",
       "                                 [0, 1, 2]),\n",
       "                                ('powertransformer', PowerTransformer(),\n",
       "                                 [3, 4, 9, 10, 11, 13, 14]),\n",
       "                                ('kbinsdiscretizer', KBinsDiscretizer(), [5]),\n",
       "                                ('binarizer', Binarizer(threshold=55),\n",
       "                                 [7, 8, 12]),\n",
       "                                ('simpleimputer', SimpleImputer(), [6])])</pre></div></div></div><div class=\"sk-parallel\"><div class=\"sk-parallel-item\"><div class=\"sk-item\"><div class=\"sk-label-container\"><div class=\"sk-label sk-toggleable\"><input class=\"sk-toggleable__control sk-hidden--visually\" id=\"2c906290-3059-4532-8cc6-081581f8a2de\" type=\"checkbox\" ><label class=\"sk-toggleable__label\" for=\"2c906290-3059-4532-8cc6-081581f8a2de\">onehotencoder</label><div class=\"sk-toggleable__content\"><pre>[0, 1, 2]</pre></div></div></div><div class=\"sk-serial\"><div class=\"sk-item\"><div class=\"sk-estimator sk-toggleable\"><input class=\"sk-toggleable__control sk-hidden--visually\" id=\"414cb6ff-40d4-43eb-a5cb-2650a38203d4\" type=\"checkbox\" ><label class=\"sk-toggleable__label\" for=\"414cb6ff-40d4-43eb-a5cb-2650a38203d4\">OneHotEncoder</label><div class=\"sk-toggleable__content\"><pre>OneHotEncoder(sparse=False)</pre></div></div></div></div></div></div><div class=\"sk-parallel-item\"><div class=\"sk-item\"><div class=\"sk-label-container\"><div class=\"sk-label sk-toggleable\"><input class=\"sk-toggleable__control sk-hidden--visually\" id=\"5df2c87e-3fd5-4ce6-b3a3-da29e471f253\" type=\"checkbox\" ><label class=\"sk-toggleable__label\" for=\"5df2c87e-3fd5-4ce6-b3a3-da29e471f253\">powertransformer</label><div class=\"sk-toggleable__content\"><pre>[3, 4, 9, 10, 11, 13, 14]</pre></div></div></div><div class=\"sk-serial\"><div class=\"sk-item\"><div class=\"sk-estimator sk-toggleable\"><input class=\"sk-toggleable__control sk-hidden--visually\" id=\"5ee50009-8717-401e-ad95-cc4d709d508c\" type=\"checkbox\" ><label class=\"sk-toggleable__label\" for=\"5ee50009-8717-401e-ad95-cc4d709d508c\">PowerTransformer</label><div class=\"sk-toggleable__content\"><pre>PowerTransformer()</pre></div></div></div></div></div></div><div class=\"sk-parallel-item\"><div class=\"sk-item\"><div class=\"sk-label-container\"><div class=\"sk-label sk-toggleable\"><input class=\"sk-toggleable__control sk-hidden--visually\" id=\"c63d253f-a417-4175-8439-4ac25a3ab222\" type=\"checkbox\" ><label class=\"sk-toggleable__label\" for=\"c63d253f-a417-4175-8439-4ac25a3ab222\">kbinsdiscretizer</label><div class=\"sk-toggleable__content\"><pre>[5]</pre></div></div></div><div class=\"sk-serial\"><div class=\"sk-item\"><div class=\"sk-estimator sk-toggleable\"><input class=\"sk-toggleable__control sk-hidden--visually\" id=\"3040de7d-6ab1-4f8b-b7a7-e03430c91d1c\" type=\"checkbox\" ><label class=\"sk-toggleable__label\" for=\"3040de7d-6ab1-4f8b-b7a7-e03430c91d1c\">KBinsDiscretizer</label><div class=\"sk-toggleable__content\"><pre>KBinsDiscretizer()</pre></div></div></div></div></div></div><div class=\"sk-parallel-item\"><div class=\"sk-item\"><div class=\"sk-label-container\"><div class=\"sk-label sk-toggleable\"><input class=\"sk-toggleable__control sk-hidden--visually\" id=\"5c27a394-889b-4ada-879e-b498f94686ac\" type=\"checkbox\" ><label class=\"sk-toggleable__label\" for=\"5c27a394-889b-4ada-879e-b498f94686ac\">binarizer</label><div class=\"sk-toggleable__content\"><pre>[7, 8, 12]</pre></div></div></div><div class=\"sk-serial\"><div class=\"sk-item\"><div class=\"sk-estimator sk-toggleable\"><input class=\"sk-toggleable__control sk-hidden--visually\" id=\"1c089ade-bcc6-4261-8657-9f39d4b16c69\" type=\"checkbox\" ><label class=\"sk-toggleable__label\" for=\"1c089ade-bcc6-4261-8657-9f39d4b16c69\">Binarizer</label><div class=\"sk-toggleable__content\"><pre>Binarizer(threshold=55)</pre></div></div></div></div></div></div><div class=\"sk-parallel-item\"><div class=\"sk-item\"><div class=\"sk-label-container\"><div class=\"sk-label sk-toggleable\"><input class=\"sk-toggleable__control sk-hidden--visually\" id=\"29009bfe-13c8-4951-96a0-96bb269e1e51\" type=\"checkbox\" ><label class=\"sk-toggleable__label\" for=\"29009bfe-13c8-4951-96a0-96bb269e1e51\">simpleimputer</label><div class=\"sk-toggleable__content\"><pre>[6]</pre></div></div></div><div class=\"sk-serial\"><div class=\"sk-item\"><div class=\"sk-estimator sk-toggleable\"><input class=\"sk-toggleable__control sk-hidden--visually\" id=\"eed241e5-b6c0-4361-b392-d94a3820313a\" type=\"checkbox\" ><label class=\"sk-toggleable__label\" for=\"eed241e5-b6c0-4361-b392-d94a3820313a\">SimpleImputer</label><div class=\"sk-toggleable__content\"><pre>SimpleImputer()</pre></div></div></div></div></div></div></div></div><div class=\"sk-item\"><div class=\"sk-estimator sk-toggleable\"><input class=\"sk-toggleable__control sk-hidden--visually\" id=\"a49e6ee9-41cc-40e6-804b-122f8afd83e4\" type=\"checkbox\" ><label class=\"sk-toggleable__label\" for=\"a49e6ee9-41cc-40e6-804b-122f8afd83e4\">Lasso</label><div class=\"sk-toggleable__content\"><pre>Lasso()</pre></div></div></div></div></div></div></div>"
      ],
      "text/plain": [
       "Pipeline(steps=[('columntransformer',\n",
       "                 ColumnTransformer(remainder='passthrough',\n",
       "                                   transformers=[('onehotencoder',\n",
       "                                                  OneHotEncoder(sparse=False),\n",
       "                                                  [0, 1, 2]),\n",
       "                                                 ('powertransformer',\n",
       "                                                  PowerTransformer(),\n",
       "                                                  [3, 4, 9, 10, 11, 13, 14]),\n",
       "                                                 ('kbinsdiscretizer',\n",
       "                                                  KBinsDiscretizer(), [5]),\n",
       "                                                 ('binarizer',\n",
       "                                                  Binarizer(threshold=55),\n",
       "                                                  [7, 8, 12]),\n",
       "                                                 ('simpleimputer',\n",
       "                                                  SimpleImputer(), [6])])),\n",
       "                ('lasso', Lasso())])"
      ]
     },
     "execution_count": 132,
     "metadata": {},
     "output_type": "execute_result"
    }
   ],
   "source": [
    "pipe_1.fit(x_train,y_train)"
   ]
  },
  {
   "cell_type": "code",
   "execution_count": 133,
   "metadata": {},
   "outputs": [
    {
     "name": "stderr",
     "output_type": "stream",
     "text": [
      "C:\\Users\\yeohw\\anaconda3\\lib\\site-packages\\sklearn\\preprocessing\\_data.py:2995: RuntimeWarning: divide by zero encountered in log\n",
      "  loglike = -n_samples / 2 * np.log(x_trans.var())\n"
     ]
    },
    {
     "data": {
      "text/html": [
       "<style>div.sk-top-container {color: black;background-color: white;}div.sk-toggleable {background-color: white;}label.sk-toggleable__label {cursor: pointer;display: block;width: 100%;margin-bottom: 0;padding: 0.2em 0.3em;box-sizing: border-box;text-align: center;}div.sk-toggleable__content {max-height: 0;max-width: 0;overflow: hidden;text-align: left;background-color: #f0f8ff;}div.sk-toggleable__content pre {margin: 0.2em;color: black;border-radius: 0.25em;background-color: #f0f8ff;}input.sk-toggleable__control:checked~div.sk-toggleable__content {max-height: 200px;max-width: 100%;overflow: auto;}div.sk-estimator input.sk-toggleable__control:checked~label.sk-toggleable__label {background-color: #d4ebff;}div.sk-label input.sk-toggleable__control:checked~label.sk-toggleable__label {background-color: #d4ebff;}input.sk-hidden--visually {border: 0;clip: rect(1px 1px 1px 1px);clip: rect(1px, 1px, 1px, 1px);height: 1px;margin: -1px;overflow: hidden;padding: 0;position: absolute;width: 1px;}div.sk-estimator {font-family: monospace;background-color: #f0f8ff;margin: 0.25em 0.25em;border: 1px dotted black;border-radius: 0.25em;box-sizing: border-box;}div.sk-estimator:hover {background-color: #d4ebff;}div.sk-parallel-item::after {content: \"\";width: 100%;border-bottom: 1px solid gray;flex-grow: 1;}div.sk-label:hover label.sk-toggleable__label {background-color: #d4ebff;}div.sk-serial::before {content: \"\";position: absolute;border-left: 1px solid gray;box-sizing: border-box;top: 2em;bottom: 0;left: 50%;}div.sk-serial {display: flex;flex-direction: column;align-items: center;background-color: white;}div.sk-item {z-index: 1;}div.sk-parallel {display: flex;align-items: stretch;justify-content: center;background-color: white;}div.sk-parallel-item {display: flex;flex-direction: column;position: relative;background-color: white;}div.sk-parallel-item:first-child::after {align-self: flex-end;width: 50%;}div.sk-parallel-item:last-child::after {align-self: flex-start;width: 50%;}div.sk-parallel-item:only-child::after {width: 0;}div.sk-dashed-wrapped {border: 1px dashed gray;margin: 0.2em;box-sizing: border-box;padding-bottom: 0.1em;background-color: white;position: relative;}div.sk-label label {font-family: monospace;font-weight: bold;background-color: white;display: inline-block;line-height: 1.2em;}div.sk-label-container {position: relative;z-index: 2;text-align: center;}div.sk-container {display: inline-block;position: relative;}</style><div class=\"sk-top-container\"><div class=\"sk-container\"><div class=\"sk-item sk-dashed-wrapped\"><div class=\"sk-label-container\"><div class=\"sk-label sk-toggleable\"><input class=\"sk-toggleable__control sk-hidden--visually\" id=\"617f734b-01f8-4d96-b8e9-bb0b5e8af39b\" type=\"checkbox\" ><label class=\"sk-toggleable__label\" for=\"617f734b-01f8-4d96-b8e9-bb0b5e8af39b\">Pipeline</label><div class=\"sk-toggleable__content\"><pre>Pipeline(steps=[('columntransformer',\n",
       "                 ColumnTransformer(remainder='passthrough',\n",
       "                                   transformers=[('onehotencoder',\n",
       "                                                  OneHotEncoder(sparse=False),\n",
       "                                                  [0, 1, 2]),\n",
       "                                                 ('powertransformer',\n",
       "                                                  PowerTransformer(),\n",
       "                                                  [3, 4, 9, 10, 11, 13, 14]),\n",
       "                                                 ('kbinsdiscretizer',\n",
       "                                                  KBinsDiscretizer(), [5]),\n",
       "                                                 ('binarizer',\n",
       "                                                  Binarizer(threshold=55),\n",
       "                                                  [7, 8, 12]),\n",
       "                                                 ('simpleimputer',\n",
       "                                                  SimpleImputer(), [6])])),\n",
       "                ('ridge', Ridge())])</pre></div></div></div><div class=\"sk-serial\"><div class=\"sk-item sk-dashed-wrapped\"><div class=\"sk-label-container\"><div class=\"sk-label sk-toggleable\"><input class=\"sk-toggleable__control sk-hidden--visually\" id=\"6be079d9-072c-4d93-b83c-4a976cf6da7e\" type=\"checkbox\" ><label class=\"sk-toggleable__label\" for=\"6be079d9-072c-4d93-b83c-4a976cf6da7e\">columntransformer: ColumnTransformer</label><div class=\"sk-toggleable__content\"><pre>ColumnTransformer(remainder='passthrough',\n",
       "                  transformers=[('onehotencoder', OneHotEncoder(sparse=False),\n",
       "                                 [0, 1, 2]),\n",
       "                                ('powertransformer', PowerTransformer(),\n",
       "                                 [3, 4, 9, 10, 11, 13, 14]),\n",
       "                                ('kbinsdiscretizer', KBinsDiscretizer(), [5]),\n",
       "                                ('binarizer', Binarizer(threshold=55),\n",
       "                                 [7, 8, 12]),\n",
       "                                ('simpleimputer', SimpleImputer(), [6])])</pre></div></div></div><div class=\"sk-parallel\"><div class=\"sk-parallel-item\"><div class=\"sk-item\"><div class=\"sk-label-container\"><div class=\"sk-label sk-toggleable\"><input class=\"sk-toggleable__control sk-hidden--visually\" id=\"d2853fed-c34f-4651-b438-c1382f4d0f5c\" type=\"checkbox\" ><label class=\"sk-toggleable__label\" for=\"d2853fed-c34f-4651-b438-c1382f4d0f5c\">onehotencoder</label><div class=\"sk-toggleable__content\"><pre>[0, 1, 2]</pre></div></div></div><div class=\"sk-serial\"><div class=\"sk-item\"><div class=\"sk-estimator sk-toggleable\"><input class=\"sk-toggleable__control sk-hidden--visually\" id=\"6bd9615c-bb76-40b7-a769-daa26ea11fd6\" type=\"checkbox\" ><label class=\"sk-toggleable__label\" for=\"6bd9615c-bb76-40b7-a769-daa26ea11fd6\">OneHotEncoder</label><div class=\"sk-toggleable__content\"><pre>OneHotEncoder(sparse=False)</pre></div></div></div></div></div></div><div class=\"sk-parallel-item\"><div class=\"sk-item\"><div class=\"sk-label-container\"><div class=\"sk-label sk-toggleable\"><input class=\"sk-toggleable__control sk-hidden--visually\" id=\"422d133c-fef9-48e7-a574-991a9e683f2f\" type=\"checkbox\" ><label class=\"sk-toggleable__label\" for=\"422d133c-fef9-48e7-a574-991a9e683f2f\">powertransformer</label><div class=\"sk-toggleable__content\"><pre>[3, 4, 9, 10, 11, 13, 14]</pre></div></div></div><div class=\"sk-serial\"><div class=\"sk-item\"><div class=\"sk-estimator sk-toggleable\"><input class=\"sk-toggleable__control sk-hidden--visually\" id=\"510d0c15-8b14-4562-b214-d17efd7feb58\" type=\"checkbox\" ><label class=\"sk-toggleable__label\" for=\"510d0c15-8b14-4562-b214-d17efd7feb58\">PowerTransformer</label><div class=\"sk-toggleable__content\"><pre>PowerTransformer()</pre></div></div></div></div></div></div><div class=\"sk-parallel-item\"><div class=\"sk-item\"><div class=\"sk-label-container\"><div class=\"sk-label sk-toggleable\"><input class=\"sk-toggleable__control sk-hidden--visually\" id=\"5e82e8ed-3177-49a7-b40e-52ebd32e6476\" type=\"checkbox\" ><label class=\"sk-toggleable__label\" for=\"5e82e8ed-3177-49a7-b40e-52ebd32e6476\">kbinsdiscretizer</label><div class=\"sk-toggleable__content\"><pre>[5]</pre></div></div></div><div class=\"sk-serial\"><div class=\"sk-item\"><div class=\"sk-estimator sk-toggleable\"><input class=\"sk-toggleable__control sk-hidden--visually\" id=\"03da8133-4e6a-4b7e-9124-9664deebabf2\" type=\"checkbox\" ><label class=\"sk-toggleable__label\" for=\"03da8133-4e6a-4b7e-9124-9664deebabf2\">KBinsDiscretizer</label><div class=\"sk-toggleable__content\"><pre>KBinsDiscretizer()</pre></div></div></div></div></div></div><div class=\"sk-parallel-item\"><div class=\"sk-item\"><div class=\"sk-label-container\"><div class=\"sk-label sk-toggleable\"><input class=\"sk-toggleable__control sk-hidden--visually\" id=\"0239d23f-1f47-4214-867e-78b58335b537\" type=\"checkbox\" ><label class=\"sk-toggleable__label\" for=\"0239d23f-1f47-4214-867e-78b58335b537\">binarizer</label><div class=\"sk-toggleable__content\"><pre>[7, 8, 12]</pre></div></div></div><div class=\"sk-serial\"><div class=\"sk-item\"><div class=\"sk-estimator sk-toggleable\"><input class=\"sk-toggleable__control sk-hidden--visually\" id=\"bef17986-15f0-4766-9566-458f9eae2f80\" type=\"checkbox\" ><label class=\"sk-toggleable__label\" for=\"bef17986-15f0-4766-9566-458f9eae2f80\">Binarizer</label><div class=\"sk-toggleable__content\"><pre>Binarizer(threshold=55)</pre></div></div></div></div></div></div><div class=\"sk-parallel-item\"><div class=\"sk-item\"><div class=\"sk-label-container\"><div class=\"sk-label sk-toggleable\"><input class=\"sk-toggleable__control sk-hidden--visually\" id=\"a911d789-4993-423a-a48d-b56bc5ba50c0\" type=\"checkbox\" ><label class=\"sk-toggleable__label\" for=\"a911d789-4993-423a-a48d-b56bc5ba50c0\">simpleimputer</label><div class=\"sk-toggleable__content\"><pre>[6]</pre></div></div></div><div class=\"sk-serial\"><div class=\"sk-item\"><div class=\"sk-estimator sk-toggleable\"><input class=\"sk-toggleable__control sk-hidden--visually\" id=\"69d1d0fa-1dfc-48e2-9dae-19dd79a12345\" type=\"checkbox\" ><label class=\"sk-toggleable__label\" for=\"69d1d0fa-1dfc-48e2-9dae-19dd79a12345\">SimpleImputer</label><div class=\"sk-toggleable__content\"><pre>SimpleImputer()</pre></div></div></div></div></div></div></div></div><div class=\"sk-item\"><div class=\"sk-estimator sk-toggleable\"><input class=\"sk-toggleable__control sk-hidden--visually\" id=\"f5d3e8d9-c14e-4b4c-bab2-dde959e7cccd\" type=\"checkbox\" ><label class=\"sk-toggleable__label\" for=\"f5d3e8d9-c14e-4b4c-bab2-dde959e7cccd\">Ridge</label><div class=\"sk-toggleable__content\"><pre>Ridge()</pre></div></div></div></div></div></div></div>"
      ],
      "text/plain": [
       "Pipeline(steps=[('columntransformer',\n",
       "                 ColumnTransformer(remainder='passthrough',\n",
       "                                   transformers=[('onehotencoder',\n",
       "                                                  OneHotEncoder(sparse=False),\n",
       "                                                  [0, 1, 2]),\n",
       "                                                 ('powertransformer',\n",
       "                                                  PowerTransformer(),\n",
       "                                                  [3, 4, 9, 10, 11, 13, 14]),\n",
       "                                                 ('kbinsdiscretizer',\n",
       "                                                  KBinsDiscretizer(), [5]),\n",
       "                                                 ('binarizer',\n",
       "                                                  Binarizer(threshold=55),\n",
       "                                                  [7, 8, 12]),\n",
       "                                                 ('simpleimputer',\n",
       "                                                  SimpleImputer(), [6])])),\n",
       "                ('ridge', Ridge())])"
      ]
     },
     "execution_count": 133,
     "metadata": {},
     "output_type": "execute_result"
    }
   ],
   "source": [
    "pipe_2.fit(x_train,y_train)"
   ]
  },
  {
   "cell_type": "code",
   "execution_count": 134,
   "metadata": {},
   "outputs": [
    {
     "data": {
      "text/plain": [
       "array([[ 2.57929578e-01],\n",
       "       [-6.50631245e-01],\n",
       "       [ 6.92804197e-01],\n",
       "       [-5.34357815e-01],\n",
       "       [-5.05709677e-01],\n",
       "       [-9.33350797e-01],\n",
       "       [-1.95372396e-01],\n",
       "       [-5.24893377e-01],\n",
       "       [-2.42790501e-01],\n",
       "       [-3.05082101e-01],\n",
       "       [-2.28553671e-01],\n",
       "       [ 1.11033504e-02],\n",
       "       [-4.84290316e-01],\n",
       "       [ 9.43728266e-01],\n",
       "       [-1.36580053e-01],\n",
       "       [-1.29851989e+00],\n",
       "       [ 2.87769710e-01],\n",
       "       [-3.27279588e-01],\n",
       "       [ 3.54983466e-01],\n",
       "       [ 3.26804684e-01],\n",
       "       [-7.80997981e-01],\n",
       "       [ 3.99949303e-01],\n",
       "       [ 7.14376085e-02],\n",
       "       [ 1.49367764e-01],\n",
       "       [-2.05422150e-01],\n",
       "       [-1.72922314e+00],\n",
       "       [ 7.60911891e-01],\n",
       "       [ 5.21015135e-01],\n",
       "       [ 5.87004441e-02],\n",
       "       [-4.62098378e-01],\n",
       "       [ 4.38748094e-01],\n",
       "       [ 1.40793649e-01],\n",
       "       [ 4.55638043e-01],\n",
       "       [-6.57931132e-01],\n",
       "       [ 6.30985592e-01],\n",
       "       [-1.76687213e-01],\n",
       "       [-3.93065089e-01],\n",
       "       [ 1.08398171e+00],\n",
       "       [ 1.40319350e-01],\n",
       "       [ 9.76413663e-01],\n",
       "       [ 9.57946434e-02],\n",
       "       [-6.98569058e-01],\n",
       "       [-1.40651559e-01],\n",
       "       [ 2.81332368e-02],\n",
       "       [-3.82348960e-01],\n",
       "       [ 6.17010902e-01],\n",
       "       [-7.11609219e-01],\n",
       "       [-4.29806791e-01],\n",
       "       [-2.30521527e-01],\n",
       "       [-7.32943015e-01],\n",
       "       [ 6.71921576e-01],\n",
       "       [ 8.29546593e-02],\n",
       "       [-9.85101656e-01],\n",
       "       [ 5.49250836e-01],\n",
       "       [-2.85450315e-01],\n",
       "       [ 5.24881806e-01],\n",
       "       [ 5.53779815e-01],\n",
       "       [-1.13263507e+00],\n",
       "       [ 4.75341732e-01],\n",
       "       [-5.54533959e-01],\n",
       "       [-3.44635818e-01],\n",
       "       [-1.81953008e-01],\n",
       "       [ 3.07904134e-01],\n",
       "       [-7.07334761e-01],\n",
       "       [-4.29406680e-01],\n",
       "       [-3.28719583e-01],\n",
       "       [-4.99596351e-02],\n",
       "       [ 3.70194311e-01],\n",
       "       [ 6.00732621e-01],\n",
       "       [ 1.16242818e-01],\n",
       "       [-7.44014345e-01],\n",
       "       [ 3.28006038e-01],\n",
       "       [-9.91899903e-01],\n",
       "       [-1.37417812e+00],\n",
       "       [-4.55224854e-01],\n",
       "       [-4.19906676e-02],\n",
       "       [-9.85097763e-01],\n",
       "       [-8.23669808e-01],\n",
       "       [ 6.55271582e-01],\n",
       "       [ 6.80988521e-01],\n",
       "       [-2.66775226e-01],\n",
       "       [ 6.71919127e-01],\n",
       "       [-6.45894400e-01],\n",
       "       [ 5.53361513e-01],\n",
       "       [ 5.82684101e-01],\n",
       "       [ 4.21505754e-01],\n",
       "       [ 1.24753681e+00],\n",
       "       [-6.94602118e-01],\n",
       "       [-1.06092773e+00],\n",
       "       [ 5.98831748e-01],\n",
       "       [-1.84343100e-01],\n",
       "       [ 3.12693738e-01],\n",
       "       [-8.00147831e-01],\n",
       "       [-1.93962661e-01],\n",
       "       [-8.97886052e-01],\n",
       "       [ 2.53146806e-01],\n",
       "       [-4.20638420e-01],\n",
       "       [-7.77655795e-01],\n",
       "       [-1.06384886e-01],\n",
       "       [ 6.07667424e-01],\n",
       "       [-4.29370189e-01],\n",
       "       [ 2.86901409e-01],\n",
       "       [ 5.34151750e-01],\n",
       "       [ 2.84856344e-01],\n",
       "       [-3.00827373e-01],\n",
       "       [-2.99444326e-01],\n",
       "       [ 6.06135126e-01],\n",
       "       [ 1.72825584e-01],\n",
       "       [ 1.38424919e+00],\n",
       "       [-9.82437279e-01],\n",
       "       [ 7.88554245e-01],\n",
       "       [ 9.29260451e-01],\n",
       "       [ 9.77058734e-02],\n",
       "       [-7.39203078e-01],\n",
       "       [ 6.78589602e-01],\n",
       "       [ 2.73496894e-01],\n",
       "       [-6.69465976e-01],\n",
       "       [ 5.82126963e-01],\n",
       "       [ 3.31079768e-01],\n",
       "       [-9.28276568e-01],\n",
       "       [-1.60121336e-01],\n",
       "       [ 6.59653541e-01],\n",
       "       [-3.94693448e-01],\n",
       "       [-6.55912328e-01],\n",
       "       [ 6.54585670e-01],\n",
       "       [-2.43499999e-01],\n",
       "       [ 5.70877065e-01],\n",
       "       [ 1.29898450e-01],\n",
       "       [ 3.73646717e-01],\n",
       "       [-8.67449645e-01],\n",
       "       [ 3.97155881e-01],\n",
       "       [ 4.05781147e-01],\n",
       "       [-1.93631149e-01],\n",
       "       [ 3.87210980e-01],\n",
       "       [ 6.47852325e-01],\n",
       "       [-5.30514274e-01],\n",
       "       [ 2.91037401e-01],\n",
       "       [ 4.22566631e-01],\n",
       "       [-6.31025116e-01],\n",
       "       [-4.30767224e-01],\n",
       "       [ 4.19838395e-02],\n",
       "       [-1.22714109e-01],\n",
       "       [-6.34354340e-02],\n",
       "       [ 3.76250722e-01],\n",
       "       [ 2.90427442e-01],\n",
       "       [-6.30710348e-01],\n",
       "       [ 1.36775183e+00],\n",
       "       [-2.85608530e-01],\n",
       "       [-4.83701256e-01],\n",
       "       [-1.59306812e-01],\n",
       "       [-6.97724681e-01],\n",
       "       [ 7.44696340e-01],\n",
       "       [-4.17210391e-02],\n",
       "       [ 3.82493424e-01],\n",
       "       [ 4.24468353e-01],\n",
       "       [-7.16077898e-01],\n",
       "       [ 4.01446615e-01],\n",
       "       [-8.16245659e-01],\n",
       "       [ 1.15962528e-01],\n",
       "       [-1.62485089e-01],\n",
       "       [-4.00556701e-01],\n",
       "       [-5.38917899e-02],\n",
       "       [-4.32975525e-01],\n",
       "       [-5.85046978e-01],\n",
       "       [-1.75206643e-01],\n",
       "       [ 3.38821475e-01],\n",
       "       [-2.75727962e-01],\n",
       "       [ 2.37405227e-01],\n",
       "       [-2.78229700e-01],\n",
       "       [-3.24503585e-01],\n",
       "       [-2.04360326e-01],\n",
       "       [-7.65797711e-01],\n",
       "       [ 1.67014146e-01],\n",
       "       [-9.34173274e-01],\n",
       "       [ 4.48259958e-01],\n",
       "       [-5.78029805e-02],\n",
       "       [ 5.16446860e-01],\n",
       "       [-3.28127760e-01],\n",
       "       [ 1.52351748e+00],\n",
       "       [ 5.48774029e-01],\n",
       "       [ 8.37574498e-01],\n",
       "       [ 3.51702651e-01],\n",
       "       [ 1.38387983e+00],\n",
       "       [-3.16817044e-01],\n",
       "       [-5.98952090e-01],\n",
       "       [ 7.38471027e-01],\n",
       "       [ 1.32746685e+00],\n",
       "       [-2.98889123e-01],\n",
       "       [-5.89308475e-01],\n",
       "       [ 7.82503392e-01],\n",
       "       [-1.26186601e+00],\n",
       "       [ 8.70838674e-01],\n",
       "       [ 8.77288036e-01],\n",
       "       [-3.98512910e-01],\n",
       "       [ 7.63308502e-01],\n",
       "       [-1.24947451e-01],\n",
       "       [-5.64973608e-01],\n",
       "       [ 1.42682890e+00],\n",
       "       [-1.50588710e+00],\n",
       "       [-6.23712603e-01],\n",
       "       [ 2.73256497e-01],\n",
       "       [-1.02829261e+00],\n",
       "       [ 2.08409555e-01],\n",
       "       [-1.72074155e-01],\n",
       "       [ 3.71896450e-01],\n",
       "       [ 1.63694163e-01],\n",
       "       [-9.32068430e-01],\n",
       "       [ 4.76397554e-01],\n",
       "       [-5.69086987e-01],\n",
       "       [ 6.19054512e-01],\n",
       "       [ 7.20996945e-01],\n",
       "       [ 1.08451579e-01],\n",
       "       [-6.50926760e-01],\n",
       "       [-1.89036104e-01],\n",
       "       [-6.13679921e-01],\n",
       "       [ 8.08996128e-01],\n",
       "       [-9.49533829e-01],\n",
       "       [ 1.26287221e-01],\n",
       "       [-2.90335038e-01],\n",
       "       [ 5.63718651e-01],\n",
       "       [-1.08828226e+00],\n",
       "       [ 2.95097744e-01],\n",
       "       [ 8.56378819e-01],\n",
       "       [-3.08688379e-01],\n",
       "       [-2.18478902e-01],\n",
       "       [ 9.03719842e-01],\n",
       "       [-6.42771860e-01],\n",
       "       [ 1.37754010e+00],\n",
       "       [-4.65438494e-01],\n",
       "       [-4.35732904e-01],\n",
       "       [ 7.49764735e-01],\n",
       "       [-4.57570791e-01],\n",
       "       [ 6.14880836e-01],\n",
       "       [-4.37182583e-01],\n",
       "       [-1.98110559e-02],\n",
       "       [-9.16447197e-01],\n",
       "       [-6.16749670e-02],\n",
       "       [ 1.22534276e-01],\n",
       "       [ 1.15179046e+00],\n",
       "       [ 1.07578551e+00],\n",
       "       [-6.03932529e-01],\n",
       "       [-4.76208471e-01],\n",
       "       [-3.14332124e-02],\n",
       "       [ 3.90513450e-01],\n",
       "       [-1.06321298e+00],\n",
       "       [-1.43022071e+00],\n",
       "       [-5.92062866e-01],\n",
       "       [-9.19422060e-01],\n",
       "       [ 8.56115832e-01],\n",
       "       [ 8.15752303e-01],\n",
       "       [ 4.91731363e-01],\n",
       "       [ 5.13357042e-02],\n",
       "       [ 8.96124256e-01],\n",
       "       [-2.28600430e-01],\n",
       "       [-9.65297776e-01],\n",
       "       [ 2.90512437e-01],\n",
       "       [ 1.02316725e-01],\n",
       "       [-8.38884233e-01],\n",
       "       [-9.61658353e-01],\n",
       "       [ 1.21990345e-03],\n",
       "       [-6.22361977e-01],\n",
       "       [ 7.80443074e-01],\n",
       "       [ 7.64979602e-01],\n",
       "       [ 5.62031848e-02],\n",
       "       [-5.55450210e-01],\n",
       "       [-1.19578020e-01],\n",
       "       [ 1.07418713e+00],\n",
       "       [-5.38463238e-01],\n",
       "       [ 9.69203168e-03],\n",
       "       [-1.53437243e-01],\n",
       "       [ 2.75444164e-01],\n",
       "       [ 3.79133338e-01],\n",
       "       [ 6.85593580e-01],\n",
       "       [-2.53541594e-01],\n",
       "       [-7.85708950e-01],\n",
       "       [-2.79270922e-01],\n",
       "       [-3.65162699e-01],\n",
       "       [-1.02206166e+00],\n",
       "       [ 4.42122083e-01],\n",
       "       [-3.30710493e-01],\n",
       "       [ 5.62731494e-01],\n",
       "       [-1.89063680e-01],\n",
       "       [-1.06649006e-01],\n",
       "       [-2.83641959e-01],\n",
       "       [-5.11488744e-01],\n",
       "       [-6.60591146e-01],\n",
       "       [ 9.93490773e-01],\n",
       "       [ 9.99905560e-01],\n",
       "       [ 3.32887286e-01],\n",
       "       [-7.27815736e-01],\n",
       "       [-2.26324183e-01],\n",
       "       [-4.40726701e-01],\n",
       "       [-2.72037379e-01],\n",
       "       [-2.19014561e-01],\n",
       "       [-4.04228497e-01],\n",
       "       [-6.39193387e-01],\n",
       "       [ 3.47147215e-02],\n",
       "       [-1.66553157e-01],\n",
       "       [ 9.72053241e-01],\n",
       "       [ 7.48210981e-01],\n",
       "       [ 6.63732301e-01],\n",
       "       [ 6.69970169e-02],\n",
       "       [ 4.76870717e-01],\n",
       "       [-1.55944379e+00],\n",
       "       [ 2.57013416e-01],\n",
       "       [-5.53871643e-01],\n",
       "       [-9.30327142e-01],\n",
       "       [ 4.12680724e-01],\n",
       "       [-1.46547720e-01],\n",
       "       [-7.25867491e-01],\n",
       "       [-5.95196489e-01],\n",
       "       [-6.70063617e-01],\n",
       "       [-7.84788680e-01],\n",
       "       [-4.82138756e-02],\n",
       "       [-1.41297091e-01],\n",
       "       [ 3.88914414e-01],\n",
       "       [ 6.91802249e-01],\n",
       "       [ 1.06877919e-01],\n",
       "       [-4.26920043e-01],\n",
       "       [ 5.57000648e-03],\n",
       "       [-3.46810345e-01],\n",
       "       [ 7.16244967e-01],\n",
       "       [ 7.17392075e-01],\n",
       "       [ 7.16628539e-01],\n",
       "       [-3.83163182e-01],\n",
       "       [-9.06486307e-02],\n",
       "       [-2.67635540e-01],\n",
       "       [-9.57962877e-01],\n",
       "       [-3.27049211e-02],\n",
       "       [-2.01315364e-01],\n",
       "       [ 3.09002383e-01],\n",
       "       [-6.28896456e-01],\n",
       "       [ 7.28592531e-01],\n",
       "       [ 1.43475050e-01],\n",
       "       [ 1.30528933e+00],\n",
       "       [ 7.09568618e-01],\n",
       "       [ 4.99083064e-02],\n",
       "       [-1.06666780e+00],\n",
       "       [-7.56221396e-01],\n",
       "       [-6.90182348e-01],\n",
       "       [ 4.80915926e-01],\n",
       "       [-8.29306029e-02],\n",
       "       [-6.39396313e-01],\n",
       "       [ 6.13945269e-01],\n",
       "       [ 6.69391973e-01],\n",
       "       [ 5.67276826e-01],\n",
       "       [ 7.59383462e-01],\n",
       "       [-1.65565300e-01],\n",
       "       [ 4.63232151e-01],\n",
       "       [ 5.33039839e-01],\n",
       "       [-4.99873869e-01],\n",
       "       [ 6.82996029e-03],\n",
       "       [ 3.13993473e-01],\n",
       "       [ 4.26460952e-01],\n",
       "       [-6.73438740e-01],\n",
       "       [-3.14077582e-01],\n",
       "       [-7.22622153e-02],\n",
       "       [ 1.61372007e+00],\n",
       "       [ 6.10658020e-01],\n",
       "       [-1.30913443e-01]])"
      ]
     },
     "execution_count": 134,
     "metadata": {},
     "output_type": "execute_result"
    }
   ],
   "source": [
    "pred = pipe.predict(x_test)\n",
    "pred\n"
   ]
  },
  {
   "cell_type": "code",
   "execution_count": 135,
   "metadata": {},
   "outputs": [
    {
     "data": {
      "text/plain": [
       "array([-2.08061294e-02, -4.26871784e-02, -2.14935253e-02, -2.08061294e-02,\n",
       "       -2.08061294e-02, -6.60929636e-02, -3.24114678e-02,  1.36865116e-02,\n",
       "       -4.47565923e-02, -7.99385957e-04, -5.39619164e-02, -2.08061294e-02,\n",
       "       -4.74682382e-02, -2.08061294e-02, -2.08061294e-02, -5.23206571e-02,\n",
       "       -2.08061294e-02, -7.22170507e-03, -2.08061294e-02, -2.08061294e-02,\n",
       "       -4.69687245e-02, -2.08061294e-02, -2.08061294e-02, -2.08061294e-02,\n",
       "       -7.45846967e-02, -1.05269110e-01, -2.08061294e-02, -2.08061294e-02,\n",
       "       -1.97095478e-02, -8.00793475e-02, -2.08061294e-02, -2.84867172e-02,\n",
       "       -2.08061294e-02, -3.42668045e-02, -2.08061294e-02, -4.41143604e-02,\n",
       "       -4.19022283e-02, -1.52852835e-02, -2.08061294e-02, -4.04036872e-02,\n",
       "       -2.08061294e-02, -2.08061294e-02, -2.08061294e-02, -2.08061294e-02,\n",
       "       -3.05561312e-02, -2.96284629e-02, -2.15648844e-02, -4.57556198e-02,\n",
       "       -4.19735874e-02, -6.36539586e-03, -2.08061294e-02, -2.08061294e-02,\n",
       "       -3.41240862e-02, -2.08061294e-02, -2.08061294e-02, -2.08061294e-02,\n",
       "       -1.26449968e-02, -2.08061294e-02, -4.68973654e-02, -5.11075524e-02,\n",
       "       -1.42148970e-02, -4.77536746e-02, -2.08061294e-02, -1.62129518e-02,\n",
       "        2.71733817e-02, -3.66930139e-02,  5.92979696e-01, -2.08061294e-02,\n",
       "       -2.08061294e-02, -3.14124404e-02, -2.08061294e-02, -2.08061294e-02,\n",
       "       -2.61318669e-02, -2.27066300e-02,  1.19866888e-03, -1.38581015e-02,\n",
       "       -4.37575649e-02, -5.49609438e-02, -2.08061294e-02, -2.08061294e-02,\n",
       "       -2.08061294e-02, -2.05658570e-02, -1.44161787e-03, -3.01279766e-02,\n",
       "       -3.25541860e-02, -2.08061294e-02, -2.08061294e-02, -3.43381636e-02,\n",
       "       -3.00566175e-02, -5.31769663e-02, -2.08061294e-02, -2.08061294e-02,\n",
       "       -7.58691605e-02, -2.58464305e-02,  8.62001541e-03, -2.08061294e-02,\n",
       "       -1.89959568e-02, -5.52463802e-02, -2.08061294e-02, -2.08061294e-02,\n",
       "       -6.36667542e-02, -2.04231388e-02, -1.14318920e-02, -1.69979019e-02,\n",
       "       -2.08061294e-02, -9.84186365e-02, -5.38905573e-02, -2.08061294e-02,\n",
       "        1.41175402e+00, -2.04231388e-02, -6.72219136e-03, -2.08061294e-02,\n",
       "       -2.08061294e-02, -1.32872287e-02, -2.08061294e-02, -2.08061294e-02,\n",
       "       -7.73677016e-02, -2.08061294e-02, -2.04944979e-02, -8.64888710e-03,\n",
       "       -2.08061294e-02, -7.22298463e-02, -2.08061294e-02, -3.99041735e-02,\n",
       "       -2.98425402e-02,  2.06797035e-02, -4.39002831e-02, -2.67027397e-02,\n",
       "       -2.08061294e-02, -2.08061294e-02, -5.83861807e-02, -2.08061294e-02,\n",
       "       -2.84867172e-02, -2.08061294e-02, -2.08061294e-02, -2.41338121e-02,\n",
       "       -2.08061294e-02,  1.87530078e-02, -5.06080386e-02, -5.30342481e-02,\n",
       "       -2.08061294e-02, -6.40235497e-02, -2.08061294e-02, -4.93821383e-03,\n",
       "       -2.08061294e-02, -2.08061294e-02, -2.61318669e-02,  1.67549530e-02,\n",
       "       -5.67449214e-02, -4.21876647e-02, -1.64983882e-02, -2.94857447e-02,\n",
       "       -2.08061294e-02, -2.08061294e-02, -3.16265177e-02, -5.82434625e-02,\n",
       "       -2.52755577e-02, -1.03615055e-02,  2.77442546e-02, -1.57847972e-02,\n",
       "       -1.65697473e-02, -6.18114175e-02, -1.05055033e-01, -3.14837995e-02,\n",
       "       -4.96803703e-02, -2.08061294e-02, -8.50744846e-02, -2.08061294e-02,\n",
       "       -2.08061294e-02, -3.90478642e-02, -2.08061294e-02, -2.08061294e-02,\n",
       "       -2.08061294e-02, -2.08061294e-02, -2.08061294e-02, -3.82629141e-02,\n",
       "       -2.97711811e-02, -2.08061294e-02, -2.08061294e-02, -2.08061294e-02,\n",
       "       -2.54182759e-02, -4.29598192e-03,  1.41274618e-03, -4.76823155e-02,\n",
       "       -4.29598192e-03,  2.75301772e-02, -2.08061294e-02, -3.66930139e-02,\n",
       "       -2.08061294e-02, -3.65502957e-02, -2.29792708e-03, -2.08061294e-02,\n",
       "       -2.08061294e-02, -2.08061294e-02, -3.20546723e-02, -3.73352458e-02,\n",
       "       -2.08061294e-02, -2.72608169e-03, -2.29207073e-02, -3.49803955e-02,\n",
       "       -2.32775029e-02, -3.26255451e-02,  3.19672371e-03, -2.08061294e-02,\n",
       "       -2.08061294e-02, -2.08061294e-02, -2.08061294e-02, -2.85580763e-02,\n",
       "       -2.08061294e-02, -3.85483505e-02, -2.08061294e-02, -2.08061294e-02,\n",
       "       -2.08061294e-02, -2.08061294e-02, -4.75395973e-02, -2.08061294e-02,\n",
       "        3.48216012e-03, -1.42862561e-02, -3.17692359e-02, -2.08061294e-02,\n",
       "        6.99155170e-04, -2.08061294e-02, -2.10653707e-02, -5.62454076e-02,\n",
       "       -1.56420790e-02, -2.08061294e-02, -3.24828269e-02,  2.12633720e-03,\n",
       "       -5.58044574e-03, -6.39521906e-02, -2.08061294e-02, -2.08061294e-02,\n",
       "       -2.08061294e-02,  8.04914260e-03, -2.08061294e-02, -4.57556198e-02,\n",
       "       -2.77017671e-02, -2.08061294e-02, -2.64173033e-02, -3.66930139e-02,\n",
       "       -6.45230634e-02, -2.24925527e-02, -2.08061294e-02, -2.08061294e-02,\n",
       "        7.76370620e-03, -5.28915299e-02, -2.95571038e-02, -2.08061294e-02,\n",
       "       -2.08061294e-02, -2.85580763e-02, -2.08061294e-02, -2.08061294e-02,\n",
       "       -2.08061294e-02,  1.11889431e-02, -2.08061294e-02, -1.04912315e-01,\n",
       "       -1.03699210e-01, -4.62551335e-02, -3.36831360e-03, -2.08061294e-02,\n",
       "       -6.78055820e-02, -2.08061294e-02, -5.18211434e-02, -2.08061294e-02,\n",
       "       -2.08061294e-02, -2.08061294e-02, -1.77828521e-02, -8.00079884e-02,\n",
       "       -1.62129518e-02, -2.75590489e-02, -2.08061294e-02, -6.58075272e-02,\n",
       "       -2.08061294e-02, -2.87721537e-02, -2.08061294e-02, -2.08061294e-02,\n",
       "       -2.08061294e-02, -1.57134381e-02, -2.08061294e-02, -1.32158696e-02,\n",
       "       -4.98944476e-02, -2.08061294e-02, -5.81007443e-02, -2.08061294e-02,\n",
       "        1.28282360e-04, -1.95668296e-02, -2.68454579e-02, -4.93821383e-03,\n",
       "       -3.56226274e-02, -3.21973905e-02, -2.30634256e-02, -2.08061294e-02,\n",
       "       -8.50616889e-03, -2.08061294e-02, -3.95473779e-02, -6.60216045e-02,\n",
       "       -2.08061294e-02, -6.00987991e-02, -2.08061294e-02, -2.78444853e-02,\n",
       "       -2.08061294e-02, -4.08318418e-02, -2.08061294e-02, -2.59177896e-02,\n",
       "       -2.08061294e-02, -2.45619667e-02,  1.21879705e-02, -1.07183010e-02,\n",
       "       -5.16070661e-02, -3.68357321e-02, -5.91711308e-02,  8.47729721e-03,\n",
       "       -2.44064529e-03, -2.96998220e-02, -2.06372161e-02, -2.08061294e-02,\n",
       "       -2.08061294e-02, -1.79255703e-02, -4.65277743e-03, -2.22784754e-02,\n",
       "       -5.74585124e-02, -2.19216799e-02, -8.56453574e-02, -2.08061294e-02,\n",
       "       -7.79257788e-03, -2.08061294e-02, -5.73871533e-02, -2.44064529e-03,\n",
       "       -3.55512683e-02, -2.08061294e-02, -2.08061294e-02, -6.45944225e-02,\n",
       "       -2.08061294e-02, -2.08061294e-02,  5.33749675e-03, -1.30731514e-02,\n",
       "       -3.16265177e-02, -5.23206571e-02, -5.10361932e-02, -2.08061294e-02,\n",
       "       -2.08061294e-02, -2.92716674e-02, -2.08061294e-02, -2.08061294e-02,\n",
       "        1.09748658e-02, -2.08061294e-02,  1.09035067e-02, -2.08061294e-02,\n",
       "       -1.45716925e-02, -7.28026856e-04, -2.08061294e-02, -3.71925276e-02,\n",
       "       -1.89959568e-02, -2.76304080e-02, -2.84867172e-02, -3.84056323e-02,\n",
       "        9.13232473e-04, -2.47046849e-02, -1.62843109e-02, -2.08061294e-02])"
      ]
     },
     "execution_count": 135,
     "metadata": {},
     "output_type": "execute_result"
    }
   ],
   "source": [
    "pred_1 = pipe_1.predict(x_test)\n",
    "pred_1"
   ]
  },
  {
   "cell_type": "code",
   "execution_count": 136,
   "metadata": {},
   "outputs": [
    {
     "data": {
      "text/plain": [
       "array([[ 0.25923887],\n",
       "       [-0.64809614],\n",
       "       [ 0.68845667],\n",
       "       [-0.54795574],\n",
       "       [-0.49657876],\n",
       "       [-0.93243484],\n",
       "       [-0.18954771],\n",
       "       [-0.50916779],\n",
       "       [-0.24054874],\n",
       "       [-0.30461902],\n",
       "       [-0.22644972],\n",
       "       [ 0.00852777],\n",
       "       [-0.48406187],\n",
       "       [ 0.94231341],\n",
       "       [-0.13333881],\n",
       "       [-1.295983  ],\n",
       "       [ 0.28826458],\n",
       "       [-0.32189971],\n",
       "       [ 0.35252256],\n",
       "       [ 0.32706042],\n",
       "       [-0.77883889],\n",
       "       [ 0.39929183],\n",
       "       [ 0.07223021],\n",
       "       [ 0.15030992],\n",
       "       [-0.20098718],\n",
       "       [-1.72645664],\n",
       "       [ 0.76246798],\n",
       "       [ 0.5212075 ],\n",
       "       [ 0.05360444],\n",
       "       [-0.46079249],\n",
       "       [ 0.43759189],\n",
       "       [ 0.14235152],\n",
       "       [ 0.45406155],\n",
       "       [-0.65532028],\n",
       "       [ 0.63101207],\n",
       "       [-0.17441362],\n",
       "       [-0.38885755],\n",
       "       [ 1.07405036],\n",
       "       [ 0.14155715],\n",
       "       [ 0.9589531 ],\n",
       "       [ 0.09359308],\n",
       "       [-0.69530061],\n",
       "       [-0.1424418 ],\n",
       "       [ 0.02383491],\n",
       "       [-0.39798981],\n",
       "       [ 0.61628357],\n",
       "       [-0.69973777],\n",
       "       [-0.42856498],\n",
       "       [-0.22415598],\n",
       "       [-0.71865752],\n",
       "       [ 0.6690536 ],\n",
       "       [ 0.08194211],\n",
       "       [-0.98210167],\n",
       "       [ 0.55198659],\n",
       "       [-0.28740236],\n",
       "       [ 0.52598495],\n",
       "       [ 0.5488596 ],\n",
       "       [-1.13161844],\n",
       "       [ 0.47112158],\n",
       "       [-0.55007719],\n",
       "       [-0.34440607],\n",
       "       [-0.17823706],\n",
       "       [ 0.30649684],\n",
       "       [-0.70359681],\n",
       "       [-0.43842847],\n",
       "       [-0.32244673],\n",
       "       [-0.04031111],\n",
       "       [ 0.373479  ],\n",
       "       [ 0.60197299],\n",
       "       [ 0.10911809],\n",
       "       [-0.7419338 ],\n",
       "       [ 0.32942544],\n",
       "       [-0.98762374],\n",
       "       [-1.3573153 ],\n",
       "       [-0.44044585],\n",
       "       [-0.03781824],\n",
       "       [-0.98621432],\n",
       "       [-0.82389854],\n",
       "       [ 0.65260132],\n",
       "       [ 0.68011146],\n",
       "       [-0.26197134],\n",
       "       [ 0.66871775],\n",
       "       [-0.64518033],\n",
       "       [ 0.54898391],\n",
       "       [ 0.57778748],\n",
       "       [ 0.42042839],\n",
       "       [ 1.23602963],\n",
       "       [-0.69620492],\n",
       "       [-1.06279833],\n",
       "       [ 0.59723636],\n",
       "       [-0.18254716],\n",
       "       [ 0.3089349 ],\n",
       "       [-0.79648985],\n",
       "       [-0.19127364],\n",
       "       [-0.89438044],\n",
       "       [ 0.25056848],\n",
       "       [-0.41269164],\n",
       "       [-0.76628701],\n",
       "       [-0.10854785],\n",
       "       [ 0.58811418],\n",
       "       [-0.42846886],\n",
       "       [ 0.28565841],\n",
       "       [ 0.53075972],\n",
       "       [ 0.28248293],\n",
       "       [-0.29622248],\n",
       "       [-0.30025668],\n",
       "       [ 0.6028364 ],\n",
       "       [ 0.17562557],\n",
       "       [ 1.38360473],\n",
       "       [-0.96826268],\n",
       "       [ 0.78339359],\n",
       "       [ 0.92688631],\n",
       "       [ 0.09876428],\n",
       "       [-0.73757183],\n",
       "       [ 0.67870743],\n",
       "       [ 0.27191848],\n",
       "       [-0.66626227],\n",
       "       [ 0.58036992],\n",
       "       [ 0.32714097],\n",
       "       [-0.92778377],\n",
       "       [-0.16087555],\n",
       "       [ 0.65420753],\n",
       "       [-0.39494169],\n",
       "       [-0.65736415],\n",
       "       [ 0.64928854],\n",
       "       [-0.24167637],\n",
       "       [ 0.56533182],\n",
       "       [ 0.12387055],\n",
       "       [ 0.37317936],\n",
       "       [-0.86585087],\n",
       "       [ 0.39487312],\n",
       "       [ 0.40532012],\n",
       "       [-0.18809749],\n",
       "       [ 0.38708599],\n",
       "       [ 0.64784319],\n",
       "       [-0.53178388],\n",
       "       [ 0.28966573],\n",
       "       [ 0.41800823],\n",
       "       [-0.62728183],\n",
       "       [-0.43183819],\n",
       "       [ 0.04089284],\n",
       "       [-0.11097664],\n",
       "       [-0.0611074 ],\n",
       "       [ 0.37041529],\n",
       "       [ 0.28547545],\n",
       "       [-0.62533549],\n",
       "       [ 1.34648669],\n",
       "       [-0.3014227 ],\n",
       "       [-0.47969162],\n",
       "       [-0.15723864],\n",
       "       [-0.68119305],\n",
       "       [ 0.73845134],\n",
       "       [-0.04494322],\n",
       "       [ 0.38183014],\n",
       "       [ 0.42336726],\n",
       "       [-0.71431677],\n",
       "       [ 0.40134133],\n",
       "       [-0.81348405],\n",
       "       [ 0.11762112],\n",
       "       [-0.15641954],\n",
       "       [-0.39759054],\n",
       "       [-0.05020479],\n",
       "       [-0.41271599],\n",
       "       [-0.58538196],\n",
       "       [-0.17452607],\n",
       "       [ 0.34204596],\n",
       "       [-0.27415273],\n",
       "       [ 0.23485313],\n",
       "       [-0.27979548],\n",
       "       [-0.32251514],\n",
       "       [-0.20539186],\n",
       "       [-0.75972417],\n",
       "       [ 0.1699479 ],\n",
       "       [-0.93142342],\n",
       "       [ 0.44738444],\n",
       "       [-0.05191257],\n",
       "       [ 0.51452487],\n",
       "       [-0.3250005 ],\n",
       "       [ 1.50614634],\n",
       "       [ 0.54772281],\n",
       "       [ 0.83236236],\n",
       "       [ 0.34720187],\n",
       "       [ 1.36250301],\n",
       "       [-0.31374749],\n",
       "       [-0.59879323],\n",
       "       [ 0.73333213],\n",
       "       [ 1.31131691],\n",
       "       [-0.29255903],\n",
       "       [-0.58672416],\n",
       "       [ 0.78048355],\n",
       "       [-1.24725757],\n",
       "       [ 0.86963566],\n",
       "       [ 0.87813594],\n",
       "       [-0.39009621],\n",
       "       [ 0.75987044],\n",
       "       [-0.11984519],\n",
       "       [-0.56195808],\n",
       "       [ 1.40732459],\n",
       "       [-1.49161541],\n",
       "       [-0.62403853],\n",
       "       [ 0.27526018],\n",
       "       [-1.03010607],\n",
       "       [ 0.2032691 ],\n",
       "       [-0.16860338],\n",
       "       [ 0.37030418],\n",
       "       [ 0.16750251],\n",
       "       [-0.93052092],\n",
       "       [ 0.47158613],\n",
       "       [-0.56345943],\n",
       "       [ 0.61641509],\n",
       "       [ 0.7200746 ],\n",
       "       [ 0.10678952],\n",
       "       [-0.64843042],\n",
       "       [-0.18805308],\n",
       "       [-0.61210782],\n",
       "       [ 0.80878471],\n",
       "       [-0.93710141],\n",
       "       [ 0.12389307],\n",
       "       [-0.28650369],\n",
       "       [ 0.56741368],\n",
       "       [-1.0836397 ],\n",
       "       [ 0.29141072],\n",
       "       [ 0.85202129],\n",
       "       [-0.30441123],\n",
       "       [-0.22435451],\n",
       "       [ 0.90235027],\n",
       "       [-0.65249159],\n",
       "       [ 1.3682093 ],\n",
       "       [-0.46246491],\n",
       "       [-0.43445911],\n",
       "       [ 0.75128785],\n",
       "       [-0.45859929],\n",
       "       [ 0.61575738],\n",
       "       [-0.43421427],\n",
       "       [-0.02143739],\n",
       "       [-0.91215569],\n",
       "       [-0.05975203],\n",
       "       [ 0.12355938],\n",
       "       [ 1.14523168],\n",
       "       [ 1.07011248],\n",
       "       [-0.59844882],\n",
       "       [-0.47225454],\n",
       "       [-0.03094126],\n",
       "       [ 0.39001048],\n",
       "       [-1.04719192],\n",
       "       [-1.43447362],\n",
       "       [-0.59455401],\n",
       "       [-0.91460124],\n",
       "       [ 0.8546549 ],\n",
       "       [ 0.7949619 ],\n",
       "       [ 0.49365186],\n",
       "       [ 0.04930162],\n",
       "       [ 0.89461805],\n",
       "       [-0.22901853],\n",
       "       [-0.95988787],\n",
       "       [ 0.29411229],\n",
       "       [ 0.10382043],\n",
       "       [-0.83154454],\n",
       "       [-0.94607776],\n",
       "       [ 0.00291663],\n",
       "       [-0.61946222],\n",
       "       [ 0.78291761],\n",
       "       [ 0.75751974],\n",
       "       [ 0.05183464],\n",
       "       [-0.55309514],\n",
       "       [-0.12167766],\n",
       "       [ 1.06955096],\n",
       "       [-0.5388794 ],\n",
       "       [ 0.01341807],\n",
       "       [-0.15348946],\n",
       "       [ 0.27516528],\n",
       "       [ 0.36707627],\n",
       "       [ 0.68607362],\n",
       "       [-0.24883672],\n",
       "       [-0.78274217],\n",
       "       [-0.27508592],\n",
       "       [-0.356682  ],\n",
       "       [-1.00846859],\n",
       "       [ 0.44120663],\n",
       "       [-0.32942923],\n",
       "       [ 0.56359953],\n",
       "       [-0.19694362],\n",
       "       [-0.09999577],\n",
       "       [-0.27880246],\n",
       "       [-0.52166875],\n",
       "       [-0.65898129],\n",
       "       [ 0.98787294],\n",
       "       [ 0.99642625],\n",
       "       [ 0.32722985],\n",
       "       [-0.72548092],\n",
       "       [-0.2227598 ],\n",
       "       [-0.44196577],\n",
       "       [-0.26975248],\n",
       "       [-0.21183622],\n",
       "       [-0.40510143],\n",
       "       [-0.63390456],\n",
       "       [ 0.03449398],\n",
       "       [-0.16522431],\n",
       "       [ 0.9698668 ],\n",
       "       [ 0.74561648],\n",
       "       [ 0.66087677],\n",
       "       [ 0.06910121],\n",
       "       [ 0.47241096],\n",
       "       [-1.55854703],\n",
       "       [ 0.25533539],\n",
       "       [-0.55112899],\n",
       "       [-0.91790838],\n",
       "       [ 0.40910306],\n",
       "       [-0.14145645],\n",
       "       [-0.72228014],\n",
       "       [-0.60638778],\n",
       "       [-0.66987333],\n",
       "       [-0.78345155],\n",
       "       [-0.04867658],\n",
       "       [-0.14018966],\n",
       "       [ 0.388489  ],\n",
       "       [ 0.6888765 ],\n",
       "       [ 0.11096727],\n",
       "       [-0.42783095],\n",
       "       [ 0.01180085],\n",
       "       [-0.34343151],\n",
       "       [ 0.7111592 ],\n",
       "       [ 0.69615643],\n",
       "       [ 0.71901959],\n",
       "       [-0.37780282],\n",
       "       [-0.09334242],\n",
       "       [-0.2638154 ],\n",
       "       [-0.95476396],\n",
       "       [-0.0265759 ],\n",
       "       [-0.20198905],\n",
       "       [ 0.30661399],\n",
       "       [-0.62811328],\n",
       "       [ 0.72780682],\n",
       "       [ 0.14295446],\n",
       "       [ 1.29688033],\n",
       "       [ 0.70323387],\n",
       "       [ 0.05240662],\n",
       "       [-1.06305323],\n",
       "       [-0.75495172],\n",
       "       [-0.68662384],\n",
       "       [ 0.48103134],\n",
       "       [-0.07846624],\n",
       "       [-0.63858195],\n",
       "       [ 0.61214206],\n",
       "       [ 0.6641531 ],\n",
       "       [ 0.56806201],\n",
       "       [ 0.75319557],\n",
       "       [-0.16691584],\n",
       "       [ 0.45925561],\n",
       "       [ 0.52958006],\n",
       "       [-0.49308851],\n",
       "       [ 0.00831978],\n",
       "       [ 0.31445024],\n",
       "       [ 0.42331745],\n",
       "       [-0.66951065],\n",
       "       [-0.31050749],\n",
       "       [-0.06990063],\n",
       "       [ 1.59292999],\n",
       "       [ 0.60613048],\n",
       "       [-0.13563524]])"
      ]
     },
     "execution_count": 136,
     "metadata": {},
     "output_type": "execute_result"
    }
   ],
   "source": [
    "pred_2 = pipe_2.predict(x_test)\n",
    "pred_2\n"
   ]
  },
  {
   "cell_type": "code",
   "execution_count": 137,
   "metadata": {},
   "outputs": [
    {
     "data": {
      "text/plain": [
       "0.5667798690691385"
      ]
     },
     "execution_count": 137,
     "metadata": {},
     "output_type": "execute_result"
    }
   ],
   "source": [
    "from sklearn.metrics import mean_squared_error\n",
    "mean_squared_error(pred,y_test)\n"
   ]
  },
  {
   "cell_type": "code",
   "execution_count": 138,
   "metadata": {},
   "outputs": [
    {
     "data": {
      "text/plain": [
       "0.9378830279763818"
      ]
     },
     "execution_count": 138,
     "metadata": {},
     "output_type": "execute_result"
    }
   ],
   "source": [
    "from sklearn.metrics import mean_squared_error\n",
    "mean_squared_error(pred_1,y_test)"
   ]
  },
  {
   "cell_type": "code",
   "execution_count": 139,
   "metadata": {},
   "outputs": [
    {
     "data": {
      "text/plain": [
       "0.5663436018205317"
      ]
     },
     "execution_count": 139,
     "metadata": {},
     "output_type": "execute_result"
    }
   ],
   "source": [
    "from sklearn.metrics import mean_squared_error\n",
    "mean_squared_error(pred_2,y_test)"
   ]
  },
  {
   "cell_type": "code",
   "execution_count": 140,
   "metadata": {},
   "outputs": [
    {
     "data": {
      "text/plain": [
       "array([[-1.06194226e-01, -1.39330421e-01, -2.03039188e-01,\n",
       "        -9.14713840e-02,  5.40035219e-01, -6.21217060e-02,\n",
       "         2.45809748e-01, -1.83688042e-01, -6.98884960e-02,\n",
       "         4.60074220e-02,  7.96848482e-03, -1.06902466e-01,\n",
       "         9.79798373e-02,  2.48352181e-02, -1.21476357e-01,\n",
       "         3.14012906e-01, -4.82396961e-02, -4.82396961e-02,\n",
       "        -5.23841589e-02,  8.13834327e-02,  0.00000000e+00,\n",
       "        -3.29673011e-01,  4.71328419e-01,  2.01251221e-01,\n",
       "        -4.40323103e-02, -2.98874319e-01, -2.07799727e-01,\n",
       "         6.95712708e-01,  3.83574339e-01,  1.98634048e-05]])"
      ]
     },
     "execution_count": 140,
     "metadata": {},
     "output_type": "execute_result"
    }
   ],
   "source": [
    "algorithm.coef_"
   ]
  },
  {
   "cell_type": "code",
   "execution_count": 141,
   "metadata": {},
   "outputs": [
    {
     "data": {
      "text/plain": [
       "array([ 0.00000000e+00,  0.00000000e+00, -0.00000000e+00, -0.00000000e+00,\n",
       "        0.00000000e+00, -0.00000000e+00,  0.00000000e+00, -0.00000000e+00,\n",
       "       -0.00000000e+00,  0.00000000e+00, -0.00000000e+00, -0.00000000e+00,\n",
       "        0.00000000e+00, -0.00000000e+00, -0.00000000e+00,  0.00000000e+00,\n",
       "       -0.00000000e+00, -0.00000000e+00, -0.00000000e+00, -0.00000000e+00,\n",
       "        0.00000000e+00, -0.00000000e+00,  0.00000000e+00, -0.00000000e+00,\n",
       "        0.00000000e+00, -0.00000000e+00, -0.00000000e+00,  0.00000000e+00,\n",
       "        0.00000000e+00,  7.13591013e-05])"
      ]
     },
     "execution_count": 141,
     "metadata": {},
     "output_type": "execute_result"
    }
   ],
   "source": [
    "algorithm_1.coef_\n"
   ]
  },
  {
   "cell_type": "code",
   "execution_count": 142,
   "metadata": {},
   "outputs": [
    {
     "data": {
      "text/plain": [
       "array([[-1.03100915e-01, -1.35369182e-01, -1.98319241e-01,\n",
       "        -8.81201540e-02,  5.24909492e-01, -6.28232769e-02,\n",
       "         2.43763188e-01, -1.80939911e-01, -6.97640414e-02,\n",
       "         4.72825498e-02,  6.97039932e-03, -1.04323351e-01,\n",
       "         9.60329259e-02,  2.38015176e-02, -1.21709470e-01,\n",
       "         3.14808500e-01, -4.81655415e-02, -4.81655413e-02,\n",
       "        -5.32025407e-02,  8.09170103e-02,  0.00000000e+00,\n",
       "        -3.31469174e-01,  4.64462220e-01,  1.94423672e-01,\n",
       "        -3.69132008e-02, -2.90503518e-01, -2.04000729e-01,\n",
       "         6.88002572e-01,  3.69178737e-01,  2.00540844e-05]])"
      ]
     },
     "execution_count": 142,
     "metadata": {},
     "output_type": "execute_result"
    }
   ],
   "source": [
    "algorithm_2.coef_"
   ]
  },
  {
   "cell_type": "code",
   "execution_count": 143,
   "metadata": {},
   "outputs": [
    {
     "data": {
      "text/plain": [
       "array([-0.0019501])"
      ]
     },
     "execution_count": 143,
     "metadata": {},
     "output_type": "execute_result"
    }
   ],
   "source": [
    "algorithm.intercept_"
   ]
  },
  {
   "cell_type": "code",
   "execution_count": 144,
   "metadata": {},
   "outputs": [
    {
     "data": {
      "text/plain": [
       "array([-0.10576862])"
      ]
     },
     "execution_count": 144,
     "metadata": {},
     "output_type": "execute_result"
    }
   ],
   "source": [
    "algorithm_1.intercept_"
   ]
  },
  {
   "cell_type": "code",
   "execution_count": 145,
   "metadata": {},
   "outputs": [
    {
     "data": {
      "text/plain": [
       "array([-0.00241265])"
      ]
     },
     "execution_count": 145,
     "metadata": {},
     "output_type": "execute_result"
    }
   ],
   "source": [
    "algorithm_2.intercept_"
   ]
  },
  {
   "cell_type": "code",
   "execution_count": 146,
   "metadata": {},
   "outputs": [],
   "source": [
    "from sklearn.tree import DecisionTreeRegressor\n",
    "from sklearn.pipeline import make_pipeline\n",
    "model_D = DecisionTreeRegressor(criterion = 'friedman_mse',max_features = 'sqrt')\n",
    "pipe_D = make_pipeline(trans,model_D)"
   ]
  },
  {
   "cell_type": "code",
   "execution_count": 147,
   "metadata": {},
   "outputs": [
    {
     "data": {
      "text/html": [
       "<style>div.sk-top-container {color: black;background-color: white;}div.sk-toggleable {background-color: white;}label.sk-toggleable__label {cursor: pointer;display: block;width: 100%;margin-bottom: 0;padding: 0.2em 0.3em;box-sizing: border-box;text-align: center;}div.sk-toggleable__content {max-height: 0;max-width: 0;overflow: hidden;text-align: left;background-color: #f0f8ff;}div.sk-toggleable__content pre {margin: 0.2em;color: black;border-radius: 0.25em;background-color: #f0f8ff;}input.sk-toggleable__control:checked~div.sk-toggleable__content {max-height: 200px;max-width: 100%;overflow: auto;}div.sk-estimator input.sk-toggleable__control:checked~label.sk-toggleable__label {background-color: #d4ebff;}div.sk-label input.sk-toggleable__control:checked~label.sk-toggleable__label {background-color: #d4ebff;}input.sk-hidden--visually {border: 0;clip: rect(1px 1px 1px 1px);clip: rect(1px, 1px, 1px, 1px);height: 1px;margin: -1px;overflow: hidden;padding: 0;position: absolute;width: 1px;}div.sk-estimator {font-family: monospace;background-color: #f0f8ff;margin: 0.25em 0.25em;border: 1px dotted black;border-radius: 0.25em;box-sizing: border-box;}div.sk-estimator:hover {background-color: #d4ebff;}div.sk-parallel-item::after {content: \"\";width: 100%;border-bottom: 1px solid gray;flex-grow: 1;}div.sk-label:hover label.sk-toggleable__label {background-color: #d4ebff;}div.sk-serial::before {content: \"\";position: absolute;border-left: 1px solid gray;box-sizing: border-box;top: 2em;bottom: 0;left: 50%;}div.sk-serial {display: flex;flex-direction: column;align-items: center;background-color: white;}div.sk-item {z-index: 1;}div.sk-parallel {display: flex;align-items: stretch;justify-content: center;background-color: white;}div.sk-parallel-item {display: flex;flex-direction: column;position: relative;background-color: white;}div.sk-parallel-item:first-child::after {align-self: flex-end;width: 50%;}div.sk-parallel-item:last-child::after {align-self: flex-start;width: 50%;}div.sk-parallel-item:only-child::after {width: 0;}div.sk-dashed-wrapped {border: 1px dashed gray;margin: 0.2em;box-sizing: border-box;padding-bottom: 0.1em;background-color: white;position: relative;}div.sk-label label {font-family: monospace;font-weight: bold;background-color: white;display: inline-block;line-height: 1.2em;}div.sk-label-container {position: relative;z-index: 2;text-align: center;}div.sk-container {display: inline-block;position: relative;}</style><div class=\"sk-top-container\"><div class=\"sk-container\"><div class=\"sk-item\"><div class=\"sk-estimator sk-toggleable\"><input class=\"sk-toggleable__control sk-hidden--visually\" id=\"802f4415-21bd-48e2-b44b-0a49f51f01dc\" type=\"checkbox\" checked><label class=\"sk-toggleable__label\" for=\"802f4415-21bd-48e2-b44b-0a49f51f01dc\">DecisionTreeRegressor</label><div class=\"sk-toggleable__content\"><pre>DecisionTreeRegressor(criterion='friedman_mse', max_features='sqrt')</pre></div></div></div></div></div>"
      ],
      "text/plain": [
       "DecisionTreeRegressor(criterion='friedman_mse', max_features='sqrt')"
      ]
     },
     "execution_count": 147,
     "metadata": {},
     "output_type": "execute_result"
    }
   ],
   "source": [
    "model_D"
   ]
  },
  {
   "cell_type": "code",
   "execution_count": 148,
   "metadata": {},
   "outputs": [
    {
     "data": {
      "text/html": [
       "<style>div.sk-top-container {color: black;background-color: white;}div.sk-toggleable {background-color: white;}label.sk-toggleable__label {cursor: pointer;display: block;width: 100%;margin-bottom: 0;padding: 0.2em 0.3em;box-sizing: border-box;text-align: center;}div.sk-toggleable__content {max-height: 0;max-width: 0;overflow: hidden;text-align: left;background-color: #f0f8ff;}div.sk-toggleable__content pre {margin: 0.2em;color: black;border-radius: 0.25em;background-color: #f0f8ff;}input.sk-toggleable__control:checked~div.sk-toggleable__content {max-height: 200px;max-width: 100%;overflow: auto;}div.sk-estimator input.sk-toggleable__control:checked~label.sk-toggleable__label {background-color: #d4ebff;}div.sk-label input.sk-toggleable__control:checked~label.sk-toggleable__label {background-color: #d4ebff;}input.sk-hidden--visually {border: 0;clip: rect(1px 1px 1px 1px);clip: rect(1px, 1px, 1px, 1px);height: 1px;margin: -1px;overflow: hidden;padding: 0;position: absolute;width: 1px;}div.sk-estimator {font-family: monospace;background-color: #f0f8ff;margin: 0.25em 0.25em;border: 1px dotted black;border-radius: 0.25em;box-sizing: border-box;}div.sk-estimator:hover {background-color: #d4ebff;}div.sk-parallel-item::after {content: \"\";width: 100%;border-bottom: 1px solid gray;flex-grow: 1;}div.sk-label:hover label.sk-toggleable__label {background-color: #d4ebff;}div.sk-serial::before {content: \"\";position: absolute;border-left: 1px solid gray;box-sizing: border-box;top: 2em;bottom: 0;left: 50%;}div.sk-serial {display: flex;flex-direction: column;align-items: center;background-color: white;}div.sk-item {z-index: 1;}div.sk-parallel {display: flex;align-items: stretch;justify-content: center;background-color: white;}div.sk-parallel-item {display: flex;flex-direction: column;position: relative;background-color: white;}div.sk-parallel-item:first-child::after {align-self: flex-end;width: 50%;}div.sk-parallel-item:last-child::after {align-self: flex-start;width: 50%;}div.sk-parallel-item:only-child::after {width: 0;}div.sk-dashed-wrapped {border: 1px dashed gray;margin: 0.2em;box-sizing: border-box;padding-bottom: 0.1em;background-color: white;position: relative;}div.sk-label label {font-family: monospace;font-weight: bold;background-color: white;display: inline-block;line-height: 1.2em;}div.sk-label-container {position: relative;z-index: 2;text-align: center;}div.sk-container {display: inline-block;position: relative;}</style><div class=\"sk-top-container\"><div class=\"sk-container\"><div class=\"sk-item sk-dashed-wrapped\"><div class=\"sk-label-container\"><div class=\"sk-label sk-toggleable\"><input class=\"sk-toggleable__control sk-hidden--visually\" id=\"e7dcf271-6594-4efa-94ad-c4be96f775ce\" type=\"checkbox\" ><label class=\"sk-toggleable__label\" for=\"e7dcf271-6594-4efa-94ad-c4be96f775ce\">Pipeline</label><div class=\"sk-toggleable__content\"><pre>Pipeline(steps=[('columntransformer',\n",
       "                 ColumnTransformer(remainder='passthrough',\n",
       "                                   transformers=[('onehotencoder',\n",
       "                                                  OneHotEncoder(sparse=False),\n",
       "                                                  [0, 1, 2]),\n",
       "                                                 ('powertransformer',\n",
       "                                                  PowerTransformer(),\n",
       "                                                  [3, 4, 9, 10, 11, 13, 14]),\n",
       "                                                 ('kbinsdiscretizer',\n",
       "                                                  KBinsDiscretizer(), [5]),\n",
       "                                                 ('binarizer',\n",
       "                                                  Binarizer(threshold=55),\n",
       "                                                  [7, 8, 12]),\n",
       "                                                 ('simpleimputer',\n",
       "                                                  SimpleImputer(), [6])])),\n",
       "                ('decisiontreeregressor',\n",
       "                 DecisionTreeRegressor(criterion='friedman_mse',\n",
       "                                       max_features='sqrt'))])</pre></div></div></div><div class=\"sk-serial\"><div class=\"sk-item sk-dashed-wrapped\"><div class=\"sk-label-container\"><div class=\"sk-label sk-toggleable\"><input class=\"sk-toggleable__control sk-hidden--visually\" id=\"e82df51d-2277-4516-ab3f-51c5b1c459d5\" type=\"checkbox\" ><label class=\"sk-toggleable__label\" for=\"e82df51d-2277-4516-ab3f-51c5b1c459d5\">columntransformer: ColumnTransformer</label><div class=\"sk-toggleable__content\"><pre>ColumnTransformer(remainder='passthrough',\n",
       "                  transformers=[('onehotencoder', OneHotEncoder(sparse=False),\n",
       "                                 [0, 1, 2]),\n",
       "                                ('powertransformer', PowerTransformer(),\n",
       "                                 [3, 4, 9, 10, 11, 13, 14]),\n",
       "                                ('kbinsdiscretizer', KBinsDiscretizer(), [5]),\n",
       "                                ('binarizer', Binarizer(threshold=55),\n",
       "                                 [7, 8, 12]),\n",
       "                                ('simpleimputer', SimpleImputer(), [6])])</pre></div></div></div><div class=\"sk-parallel\"><div class=\"sk-parallel-item\"><div class=\"sk-item\"><div class=\"sk-label-container\"><div class=\"sk-label sk-toggleable\"><input class=\"sk-toggleable__control sk-hidden--visually\" id=\"608af816-e6d8-4b59-9487-415d6d1e736d\" type=\"checkbox\" ><label class=\"sk-toggleable__label\" for=\"608af816-e6d8-4b59-9487-415d6d1e736d\">onehotencoder</label><div class=\"sk-toggleable__content\"><pre>[0, 1, 2]</pre></div></div></div><div class=\"sk-serial\"><div class=\"sk-item\"><div class=\"sk-estimator sk-toggleable\"><input class=\"sk-toggleable__control sk-hidden--visually\" id=\"bc849fe9-c145-4933-b968-1b30e362a8c1\" type=\"checkbox\" ><label class=\"sk-toggleable__label\" for=\"bc849fe9-c145-4933-b968-1b30e362a8c1\">OneHotEncoder</label><div class=\"sk-toggleable__content\"><pre>OneHotEncoder(sparse=False)</pre></div></div></div></div></div></div><div class=\"sk-parallel-item\"><div class=\"sk-item\"><div class=\"sk-label-container\"><div class=\"sk-label sk-toggleable\"><input class=\"sk-toggleable__control sk-hidden--visually\" id=\"97b19e33-2132-4e88-bf9e-9feeaec21b34\" type=\"checkbox\" ><label class=\"sk-toggleable__label\" for=\"97b19e33-2132-4e88-bf9e-9feeaec21b34\">powertransformer</label><div class=\"sk-toggleable__content\"><pre>[3, 4, 9, 10, 11, 13, 14]</pre></div></div></div><div class=\"sk-serial\"><div class=\"sk-item\"><div class=\"sk-estimator sk-toggleable\"><input class=\"sk-toggleable__control sk-hidden--visually\" id=\"0c433759-311d-4bcf-9591-d31dca61e07a\" type=\"checkbox\" ><label class=\"sk-toggleable__label\" for=\"0c433759-311d-4bcf-9591-d31dca61e07a\">PowerTransformer</label><div class=\"sk-toggleable__content\"><pre>PowerTransformer()</pre></div></div></div></div></div></div><div class=\"sk-parallel-item\"><div class=\"sk-item\"><div class=\"sk-label-container\"><div class=\"sk-label sk-toggleable\"><input class=\"sk-toggleable__control sk-hidden--visually\" id=\"1ef14f08-d7ab-4ebc-be55-1d3cf9d20280\" type=\"checkbox\" ><label class=\"sk-toggleable__label\" for=\"1ef14f08-d7ab-4ebc-be55-1d3cf9d20280\">kbinsdiscretizer</label><div class=\"sk-toggleable__content\"><pre>[5]</pre></div></div></div><div class=\"sk-serial\"><div class=\"sk-item\"><div class=\"sk-estimator sk-toggleable\"><input class=\"sk-toggleable__control sk-hidden--visually\" id=\"48b6f77d-fba7-4a63-985a-70871b4e20e4\" type=\"checkbox\" ><label class=\"sk-toggleable__label\" for=\"48b6f77d-fba7-4a63-985a-70871b4e20e4\">KBinsDiscretizer</label><div class=\"sk-toggleable__content\"><pre>KBinsDiscretizer()</pre></div></div></div></div></div></div><div class=\"sk-parallel-item\"><div class=\"sk-item\"><div class=\"sk-label-container\"><div class=\"sk-label sk-toggleable\"><input class=\"sk-toggleable__control sk-hidden--visually\" id=\"ac43bb65-82ff-4e29-a645-cd847c0edef2\" type=\"checkbox\" ><label class=\"sk-toggleable__label\" for=\"ac43bb65-82ff-4e29-a645-cd847c0edef2\">binarizer</label><div class=\"sk-toggleable__content\"><pre>[7, 8, 12]</pre></div></div></div><div class=\"sk-serial\"><div class=\"sk-item\"><div class=\"sk-estimator sk-toggleable\"><input class=\"sk-toggleable__control sk-hidden--visually\" id=\"12019b8d-7572-49bc-b175-bf48c938936d\" type=\"checkbox\" ><label class=\"sk-toggleable__label\" for=\"12019b8d-7572-49bc-b175-bf48c938936d\">Binarizer</label><div class=\"sk-toggleable__content\"><pre>Binarizer(threshold=55)</pre></div></div></div></div></div></div><div class=\"sk-parallel-item\"><div class=\"sk-item\"><div class=\"sk-label-container\"><div class=\"sk-label sk-toggleable\"><input class=\"sk-toggleable__control sk-hidden--visually\" id=\"d9bab9f9-3af6-44b4-aa0f-22822b1dd899\" type=\"checkbox\" ><label class=\"sk-toggleable__label\" for=\"d9bab9f9-3af6-44b4-aa0f-22822b1dd899\">simpleimputer</label><div class=\"sk-toggleable__content\"><pre>[6]</pre></div></div></div><div class=\"sk-serial\"><div class=\"sk-item\"><div class=\"sk-estimator sk-toggleable\"><input class=\"sk-toggleable__control sk-hidden--visually\" id=\"45d3c6b3-494e-4787-997c-68ee40d43bb5\" type=\"checkbox\" ><label class=\"sk-toggleable__label\" for=\"45d3c6b3-494e-4787-997c-68ee40d43bb5\">SimpleImputer</label><div class=\"sk-toggleable__content\"><pre>SimpleImputer()</pre></div></div></div></div></div></div></div></div><div class=\"sk-item\"><div class=\"sk-estimator sk-toggleable\"><input class=\"sk-toggleable__control sk-hidden--visually\" id=\"60bc8f5b-644f-44a5-bb11-145a1916804e\" type=\"checkbox\" ><label class=\"sk-toggleable__label\" for=\"60bc8f5b-644f-44a5-bb11-145a1916804e\">DecisionTreeRegressor</label><div class=\"sk-toggleable__content\"><pre>DecisionTreeRegressor(criterion='friedman_mse', max_features='sqrt')</pre></div></div></div></div></div></div></div>"
      ],
      "text/plain": [
       "Pipeline(steps=[('columntransformer',\n",
       "                 ColumnTransformer(remainder='passthrough',\n",
       "                                   transformers=[('onehotencoder',\n",
       "                                                  OneHotEncoder(sparse=False),\n",
       "                                                  [0, 1, 2]),\n",
       "                                                 ('powertransformer',\n",
       "                                                  PowerTransformer(),\n",
       "                                                  [3, 4, 9, 10, 11, 13, 14]),\n",
       "                                                 ('kbinsdiscretizer',\n",
       "                                                  KBinsDiscretizer(), [5]),\n",
       "                                                 ('binarizer',\n",
       "                                                  Binarizer(threshold=55),\n",
       "                                                  [7, 8, 12]),\n",
       "                                                 ('simpleimputer',\n",
       "                                                  SimpleImputer(), [6])])),\n",
       "                ('decisiontreeregressor',\n",
       "                 DecisionTreeRegressor(criterion='friedman_mse',\n",
       "                                       max_features='sqrt'))])"
      ]
     },
     "execution_count": 148,
     "metadata": {},
     "output_type": "execute_result"
    }
   ],
   "source": [
    "pipe_D"
   ]
  },
  {
   "cell_type": "code",
   "execution_count": 149,
   "metadata": {},
   "outputs": [
    {
     "name": "stderr",
     "output_type": "stream",
     "text": [
      "C:\\Users\\yeohw\\anaconda3\\lib\\site-packages\\sklearn\\preprocessing\\_data.py:2995: RuntimeWarning: divide by zero encountered in log\n",
      "  loglike = -n_samples / 2 * np.log(x_trans.var())\n"
     ]
    },
    {
     "data": {
      "text/html": [
       "<style>div.sk-top-container {color: black;background-color: white;}div.sk-toggleable {background-color: white;}label.sk-toggleable__label {cursor: pointer;display: block;width: 100%;margin-bottom: 0;padding: 0.2em 0.3em;box-sizing: border-box;text-align: center;}div.sk-toggleable__content {max-height: 0;max-width: 0;overflow: hidden;text-align: left;background-color: #f0f8ff;}div.sk-toggleable__content pre {margin: 0.2em;color: black;border-radius: 0.25em;background-color: #f0f8ff;}input.sk-toggleable__control:checked~div.sk-toggleable__content {max-height: 200px;max-width: 100%;overflow: auto;}div.sk-estimator input.sk-toggleable__control:checked~label.sk-toggleable__label {background-color: #d4ebff;}div.sk-label input.sk-toggleable__control:checked~label.sk-toggleable__label {background-color: #d4ebff;}input.sk-hidden--visually {border: 0;clip: rect(1px 1px 1px 1px);clip: rect(1px, 1px, 1px, 1px);height: 1px;margin: -1px;overflow: hidden;padding: 0;position: absolute;width: 1px;}div.sk-estimator {font-family: monospace;background-color: #f0f8ff;margin: 0.25em 0.25em;border: 1px dotted black;border-radius: 0.25em;box-sizing: border-box;}div.sk-estimator:hover {background-color: #d4ebff;}div.sk-parallel-item::after {content: \"\";width: 100%;border-bottom: 1px solid gray;flex-grow: 1;}div.sk-label:hover label.sk-toggleable__label {background-color: #d4ebff;}div.sk-serial::before {content: \"\";position: absolute;border-left: 1px solid gray;box-sizing: border-box;top: 2em;bottom: 0;left: 50%;}div.sk-serial {display: flex;flex-direction: column;align-items: center;background-color: white;}div.sk-item {z-index: 1;}div.sk-parallel {display: flex;align-items: stretch;justify-content: center;background-color: white;}div.sk-parallel-item {display: flex;flex-direction: column;position: relative;background-color: white;}div.sk-parallel-item:first-child::after {align-self: flex-end;width: 50%;}div.sk-parallel-item:last-child::after {align-self: flex-start;width: 50%;}div.sk-parallel-item:only-child::after {width: 0;}div.sk-dashed-wrapped {border: 1px dashed gray;margin: 0.2em;box-sizing: border-box;padding-bottom: 0.1em;background-color: white;position: relative;}div.sk-label label {font-family: monospace;font-weight: bold;background-color: white;display: inline-block;line-height: 1.2em;}div.sk-label-container {position: relative;z-index: 2;text-align: center;}div.sk-container {display: inline-block;position: relative;}</style><div class=\"sk-top-container\"><div class=\"sk-container\"><div class=\"sk-item sk-dashed-wrapped\"><div class=\"sk-label-container\"><div class=\"sk-label sk-toggleable\"><input class=\"sk-toggleable__control sk-hidden--visually\" id=\"16e695e6-342e-4039-8bf5-abc9b1988064\" type=\"checkbox\" ><label class=\"sk-toggleable__label\" for=\"16e695e6-342e-4039-8bf5-abc9b1988064\">Pipeline</label><div class=\"sk-toggleable__content\"><pre>Pipeline(steps=[('columntransformer',\n",
       "                 ColumnTransformer(remainder='passthrough',\n",
       "                                   transformers=[('onehotencoder',\n",
       "                                                  OneHotEncoder(sparse=False),\n",
       "                                                  [0, 1, 2]),\n",
       "                                                 ('powertransformer',\n",
       "                                                  PowerTransformer(),\n",
       "                                                  [3, 4, 9, 10, 11, 13, 14]),\n",
       "                                                 ('kbinsdiscretizer',\n",
       "                                                  KBinsDiscretizer(), [5]),\n",
       "                                                 ('binarizer',\n",
       "                                                  Binarizer(threshold=55),\n",
       "                                                  [7, 8, 12]),\n",
       "                                                 ('simpleimputer',\n",
       "                                                  SimpleImputer(), [6])])),\n",
       "                ('decisiontreeregressor',\n",
       "                 DecisionTreeRegressor(criterion='friedman_mse',\n",
       "                                       max_features='sqrt'))])</pre></div></div></div><div class=\"sk-serial\"><div class=\"sk-item sk-dashed-wrapped\"><div class=\"sk-label-container\"><div class=\"sk-label sk-toggleable\"><input class=\"sk-toggleable__control sk-hidden--visually\" id=\"bcfb32e9-aaf0-4239-9a5f-688b1a656ea3\" type=\"checkbox\" ><label class=\"sk-toggleable__label\" for=\"bcfb32e9-aaf0-4239-9a5f-688b1a656ea3\">columntransformer: ColumnTransformer</label><div class=\"sk-toggleable__content\"><pre>ColumnTransformer(remainder='passthrough',\n",
       "                  transformers=[('onehotencoder', OneHotEncoder(sparse=False),\n",
       "                                 [0, 1, 2]),\n",
       "                                ('powertransformer', PowerTransformer(),\n",
       "                                 [3, 4, 9, 10, 11, 13, 14]),\n",
       "                                ('kbinsdiscretizer', KBinsDiscretizer(), [5]),\n",
       "                                ('binarizer', Binarizer(threshold=55),\n",
       "                                 [7, 8, 12]),\n",
       "                                ('simpleimputer', SimpleImputer(), [6])])</pre></div></div></div><div class=\"sk-parallel\"><div class=\"sk-parallel-item\"><div class=\"sk-item\"><div class=\"sk-label-container\"><div class=\"sk-label sk-toggleable\"><input class=\"sk-toggleable__control sk-hidden--visually\" id=\"96bbfa77-b0b1-421f-831b-6b5b7e6a1434\" type=\"checkbox\" ><label class=\"sk-toggleable__label\" for=\"96bbfa77-b0b1-421f-831b-6b5b7e6a1434\">onehotencoder</label><div class=\"sk-toggleable__content\"><pre>[0, 1, 2]</pre></div></div></div><div class=\"sk-serial\"><div class=\"sk-item\"><div class=\"sk-estimator sk-toggleable\"><input class=\"sk-toggleable__control sk-hidden--visually\" id=\"ef18be79-2ceb-4a11-a5b0-710b0dacfe3f\" type=\"checkbox\" ><label class=\"sk-toggleable__label\" for=\"ef18be79-2ceb-4a11-a5b0-710b0dacfe3f\">OneHotEncoder</label><div class=\"sk-toggleable__content\"><pre>OneHotEncoder(sparse=False)</pre></div></div></div></div></div></div><div class=\"sk-parallel-item\"><div class=\"sk-item\"><div class=\"sk-label-container\"><div class=\"sk-label sk-toggleable\"><input class=\"sk-toggleable__control sk-hidden--visually\" id=\"b9c99dbf-5744-42f8-9411-f89e958a2ec4\" type=\"checkbox\" ><label class=\"sk-toggleable__label\" for=\"b9c99dbf-5744-42f8-9411-f89e958a2ec4\">powertransformer</label><div class=\"sk-toggleable__content\"><pre>[3, 4, 9, 10, 11, 13, 14]</pre></div></div></div><div class=\"sk-serial\"><div class=\"sk-item\"><div class=\"sk-estimator sk-toggleable\"><input class=\"sk-toggleable__control sk-hidden--visually\" id=\"a271d763-1e82-4fe5-b567-dcf4daf53a1c\" type=\"checkbox\" ><label class=\"sk-toggleable__label\" for=\"a271d763-1e82-4fe5-b567-dcf4daf53a1c\">PowerTransformer</label><div class=\"sk-toggleable__content\"><pre>PowerTransformer()</pre></div></div></div></div></div></div><div class=\"sk-parallel-item\"><div class=\"sk-item\"><div class=\"sk-label-container\"><div class=\"sk-label sk-toggleable\"><input class=\"sk-toggleable__control sk-hidden--visually\" id=\"a581da63-fa53-48f0-ba2f-3a849519041c\" type=\"checkbox\" ><label class=\"sk-toggleable__label\" for=\"a581da63-fa53-48f0-ba2f-3a849519041c\">kbinsdiscretizer</label><div class=\"sk-toggleable__content\"><pre>[5]</pre></div></div></div><div class=\"sk-serial\"><div class=\"sk-item\"><div class=\"sk-estimator sk-toggleable\"><input class=\"sk-toggleable__control sk-hidden--visually\" id=\"aef20593-2517-4db1-ba88-90437e356f9f\" type=\"checkbox\" ><label class=\"sk-toggleable__label\" for=\"aef20593-2517-4db1-ba88-90437e356f9f\">KBinsDiscretizer</label><div class=\"sk-toggleable__content\"><pre>KBinsDiscretizer()</pre></div></div></div></div></div></div><div class=\"sk-parallel-item\"><div class=\"sk-item\"><div class=\"sk-label-container\"><div class=\"sk-label sk-toggleable\"><input class=\"sk-toggleable__control sk-hidden--visually\" id=\"7275ef53-83f2-467e-9c14-e54ad651f356\" type=\"checkbox\" ><label class=\"sk-toggleable__label\" for=\"7275ef53-83f2-467e-9c14-e54ad651f356\">binarizer</label><div class=\"sk-toggleable__content\"><pre>[7, 8, 12]</pre></div></div></div><div class=\"sk-serial\"><div class=\"sk-item\"><div class=\"sk-estimator sk-toggleable\"><input class=\"sk-toggleable__control sk-hidden--visually\" id=\"fa46b2af-b4d1-4a30-a9ef-fecf4ea5ee84\" type=\"checkbox\" ><label class=\"sk-toggleable__label\" for=\"fa46b2af-b4d1-4a30-a9ef-fecf4ea5ee84\">Binarizer</label><div class=\"sk-toggleable__content\"><pre>Binarizer(threshold=55)</pre></div></div></div></div></div></div><div class=\"sk-parallel-item\"><div class=\"sk-item\"><div class=\"sk-label-container\"><div class=\"sk-label sk-toggleable\"><input class=\"sk-toggleable__control sk-hidden--visually\" id=\"f83ef3f8-3a0c-4211-83bd-cd733393faf1\" type=\"checkbox\" ><label class=\"sk-toggleable__label\" for=\"f83ef3f8-3a0c-4211-83bd-cd733393faf1\">simpleimputer</label><div class=\"sk-toggleable__content\"><pre>[6]</pre></div></div></div><div class=\"sk-serial\"><div class=\"sk-item\"><div class=\"sk-estimator sk-toggleable\"><input class=\"sk-toggleable__control sk-hidden--visually\" id=\"700c0d0f-ef61-4cd3-b2f8-6817dd0e148e\" type=\"checkbox\" ><label class=\"sk-toggleable__label\" for=\"700c0d0f-ef61-4cd3-b2f8-6817dd0e148e\">SimpleImputer</label><div class=\"sk-toggleable__content\"><pre>SimpleImputer()</pre></div></div></div></div></div></div></div></div><div class=\"sk-item\"><div class=\"sk-estimator sk-toggleable\"><input class=\"sk-toggleable__control sk-hidden--visually\" id=\"7afb5f3b-ad3b-4ea7-a0f0-f470ca505660\" type=\"checkbox\" ><label class=\"sk-toggleable__label\" for=\"7afb5f3b-ad3b-4ea7-a0f0-f470ca505660\">DecisionTreeRegressor</label><div class=\"sk-toggleable__content\"><pre>DecisionTreeRegressor(criterion='friedman_mse', max_features='sqrt')</pre></div></div></div></div></div></div></div>"
      ],
      "text/plain": [
       "Pipeline(steps=[('columntransformer',\n",
       "                 ColumnTransformer(remainder='passthrough',\n",
       "                                   transformers=[('onehotencoder',\n",
       "                                                  OneHotEncoder(sparse=False),\n",
       "                                                  [0, 1, 2]),\n",
       "                                                 ('powertransformer',\n",
       "                                                  PowerTransformer(),\n",
       "                                                  [3, 4, 9, 10, 11, 13, 14]),\n",
       "                                                 ('kbinsdiscretizer',\n",
       "                                                  KBinsDiscretizer(), [5]),\n",
       "                                                 ('binarizer',\n",
       "                                                  Binarizer(threshold=55),\n",
       "                                                  [7, 8, 12]),\n",
       "                                                 ('simpleimputer',\n",
       "                                                  SimpleImputer(), [6])])),\n",
       "                ('decisiontreeregressor',\n",
       "                 DecisionTreeRegressor(criterion='friedman_mse',\n",
       "                                       max_features='sqrt'))])"
      ]
     },
     "execution_count": 149,
     "metadata": {},
     "output_type": "execute_result"
    }
   ],
   "source": [
    "pipe_D.fit(x_train,y_train)"
   ]
  },
  {
   "cell_type": "code",
   "execution_count": 150,
   "metadata": {},
   "outputs": [],
   "source": [
    "pred_D = pipe_D.predict(x_test)"
   ]
  },
  {
   "cell_type": "code",
   "execution_count": 151,
   "metadata": {},
   "outputs": [
    {
     "data": {
      "text/plain": [
       "1.1179877942410257"
      ]
     },
     "execution_count": 151,
     "metadata": {},
     "output_type": "execute_result"
    }
   ],
   "source": [
    "from sklearn.metrics import mean_squared_error\n",
    "mean_squared_error(pred_D,y_test)"
   ]
  },
  {
   "cell_type": "code",
   "execution_count": 152,
   "metadata": {},
   "outputs": [
    {
     "data": {
      "text/html": [
       "<style>div.sk-top-container {color: black;background-color: white;}div.sk-toggleable {background-color: white;}label.sk-toggleable__label {cursor: pointer;display: block;width: 100%;margin-bottom: 0;padding: 0.2em 0.3em;box-sizing: border-box;text-align: center;}div.sk-toggleable__content {max-height: 0;max-width: 0;overflow: hidden;text-align: left;background-color: #f0f8ff;}div.sk-toggleable__content pre {margin: 0.2em;color: black;border-radius: 0.25em;background-color: #f0f8ff;}input.sk-toggleable__control:checked~div.sk-toggleable__content {max-height: 200px;max-width: 100%;overflow: auto;}div.sk-estimator input.sk-toggleable__control:checked~label.sk-toggleable__label {background-color: #d4ebff;}div.sk-label input.sk-toggleable__control:checked~label.sk-toggleable__label {background-color: #d4ebff;}input.sk-hidden--visually {border: 0;clip: rect(1px 1px 1px 1px);clip: rect(1px, 1px, 1px, 1px);height: 1px;margin: -1px;overflow: hidden;padding: 0;position: absolute;width: 1px;}div.sk-estimator {font-family: monospace;background-color: #f0f8ff;margin: 0.25em 0.25em;border: 1px dotted black;border-radius: 0.25em;box-sizing: border-box;}div.sk-estimator:hover {background-color: #d4ebff;}div.sk-parallel-item::after {content: \"\";width: 100%;border-bottom: 1px solid gray;flex-grow: 1;}div.sk-label:hover label.sk-toggleable__label {background-color: #d4ebff;}div.sk-serial::before {content: \"\";position: absolute;border-left: 1px solid gray;box-sizing: border-box;top: 2em;bottom: 0;left: 50%;}div.sk-serial {display: flex;flex-direction: column;align-items: center;background-color: white;}div.sk-item {z-index: 1;}div.sk-parallel {display: flex;align-items: stretch;justify-content: center;background-color: white;}div.sk-parallel-item {display: flex;flex-direction: column;position: relative;background-color: white;}div.sk-parallel-item:first-child::after {align-self: flex-end;width: 50%;}div.sk-parallel-item:last-child::after {align-self: flex-start;width: 50%;}div.sk-parallel-item:only-child::after {width: 0;}div.sk-dashed-wrapped {border: 1px dashed gray;margin: 0.2em;box-sizing: border-box;padding-bottom: 0.1em;background-color: white;position: relative;}div.sk-label label {font-family: monospace;font-weight: bold;background-color: white;display: inline-block;line-height: 1.2em;}div.sk-label-container {position: relative;z-index: 2;text-align: center;}div.sk-container {display: inline-block;position: relative;}</style><div class=\"sk-top-container\"><div class=\"sk-container\"><div class=\"sk-item sk-dashed-wrapped\"><div class=\"sk-label-container\"><div class=\"sk-label sk-toggleable\"><input class=\"sk-toggleable__control sk-hidden--visually\" id=\"795eab32-c13e-4a0e-809b-c9d0182c46e4\" type=\"checkbox\" ><label class=\"sk-toggleable__label\" for=\"795eab32-c13e-4a0e-809b-c9d0182c46e4\">VotingRegressor</label><div class=\"sk-toggleable__content\"><pre>VotingRegressor(estimators=[('x4', DecisionTreeRegressor()), ('x5', SVR()),\n",
       "                            ('x6', LinearRegression())],\n",
       "                verbose=True)</pre></div></div></div><div class=\"sk-parallel\"><div class=\"sk-parallel-item\"><div class=\"sk-item\"><div class=\"sk-label-container\"><div class=\"sk-label sk-toggleable\"><label>x4</label></div></div><div class=\"sk-serial\"><div class=\"sk-item\"><div class=\"sk-estimator sk-toggleable\"><input class=\"sk-toggleable__control sk-hidden--visually\" id=\"cd1f3516-885d-4087-9db5-6399a10c0797\" type=\"checkbox\" ><label class=\"sk-toggleable__label\" for=\"cd1f3516-885d-4087-9db5-6399a10c0797\">DecisionTreeRegressor</label><div class=\"sk-toggleable__content\"><pre>DecisionTreeRegressor()</pre></div></div></div></div></div></div><div class=\"sk-parallel-item\"><div class=\"sk-item\"><div class=\"sk-label-container\"><div class=\"sk-label sk-toggleable\"><label>x5</label></div></div><div class=\"sk-serial\"><div class=\"sk-item\"><div class=\"sk-estimator sk-toggleable\"><input class=\"sk-toggleable__control sk-hidden--visually\" id=\"16d33b3c-6764-44ce-a7a1-1453d7fc18d6\" type=\"checkbox\" ><label class=\"sk-toggleable__label\" for=\"16d33b3c-6764-44ce-a7a1-1453d7fc18d6\">SVR</label><div class=\"sk-toggleable__content\"><pre>SVR()</pre></div></div></div></div></div></div><div class=\"sk-parallel-item\"><div class=\"sk-item\"><div class=\"sk-label-container\"><div class=\"sk-label sk-toggleable\"><label>x6</label></div></div><div class=\"sk-serial\"><div class=\"sk-item\"><div class=\"sk-estimator sk-toggleable\"><input class=\"sk-toggleable__control sk-hidden--visually\" id=\"89eb0404-c05d-4ebd-9172-22c4e1c0f42f\" type=\"checkbox\" ><label class=\"sk-toggleable__label\" for=\"89eb0404-c05d-4ebd-9172-22c4e1c0f42f\">LinearRegression</label><div class=\"sk-toggleable__content\"><pre>LinearRegression()</pre></div></div></div></div></div></div></div></div></div></div>"
      ],
      "text/plain": [
       "VotingRegressor(estimators=[('x4', DecisionTreeRegressor()), ('x5', SVR()),\n",
       "                            ('x6', LinearRegression())],\n",
       "                verbose=True)"
      ]
     },
     "execution_count": 152,
     "metadata": {},
     "output_type": "execute_result"
    }
   ],
   "source": [
    "from sklearn.svm import SVR\n",
    "from sklearn.linear_model import LinearRegression\n",
    "from sklearn.tree import DecisionTreeRegressor\n",
    "from sklearn.ensemble import VotingRegressor\n",
    "algorithm4 = DecisionTreeRegressor()\n",
    "algorithm5 = SVR()\n",
    "algorithm6 = LinearRegression()\n",
    "model_v = VotingRegressor(estimators = [('x4',algorithm4),('x5',algorithm5),('x6',algorithm6)],verbose = True)\n",
    "model_v"
   ]
  },
  {
   "cell_type": "code",
   "execution_count": 153,
   "metadata": {},
   "outputs": [
    {
     "data": {
      "text/html": [
       "<style>div.sk-top-container {color: black;background-color: white;}div.sk-toggleable {background-color: white;}label.sk-toggleable__label {cursor: pointer;display: block;width: 100%;margin-bottom: 0;padding: 0.2em 0.3em;box-sizing: border-box;text-align: center;}div.sk-toggleable__content {max-height: 0;max-width: 0;overflow: hidden;text-align: left;background-color: #f0f8ff;}div.sk-toggleable__content pre {margin: 0.2em;color: black;border-radius: 0.25em;background-color: #f0f8ff;}input.sk-toggleable__control:checked~div.sk-toggleable__content {max-height: 200px;max-width: 100%;overflow: auto;}div.sk-estimator input.sk-toggleable__control:checked~label.sk-toggleable__label {background-color: #d4ebff;}div.sk-label input.sk-toggleable__control:checked~label.sk-toggleable__label {background-color: #d4ebff;}input.sk-hidden--visually {border: 0;clip: rect(1px 1px 1px 1px);clip: rect(1px, 1px, 1px, 1px);height: 1px;margin: -1px;overflow: hidden;padding: 0;position: absolute;width: 1px;}div.sk-estimator {font-family: monospace;background-color: #f0f8ff;margin: 0.25em 0.25em;border: 1px dotted black;border-radius: 0.25em;box-sizing: border-box;}div.sk-estimator:hover {background-color: #d4ebff;}div.sk-parallel-item::after {content: \"\";width: 100%;border-bottom: 1px solid gray;flex-grow: 1;}div.sk-label:hover label.sk-toggleable__label {background-color: #d4ebff;}div.sk-serial::before {content: \"\";position: absolute;border-left: 1px solid gray;box-sizing: border-box;top: 2em;bottom: 0;left: 50%;}div.sk-serial {display: flex;flex-direction: column;align-items: center;background-color: white;}div.sk-item {z-index: 1;}div.sk-parallel {display: flex;align-items: stretch;justify-content: center;background-color: white;}div.sk-parallel-item {display: flex;flex-direction: column;position: relative;background-color: white;}div.sk-parallel-item:first-child::after {align-self: flex-end;width: 50%;}div.sk-parallel-item:last-child::after {align-self: flex-start;width: 50%;}div.sk-parallel-item:only-child::after {width: 0;}div.sk-dashed-wrapped {border: 1px dashed gray;margin: 0.2em;box-sizing: border-box;padding-bottom: 0.1em;background-color: white;position: relative;}div.sk-label label {font-family: monospace;font-weight: bold;background-color: white;display: inline-block;line-height: 1.2em;}div.sk-label-container {position: relative;z-index: 2;text-align: center;}div.sk-container {display: inline-block;position: relative;}</style><div class=\"sk-top-container\"><div class=\"sk-container\"><div class=\"sk-item sk-dashed-wrapped\"><div class=\"sk-label-container\"><div class=\"sk-label sk-toggleable\"><input class=\"sk-toggleable__control sk-hidden--visually\" id=\"5d78fa11-b6ae-431a-b4e2-7b02eb8ed0b8\" type=\"checkbox\" ><label class=\"sk-toggleable__label\" for=\"5d78fa11-b6ae-431a-b4e2-7b02eb8ed0b8\">Pipeline</label><div class=\"sk-toggleable__content\"><pre>Pipeline(steps=[('columntransformer',\n",
       "                 ColumnTransformer(remainder='passthrough',\n",
       "                                   transformers=[('onehotencoder',\n",
       "                                                  OneHotEncoder(sparse=False),\n",
       "                                                  [0, 1, 2]),\n",
       "                                                 ('powertransformer',\n",
       "                                                  PowerTransformer(),\n",
       "                                                  [3, 4, 9, 10, 11, 13, 14]),\n",
       "                                                 ('kbinsdiscretizer',\n",
       "                                                  KBinsDiscretizer(), [5]),\n",
       "                                                 ('binarizer',\n",
       "                                                  Binarizer(threshold=55),\n",
       "                                                  [7, 8, 12]),\n",
       "                                                 ('simpleimputer',\n",
       "                                                  SimpleImputer(), [6])])),\n",
       "                ('votingregressor',\n",
       "                 VotingRegressor(estimators=[('x4', DecisionTreeRegressor()),\n",
       "                                             ('x5', SVR()),\n",
       "                                             ('x6', LinearRegression())],\n",
       "                                 verbose=True))])</pre></div></div></div><div class=\"sk-serial\"><div class=\"sk-item sk-dashed-wrapped\"><div class=\"sk-label-container\"><div class=\"sk-label sk-toggleable\"><input class=\"sk-toggleable__control sk-hidden--visually\" id=\"338ce938-4b1b-4d85-9a71-834095f35e6c\" type=\"checkbox\" ><label class=\"sk-toggleable__label\" for=\"338ce938-4b1b-4d85-9a71-834095f35e6c\">columntransformer: ColumnTransformer</label><div class=\"sk-toggleable__content\"><pre>ColumnTransformer(remainder='passthrough',\n",
       "                  transformers=[('onehotencoder', OneHotEncoder(sparse=False),\n",
       "                                 [0, 1, 2]),\n",
       "                                ('powertransformer', PowerTransformer(),\n",
       "                                 [3, 4, 9, 10, 11, 13, 14]),\n",
       "                                ('kbinsdiscretizer', KBinsDiscretizer(), [5]),\n",
       "                                ('binarizer', Binarizer(threshold=55),\n",
       "                                 [7, 8, 12]),\n",
       "                                ('simpleimputer', SimpleImputer(), [6])])</pre></div></div></div><div class=\"sk-parallel\"><div class=\"sk-parallel-item\"><div class=\"sk-item\"><div class=\"sk-label-container\"><div class=\"sk-label sk-toggleable\"><input class=\"sk-toggleable__control sk-hidden--visually\" id=\"989a6f4a-f64c-4662-b6ff-431cc79a255e\" type=\"checkbox\" ><label class=\"sk-toggleable__label\" for=\"989a6f4a-f64c-4662-b6ff-431cc79a255e\">onehotencoder</label><div class=\"sk-toggleable__content\"><pre>[0, 1, 2]</pre></div></div></div><div class=\"sk-serial\"><div class=\"sk-item\"><div class=\"sk-estimator sk-toggleable\"><input class=\"sk-toggleable__control sk-hidden--visually\" id=\"70d77fe1-587e-4aa0-a266-1fcef2cd87e7\" type=\"checkbox\" ><label class=\"sk-toggleable__label\" for=\"70d77fe1-587e-4aa0-a266-1fcef2cd87e7\">OneHotEncoder</label><div class=\"sk-toggleable__content\"><pre>OneHotEncoder(sparse=False)</pre></div></div></div></div></div></div><div class=\"sk-parallel-item\"><div class=\"sk-item\"><div class=\"sk-label-container\"><div class=\"sk-label sk-toggleable\"><input class=\"sk-toggleable__control sk-hidden--visually\" id=\"33055caf-342c-46ba-a15e-b88ab68998c4\" type=\"checkbox\" ><label class=\"sk-toggleable__label\" for=\"33055caf-342c-46ba-a15e-b88ab68998c4\">powertransformer</label><div class=\"sk-toggleable__content\"><pre>[3, 4, 9, 10, 11, 13, 14]</pre></div></div></div><div class=\"sk-serial\"><div class=\"sk-item\"><div class=\"sk-estimator sk-toggleable\"><input class=\"sk-toggleable__control sk-hidden--visually\" id=\"0e61e85d-7ba0-43df-8859-fb88b1384ce6\" type=\"checkbox\" ><label class=\"sk-toggleable__label\" for=\"0e61e85d-7ba0-43df-8859-fb88b1384ce6\">PowerTransformer</label><div class=\"sk-toggleable__content\"><pre>PowerTransformer()</pre></div></div></div></div></div></div><div class=\"sk-parallel-item\"><div class=\"sk-item\"><div class=\"sk-label-container\"><div class=\"sk-label sk-toggleable\"><input class=\"sk-toggleable__control sk-hidden--visually\" id=\"d18b604d-be68-44db-935e-0dd478984d3f\" type=\"checkbox\" ><label class=\"sk-toggleable__label\" for=\"d18b604d-be68-44db-935e-0dd478984d3f\">kbinsdiscretizer</label><div class=\"sk-toggleable__content\"><pre>[5]</pre></div></div></div><div class=\"sk-serial\"><div class=\"sk-item\"><div class=\"sk-estimator sk-toggleable\"><input class=\"sk-toggleable__control sk-hidden--visually\" id=\"b5eccd61-c436-44f6-895a-86cbe791019b\" type=\"checkbox\" ><label class=\"sk-toggleable__label\" for=\"b5eccd61-c436-44f6-895a-86cbe791019b\">KBinsDiscretizer</label><div class=\"sk-toggleable__content\"><pre>KBinsDiscretizer()</pre></div></div></div></div></div></div><div class=\"sk-parallel-item\"><div class=\"sk-item\"><div class=\"sk-label-container\"><div class=\"sk-label sk-toggleable\"><input class=\"sk-toggleable__control sk-hidden--visually\" id=\"6b9c3223-3b74-468c-922f-5bb2224c8fcb\" type=\"checkbox\" ><label class=\"sk-toggleable__label\" for=\"6b9c3223-3b74-468c-922f-5bb2224c8fcb\">binarizer</label><div class=\"sk-toggleable__content\"><pre>[7, 8, 12]</pre></div></div></div><div class=\"sk-serial\"><div class=\"sk-item\"><div class=\"sk-estimator sk-toggleable\"><input class=\"sk-toggleable__control sk-hidden--visually\" id=\"4f92c414-436f-46bd-ae60-ce2ff70b4b44\" type=\"checkbox\" ><label class=\"sk-toggleable__label\" for=\"4f92c414-436f-46bd-ae60-ce2ff70b4b44\">Binarizer</label><div class=\"sk-toggleable__content\"><pre>Binarizer(threshold=55)</pre></div></div></div></div></div></div><div class=\"sk-parallel-item\"><div class=\"sk-item\"><div class=\"sk-label-container\"><div class=\"sk-label sk-toggleable\"><input class=\"sk-toggleable__control sk-hidden--visually\" id=\"9edce6fe-2a27-40c5-88a8-a074be72a0c2\" type=\"checkbox\" ><label class=\"sk-toggleable__label\" for=\"9edce6fe-2a27-40c5-88a8-a074be72a0c2\">simpleimputer</label><div class=\"sk-toggleable__content\"><pre>[6]</pre></div></div></div><div class=\"sk-serial\"><div class=\"sk-item\"><div class=\"sk-estimator sk-toggleable\"><input class=\"sk-toggleable__control sk-hidden--visually\" id=\"6d4c5c26-31e4-429e-a32b-bf0df3f53ca2\" type=\"checkbox\" ><label class=\"sk-toggleable__label\" for=\"6d4c5c26-31e4-429e-a32b-bf0df3f53ca2\">SimpleImputer</label><div class=\"sk-toggleable__content\"><pre>SimpleImputer()</pre></div></div></div></div></div></div></div></div><div class=\"sk-item sk-dashed-wrapped\"><div class=\"sk-label-container\"><div class=\"sk-label sk-toggleable\"><input class=\"sk-toggleable__control sk-hidden--visually\" id=\"45241e9f-c9ca-458d-9856-98f651a64be4\" type=\"checkbox\" ><label class=\"sk-toggleable__label\" for=\"45241e9f-c9ca-458d-9856-98f651a64be4\">votingregressor: VotingRegressor</label><div class=\"sk-toggleable__content\"><pre>VotingRegressor(estimators=[('x4', DecisionTreeRegressor()), ('x5', SVR()),\n",
       "                            ('x6', LinearRegression())],\n",
       "                verbose=True)</pre></div></div></div><div class=\"sk-parallel\"><div class=\"sk-parallel-item\"><div class=\"sk-item\"><div class=\"sk-label-container\"><div class=\"sk-label sk-toggleable\"><label>x4</label></div></div><div class=\"sk-serial\"><div class=\"sk-item\"><div class=\"sk-estimator sk-toggleable\"><input class=\"sk-toggleable__control sk-hidden--visually\" id=\"4d6b1efb-0482-4463-b010-e7a1a7a30c57\" type=\"checkbox\" ><label class=\"sk-toggleable__label\" for=\"4d6b1efb-0482-4463-b010-e7a1a7a30c57\">DecisionTreeRegressor</label><div class=\"sk-toggleable__content\"><pre>DecisionTreeRegressor()</pre></div></div></div></div></div></div><div class=\"sk-parallel-item\"><div class=\"sk-item\"><div class=\"sk-label-container\"><div class=\"sk-label sk-toggleable\"><label>x5</label></div></div><div class=\"sk-serial\"><div class=\"sk-item\"><div class=\"sk-estimator sk-toggleable\"><input class=\"sk-toggleable__control sk-hidden--visually\" id=\"d24cd637-bfd3-45f2-8449-b6f4c2e0c476\" type=\"checkbox\" ><label class=\"sk-toggleable__label\" for=\"d24cd637-bfd3-45f2-8449-b6f4c2e0c476\">SVR</label><div class=\"sk-toggleable__content\"><pre>SVR()</pre></div></div></div></div></div></div><div class=\"sk-parallel-item\"><div class=\"sk-item\"><div class=\"sk-label-container\"><div class=\"sk-label sk-toggleable\"><label>x6</label></div></div><div class=\"sk-serial\"><div class=\"sk-item\"><div class=\"sk-estimator sk-toggleable\"><input class=\"sk-toggleable__control sk-hidden--visually\" id=\"3a3d5b43-0c4f-4296-b8e4-6ff522fc4f24\" type=\"checkbox\" ><label class=\"sk-toggleable__label\" for=\"3a3d5b43-0c4f-4296-b8e4-6ff522fc4f24\">LinearRegression</label><div class=\"sk-toggleable__content\"><pre>LinearRegression()</pre></div></div></div></div></div></div></div></div></div></div></div></div>"
      ],
      "text/plain": [
       "Pipeline(steps=[('columntransformer',\n",
       "                 ColumnTransformer(remainder='passthrough',\n",
       "                                   transformers=[('onehotencoder',\n",
       "                                                  OneHotEncoder(sparse=False),\n",
       "                                                  [0, 1, 2]),\n",
       "                                                 ('powertransformer',\n",
       "                                                  PowerTransformer(),\n",
       "                                                  [3, 4, 9, 10, 11, 13, 14]),\n",
       "                                                 ('kbinsdiscretizer',\n",
       "                                                  KBinsDiscretizer(), [5]),\n",
       "                                                 ('binarizer',\n",
       "                                                  Binarizer(threshold=55),\n",
       "                                                  [7, 8, 12]),\n",
       "                                                 ('simpleimputer',\n",
       "                                                  SimpleImputer(), [6])])),\n",
       "                ('votingregressor',\n",
       "                 VotingRegressor(estimators=[('x4', DecisionTreeRegressor()),\n",
       "                                             ('x5', SVR()),\n",
       "                                             ('x6', LinearRegression())],\n",
       "                                 verbose=True))])"
      ]
     },
     "execution_count": 153,
     "metadata": {},
     "output_type": "execute_result"
    }
   ],
   "source": [
    "from sklearn.pipeline import make_pipeline\n",
    "pipe_v = make_pipeline(trans,model_v)\n",
    "pipe_v"
   ]
  },
  {
   "cell_type": "code",
   "execution_count": 154,
   "metadata": {},
   "outputs": [
    {
     "name": "stdout",
     "output_type": "stream",
     "text": [
      "[Voting] ....................... (1 of 3) Processing x4, total=   0.0s\n",
      "[Voting] ....................... (2 of 3) Processing x5, total=   0.0s\n",
      "[Voting] ....................... (3 of 3) Processing x6, total=   0.0s\n"
     ]
    },
    {
     "name": "stderr",
     "output_type": "stream",
     "text": [
      "C:\\Users\\yeohw\\anaconda3\\lib\\site-packages\\sklearn\\preprocessing\\_data.py:2995: RuntimeWarning: divide by zero encountered in log\n",
      "  loglike = -n_samples / 2 * np.log(x_trans.var())\n",
      "C:\\Users\\yeohw\\anaconda3\\lib\\site-packages\\sklearn\\utils\\validation.py:72: DataConversionWarning: A column-vector y was passed when a 1d array was expected. Please change the shape of y to (n_samples, ), for example using ravel().\n",
      "  return f(**kwargs)\n"
     ]
    },
    {
     "data": {
      "text/html": [
       "<style>div.sk-top-container {color: black;background-color: white;}div.sk-toggleable {background-color: white;}label.sk-toggleable__label {cursor: pointer;display: block;width: 100%;margin-bottom: 0;padding: 0.2em 0.3em;box-sizing: border-box;text-align: center;}div.sk-toggleable__content {max-height: 0;max-width: 0;overflow: hidden;text-align: left;background-color: #f0f8ff;}div.sk-toggleable__content pre {margin: 0.2em;color: black;border-radius: 0.25em;background-color: #f0f8ff;}input.sk-toggleable__control:checked~div.sk-toggleable__content {max-height: 200px;max-width: 100%;overflow: auto;}div.sk-estimator input.sk-toggleable__control:checked~label.sk-toggleable__label {background-color: #d4ebff;}div.sk-label input.sk-toggleable__control:checked~label.sk-toggleable__label {background-color: #d4ebff;}input.sk-hidden--visually {border: 0;clip: rect(1px 1px 1px 1px);clip: rect(1px, 1px, 1px, 1px);height: 1px;margin: -1px;overflow: hidden;padding: 0;position: absolute;width: 1px;}div.sk-estimator {font-family: monospace;background-color: #f0f8ff;margin: 0.25em 0.25em;border: 1px dotted black;border-radius: 0.25em;box-sizing: border-box;}div.sk-estimator:hover {background-color: #d4ebff;}div.sk-parallel-item::after {content: \"\";width: 100%;border-bottom: 1px solid gray;flex-grow: 1;}div.sk-label:hover label.sk-toggleable__label {background-color: #d4ebff;}div.sk-serial::before {content: \"\";position: absolute;border-left: 1px solid gray;box-sizing: border-box;top: 2em;bottom: 0;left: 50%;}div.sk-serial {display: flex;flex-direction: column;align-items: center;background-color: white;}div.sk-item {z-index: 1;}div.sk-parallel {display: flex;align-items: stretch;justify-content: center;background-color: white;}div.sk-parallel-item {display: flex;flex-direction: column;position: relative;background-color: white;}div.sk-parallel-item:first-child::after {align-self: flex-end;width: 50%;}div.sk-parallel-item:last-child::after {align-self: flex-start;width: 50%;}div.sk-parallel-item:only-child::after {width: 0;}div.sk-dashed-wrapped {border: 1px dashed gray;margin: 0.2em;box-sizing: border-box;padding-bottom: 0.1em;background-color: white;position: relative;}div.sk-label label {font-family: monospace;font-weight: bold;background-color: white;display: inline-block;line-height: 1.2em;}div.sk-label-container {position: relative;z-index: 2;text-align: center;}div.sk-container {display: inline-block;position: relative;}</style><div class=\"sk-top-container\"><div class=\"sk-container\"><div class=\"sk-item sk-dashed-wrapped\"><div class=\"sk-label-container\"><div class=\"sk-label sk-toggleable\"><input class=\"sk-toggleable__control sk-hidden--visually\" id=\"a158d5cd-e836-4ade-af63-0ff3cef7bc84\" type=\"checkbox\" ><label class=\"sk-toggleable__label\" for=\"a158d5cd-e836-4ade-af63-0ff3cef7bc84\">Pipeline</label><div class=\"sk-toggleable__content\"><pre>Pipeline(steps=[('columntransformer',\n",
       "                 ColumnTransformer(remainder='passthrough',\n",
       "                                   transformers=[('onehotencoder',\n",
       "                                                  OneHotEncoder(sparse=False),\n",
       "                                                  [0, 1, 2]),\n",
       "                                                 ('powertransformer',\n",
       "                                                  PowerTransformer(),\n",
       "                                                  [3, 4, 9, 10, 11, 13, 14]),\n",
       "                                                 ('kbinsdiscretizer',\n",
       "                                                  KBinsDiscretizer(), [5]),\n",
       "                                                 ('binarizer',\n",
       "                                                  Binarizer(threshold=55),\n",
       "                                                  [7, 8, 12]),\n",
       "                                                 ('simpleimputer',\n",
       "                                                  SimpleImputer(), [6])])),\n",
       "                ('votingregressor',\n",
       "                 VotingRegressor(estimators=[('x4', DecisionTreeRegressor()),\n",
       "                                             ('x5', SVR()),\n",
       "                                             ('x6', LinearRegression())],\n",
       "                                 verbose=True))])</pre></div></div></div><div class=\"sk-serial\"><div class=\"sk-item sk-dashed-wrapped\"><div class=\"sk-label-container\"><div class=\"sk-label sk-toggleable\"><input class=\"sk-toggleable__control sk-hidden--visually\" id=\"55366e8b-93c9-42e2-8132-4f680a70d071\" type=\"checkbox\" ><label class=\"sk-toggleable__label\" for=\"55366e8b-93c9-42e2-8132-4f680a70d071\">columntransformer: ColumnTransformer</label><div class=\"sk-toggleable__content\"><pre>ColumnTransformer(remainder='passthrough',\n",
       "                  transformers=[('onehotencoder', OneHotEncoder(sparse=False),\n",
       "                                 [0, 1, 2]),\n",
       "                                ('powertransformer', PowerTransformer(),\n",
       "                                 [3, 4, 9, 10, 11, 13, 14]),\n",
       "                                ('kbinsdiscretizer', KBinsDiscretizer(), [5]),\n",
       "                                ('binarizer', Binarizer(threshold=55),\n",
       "                                 [7, 8, 12]),\n",
       "                                ('simpleimputer', SimpleImputer(), [6])])</pre></div></div></div><div class=\"sk-parallel\"><div class=\"sk-parallel-item\"><div class=\"sk-item\"><div class=\"sk-label-container\"><div class=\"sk-label sk-toggleable\"><input class=\"sk-toggleable__control sk-hidden--visually\" id=\"c91f06ec-6e89-412f-9674-8bdf8bac305f\" type=\"checkbox\" ><label class=\"sk-toggleable__label\" for=\"c91f06ec-6e89-412f-9674-8bdf8bac305f\">onehotencoder</label><div class=\"sk-toggleable__content\"><pre>[0, 1, 2]</pre></div></div></div><div class=\"sk-serial\"><div class=\"sk-item\"><div class=\"sk-estimator sk-toggleable\"><input class=\"sk-toggleable__control sk-hidden--visually\" id=\"45bc046b-d6c0-454e-8d84-69befad4595b\" type=\"checkbox\" ><label class=\"sk-toggleable__label\" for=\"45bc046b-d6c0-454e-8d84-69befad4595b\">OneHotEncoder</label><div class=\"sk-toggleable__content\"><pre>OneHotEncoder(sparse=False)</pre></div></div></div></div></div></div><div class=\"sk-parallel-item\"><div class=\"sk-item\"><div class=\"sk-label-container\"><div class=\"sk-label sk-toggleable\"><input class=\"sk-toggleable__control sk-hidden--visually\" id=\"230bed52-b664-46a8-8860-cb1e8e439cb1\" type=\"checkbox\" ><label class=\"sk-toggleable__label\" for=\"230bed52-b664-46a8-8860-cb1e8e439cb1\">powertransformer</label><div class=\"sk-toggleable__content\"><pre>[3, 4, 9, 10, 11, 13, 14]</pre></div></div></div><div class=\"sk-serial\"><div class=\"sk-item\"><div class=\"sk-estimator sk-toggleable\"><input class=\"sk-toggleable__control sk-hidden--visually\" id=\"18d1dc72-1431-4986-bb00-6221944c1944\" type=\"checkbox\" ><label class=\"sk-toggleable__label\" for=\"18d1dc72-1431-4986-bb00-6221944c1944\">PowerTransformer</label><div class=\"sk-toggleable__content\"><pre>PowerTransformer()</pre></div></div></div></div></div></div><div class=\"sk-parallel-item\"><div class=\"sk-item\"><div class=\"sk-label-container\"><div class=\"sk-label sk-toggleable\"><input class=\"sk-toggleable__control sk-hidden--visually\" id=\"87875d50-f9db-475d-8d36-4e2bc3ca7376\" type=\"checkbox\" ><label class=\"sk-toggleable__label\" for=\"87875d50-f9db-475d-8d36-4e2bc3ca7376\">kbinsdiscretizer</label><div class=\"sk-toggleable__content\"><pre>[5]</pre></div></div></div><div class=\"sk-serial\"><div class=\"sk-item\"><div class=\"sk-estimator sk-toggleable\"><input class=\"sk-toggleable__control sk-hidden--visually\" id=\"3f8c99ae-1901-435d-b0cb-dd71e4110e26\" type=\"checkbox\" ><label class=\"sk-toggleable__label\" for=\"3f8c99ae-1901-435d-b0cb-dd71e4110e26\">KBinsDiscretizer</label><div class=\"sk-toggleable__content\"><pre>KBinsDiscretizer()</pre></div></div></div></div></div></div><div class=\"sk-parallel-item\"><div class=\"sk-item\"><div class=\"sk-label-container\"><div class=\"sk-label sk-toggleable\"><input class=\"sk-toggleable__control sk-hidden--visually\" id=\"c7aaf817-22a0-4637-a2b2-4a1ba26b0914\" type=\"checkbox\" ><label class=\"sk-toggleable__label\" for=\"c7aaf817-22a0-4637-a2b2-4a1ba26b0914\">binarizer</label><div class=\"sk-toggleable__content\"><pre>[7, 8, 12]</pre></div></div></div><div class=\"sk-serial\"><div class=\"sk-item\"><div class=\"sk-estimator sk-toggleable\"><input class=\"sk-toggleable__control sk-hidden--visually\" id=\"903fb245-d0d0-4a97-9333-45d49a916c42\" type=\"checkbox\" ><label class=\"sk-toggleable__label\" for=\"903fb245-d0d0-4a97-9333-45d49a916c42\">Binarizer</label><div class=\"sk-toggleable__content\"><pre>Binarizer(threshold=55)</pre></div></div></div></div></div></div><div class=\"sk-parallel-item\"><div class=\"sk-item\"><div class=\"sk-label-container\"><div class=\"sk-label sk-toggleable\"><input class=\"sk-toggleable__control sk-hidden--visually\" id=\"e5190516-17b4-4444-a30f-372620d917c9\" type=\"checkbox\" ><label class=\"sk-toggleable__label\" for=\"e5190516-17b4-4444-a30f-372620d917c9\">simpleimputer</label><div class=\"sk-toggleable__content\"><pre>[6]</pre></div></div></div><div class=\"sk-serial\"><div class=\"sk-item\"><div class=\"sk-estimator sk-toggleable\"><input class=\"sk-toggleable__control sk-hidden--visually\" id=\"c2ef450b-4c48-4b61-ab83-71cf35388c98\" type=\"checkbox\" ><label class=\"sk-toggleable__label\" for=\"c2ef450b-4c48-4b61-ab83-71cf35388c98\">SimpleImputer</label><div class=\"sk-toggleable__content\"><pre>SimpleImputer()</pre></div></div></div></div></div></div></div></div><div class=\"sk-item sk-dashed-wrapped\"><div class=\"sk-label-container\"><div class=\"sk-label sk-toggleable\"><input class=\"sk-toggleable__control sk-hidden--visually\" id=\"8e07c13e-9292-4620-ad51-6ac8e4cbb53c\" type=\"checkbox\" ><label class=\"sk-toggleable__label\" for=\"8e07c13e-9292-4620-ad51-6ac8e4cbb53c\">votingregressor: VotingRegressor</label><div class=\"sk-toggleable__content\"><pre>VotingRegressor(estimators=[('x4', DecisionTreeRegressor()), ('x5', SVR()),\n",
       "                            ('x6', LinearRegression())],\n",
       "                verbose=True)</pre></div></div></div><div class=\"sk-parallel\"><div class=\"sk-parallel-item\"><div class=\"sk-item\"><div class=\"sk-label-container\"><div class=\"sk-label sk-toggleable\"><label>x4</label></div></div><div class=\"sk-serial\"><div class=\"sk-item\"><div class=\"sk-estimator sk-toggleable\"><input class=\"sk-toggleable__control sk-hidden--visually\" id=\"cce32044-7d68-4420-b0e8-e01f02ab3a4d\" type=\"checkbox\" ><label class=\"sk-toggleable__label\" for=\"cce32044-7d68-4420-b0e8-e01f02ab3a4d\">DecisionTreeRegressor</label><div class=\"sk-toggleable__content\"><pre>DecisionTreeRegressor()</pre></div></div></div></div></div></div><div class=\"sk-parallel-item\"><div class=\"sk-item\"><div class=\"sk-label-container\"><div class=\"sk-label sk-toggleable\"><label>x5</label></div></div><div class=\"sk-serial\"><div class=\"sk-item\"><div class=\"sk-estimator sk-toggleable\"><input class=\"sk-toggleable__control sk-hidden--visually\" id=\"64f193d4-6461-4311-844a-867a70167af6\" type=\"checkbox\" ><label class=\"sk-toggleable__label\" for=\"64f193d4-6461-4311-844a-867a70167af6\">SVR</label><div class=\"sk-toggleable__content\"><pre>SVR()</pre></div></div></div></div></div></div><div class=\"sk-parallel-item\"><div class=\"sk-item\"><div class=\"sk-label-container\"><div class=\"sk-label sk-toggleable\"><label>x6</label></div></div><div class=\"sk-serial\"><div class=\"sk-item\"><div class=\"sk-estimator sk-toggleable\"><input class=\"sk-toggleable__control sk-hidden--visually\" id=\"91ababdb-cafd-4029-a7cc-d2734cdc8170\" type=\"checkbox\" ><label class=\"sk-toggleable__label\" for=\"91ababdb-cafd-4029-a7cc-d2734cdc8170\">LinearRegression</label><div class=\"sk-toggleable__content\"><pre>LinearRegression()</pre></div></div></div></div></div></div></div></div></div></div></div></div>"
      ],
      "text/plain": [
       "Pipeline(steps=[('columntransformer',\n",
       "                 ColumnTransformer(remainder='passthrough',\n",
       "                                   transformers=[('onehotencoder',\n",
       "                                                  OneHotEncoder(sparse=False),\n",
       "                                                  [0, 1, 2]),\n",
       "                                                 ('powertransformer',\n",
       "                                                  PowerTransformer(),\n",
       "                                                  [3, 4, 9, 10, 11, 13, 14]),\n",
       "                                                 ('kbinsdiscretizer',\n",
       "                                                  KBinsDiscretizer(), [5]),\n",
       "                                                 ('binarizer',\n",
       "                                                  Binarizer(threshold=55),\n",
       "                                                  [7, 8, 12]),\n",
       "                                                 ('simpleimputer',\n",
       "                                                  SimpleImputer(), [6])])),\n",
       "                ('votingregressor',\n",
       "                 VotingRegressor(estimators=[('x4', DecisionTreeRegressor()),\n",
       "                                             ('x5', SVR()),\n",
       "                                             ('x6', LinearRegression())],\n",
       "                                 verbose=True))])"
      ]
     },
     "execution_count": 154,
     "metadata": {},
     "output_type": "execute_result"
    }
   ],
   "source": [
    "pipe_v.fit(x_train,y_train)"
   ]
  },
  {
   "cell_type": "code",
   "execution_count": 155,
   "metadata": {},
   "outputs": [],
   "source": [
    "pred_v = pipe_v.predict(x_test)"
   ]
  },
  {
   "cell_type": "code",
   "execution_count": 156,
   "metadata": {},
   "outputs": [
    {
     "data": {
      "text/plain": [
       "0.6209298921356202"
      ]
     },
     "execution_count": 156,
     "metadata": {},
     "output_type": "execute_result"
    }
   ],
   "source": [
    "from sklearn.metrics import mean_squared_error\n",
    "mean_squared_error(pred_v,y_test)"
   ]
  },
  {
   "cell_type": "code",
   "execution_count": 157,
   "metadata": {},
   "outputs": [
    {
     "data": {
      "text/html": [
       "<style>div.sk-top-container {color: black;background-color: white;}div.sk-toggleable {background-color: white;}label.sk-toggleable__label {cursor: pointer;display: block;width: 100%;margin-bottom: 0;padding: 0.2em 0.3em;box-sizing: border-box;text-align: center;}div.sk-toggleable__content {max-height: 0;max-width: 0;overflow: hidden;text-align: left;background-color: #f0f8ff;}div.sk-toggleable__content pre {margin: 0.2em;color: black;border-radius: 0.25em;background-color: #f0f8ff;}input.sk-toggleable__control:checked~div.sk-toggleable__content {max-height: 200px;max-width: 100%;overflow: auto;}div.sk-estimator input.sk-toggleable__control:checked~label.sk-toggleable__label {background-color: #d4ebff;}div.sk-label input.sk-toggleable__control:checked~label.sk-toggleable__label {background-color: #d4ebff;}input.sk-hidden--visually {border: 0;clip: rect(1px 1px 1px 1px);clip: rect(1px, 1px, 1px, 1px);height: 1px;margin: -1px;overflow: hidden;padding: 0;position: absolute;width: 1px;}div.sk-estimator {font-family: monospace;background-color: #f0f8ff;margin: 0.25em 0.25em;border: 1px dotted black;border-radius: 0.25em;box-sizing: border-box;}div.sk-estimator:hover {background-color: #d4ebff;}div.sk-parallel-item::after {content: \"\";width: 100%;border-bottom: 1px solid gray;flex-grow: 1;}div.sk-label:hover label.sk-toggleable__label {background-color: #d4ebff;}div.sk-serial::before {content: \"\";position: absolute;border-left: 1px solid gray;box-sizing: border-box;top: 2em;bottom: 0;left: 50%;}div.sk-serial {display: flex;flex-direction: column;align-items: center;background-color: white;}div.sk-item {z-index: 1;}div.sk-parallel {display: flex;align-items: stretch;justify-content: center;background-color: white;}div.sk-parallel-item {display: flex;flex-direction: column;position: relative;background-color: white;}div.sk-parallel-item:first-child::after {align-self: flex-end;width: 50%;}div.sk-parallel-item:last-child::after {align-self: flex-start;width: 50%;}div.sk-parallel-item:only-child::after {width: 0;}div.sk-dashed-wrapped {border: 1px dashed gray;margin: 0.2em;box-sizing: border-box;padding-bottom: 0.1em;background-color: white;position: relative;}div.sk-label label {font-family: monospace;font-weight: bold;background-color: white;display: inline-block;line-height: 1.2em;}div.sk-label-container {position: relative;z-index: 2;text-align: center;}div.sk-container {display: inline-block;position: relative;}</style><div class=\"sk-top-container\"><div class=\"sk-container\"><div class=\"sk-item sk-dashed-wrapped\"><div class=\"sk-label-container\"><div class=\"sk-label sk-toggleable\"><input class=\"sk-toggleable__control sk-hidden--visually\" id=\"d9f60e76-150d-4c47-87a3-872fb7028bc1\" type=\"checkbox\" ><label class=\"sk-toggleable__label\" for=\"d9f60e76-150d-4c47-87a3-872fb7028bc1\">BaggingRegressor</label><div class=\"sk-toggleable__content\"><pre>BaggingRegressor(base_estimator=SVR())</pre></div></div></div><div class=\"sk-parallel\"><div class=\"sk-parallel-item\"><div class=\"sk-item\"><div class=\"sk-serial\"><div class=\"sk-item\"><div class=\"sk-estimator sk-toggleable\"><input class=\"sk-toggleable__control sk-hidden--visually\" id=\"d71503e2-c0d2-44b8-b08e-6fd036cf9889\" type=\"checkbox\" ><label class=\"sk-toggleable__label\" for=\"d71503e2-c0d2-44b8-b08e-6fd036cf9889\">SVR</label><div class=\"sk-toggleable__content\"><pre>SVR()</pre></div></div></div></div></div></div></div></div></div></div>"
      ],
      "text/plain": [
       "BaggingRegressor(base_estimator=SVR())"
      ]
     },
     "execution_count": 157,
     "metadata": {},
     "output_type": "execute_result"
    }
   ],
   "source": [
    "from sklearn.svm import SVR                                                           # from sklearn.linear_model import LinearRegression                                                                            # from sklearn.tree import DecisionTreeRegressor\n",
    "from sklearn.ensemble import BaggingRegressor                                         # algorithm7 = DecisionTreeRegressor()\n",
    "algorithm8 = SVR()                                                                    # algorithm9 = LinearRegression()\n",
    "model_B = BaggingRegressor(base_estimator = SVR())\n",
    "model_B"
   ]
  },
  {
   "cell_type": "code",
   "execution_count": 158,
   "metadata": {},
   "outputs": [
    {
     "data": {
      "text/html": [
       "<style>div.sk-top-container {color: black;background-color: white;}div.sk-toggleable {background-color: white;}label.sk-toggleable__label {cursor: pointer;display: block;width: 100%;margin-bottom: 0;padding: 0.2em 0.3em;box-sizing: border-box;text-align: center;}div.sk-toggleable__content {max-height: 0;max-width: 0;overflow: hidden;text-align: left;background-color: #f0f8ff;}div.sk-toggleable__content pre {margin: 0.2em;color: black;border-radius: 0.25em;background-color: #f0f8ff;}input.sk-toggleable__control:checked~div.sk-toggleable__content {max-height: 200px;max-width: 100%;overflow: auto;}div.sk-estimator input.sk-toggleable__control:checked~label.sk-toggleable__label {background-color: #d4ebff;}div.sk-label input.sk-toggleable__control:checked~label.sk-toggleable__label {background-color: #d4ebff;}input.sk-hidden--visually {border: 0;clip: rect(1px 1px 1px 1px);clip: rect(1px, 1px, 1px, 1px);height: 1px;margin: -1px;overflow: hidden;padding: 0;position: absolute;width: 1px;}div.sk-estimator {font-family: monospace;background-color: #f0f8ff;margin: 0.25em 0.25em;border: 1px dotted black;border-radius: 0.25em;box-sizing: border-box;}div.sk-estimator:hover {background-color: #d4ebff;}div.sk-parallel-item::after {content: \"\";width: 100%;border-bottom: 1px solid gray;flex-grow: 1;}div.sk-label:hover label.sk-toggleable__label {background-color: #d4ebff;}div.sk-serial::before {content: \"\";position: absolute;border-left: 1px solid gray;box-sizing: border-box;top: 2em;bottom: 0;left: 50%;}div.sk-serial {display: flex;flex-direction: column;align-items: center;background-color: white;}div.sk-item {z-index: 1;}div.sk-parallel {display: flex;align-items: stretch;justify-content: center;background-color: white;}div.sk-parallel-item {display: flex;flex-direction: column;position: relative;background-color: white;}div.sk-parallel-item:first-child::after {align-self: flex-end;width: 50%;}div.sk-parallel-item:last-child::after {align-self: flex-start;width: 50%;}div.sk-parallel-item:only-child::after {width: 0;}div.sk-dashed-wrapped {border: 1px dashed gray;margin: 0.2em;box-sizing: border-box;padding-bottom: 0.1em;background-color: white;position: relative;}div.sk-label label {font-family: monospace;font-weight: bold;background-color: white;display: inline-block;line-height: 1.2em;}div.sk-label-container {position: relative;z-index: 2;text-align: center;}div.sk-container {display: inline-block;position: relative;}</style><div class=\"sk-top-container\"><div class=\"sk-container\"><div class=\"sk-item sk-dashed-wrapped\"><div class=\"sk-label-container\"><div class=\"sk-label sk-toggleable\"><input class=\"sk-toggleable__control sk-hidden--visually\" id=\"c4e46520-2139-4d55-85a9-fd5eae8b49e9\" type=\"checkbox\" ><label class=\"sk-toggleable__label\" for=\"c4e46520-2139-4d55-85a9-fd5eae8b49e9\">Pipeline</label><div class=\"sk-toggleable__content\"><pre>Pipeline(steps=[('columntransformer',\n",
       "                 ColumnTransformer(remainder='passthrough',\n",
       "                                   transformers=[('onehotencoder',\n",
       "                                                  OneHotEncoder(sparse=False),\n",
       "                                                  [0, 1, 2]),\n",
       "                                                 ('powertransformer',\n",
       "                                                  PowerTransformer(),\n",
       "                                                  [3, 4, 9, 10, 11, 13, 14]),\n",
       "                                                 ('kbinsdiscretizer',\n",
       "                                                  KBinsDiscretizer(), [5]),\n",
       "                                                 ('binarizer',\n",
       "                                                  Binarizer(threshold=55),\n",
       "                                                  [7, 8, 12]),\n",
       "                                                 ('simpleimputer',\n",
       "                                                  SimpleImputer(), [6])])),\n",
       "                ('baggingregressor', BaggingRegressor(base_estimator=SVR()))])</pre></div></div></div><div class=\"sk-serial\"><div class=\"sk-item sk-dashed-wrapped\"><div class=\"sk-label-container\"><div class=\"sk-label sk-toggleable\"><input class=\"sk-toggleable__control sk-hidden--visually\" id=\"04f8300d-c93c-4826-91ce-8a50dee3d655\" type=\"checkbox\" ><label class=\"sk-toggleable__label\" for=\"04f8300d-c93c-4826-91ce-8a50dee3d655\">columntransformer: ColumnTransformer</label><div class=\"sk-toggleable__content\"><pre>ColumnTransformer(remainder='passthrough',\n",
       "                  transformers=[('onehotencoder', OneHotEncoder(sparse=False),\n",
       "                                 [0, 1, 2]),\n",
       "                                ('powertransformer', PowerTransformer(),\n",
       "                                 [3, 4, 9, 10, 11, 13, 14]),\n",
       "                                ('kbinsdiscretizer', KBinsDiscretizer(), [5]),\n",
       "                                ('binarizer', Binarizer(threshold=55),\n",
       "                                 [7, 8, 12]),\n",
       "                                ('simpleimputer', SimpleImputer(), [6])])</pre></div></div></div><div class=\"sk-parallel\"><div class=\"sk-parallel-item\"><div class=\"sk-item\"><div class=\"sk-label-container\"><div class=\"sk-label sk-toggleable\"><input class=\"sk-toggleable__control sk-hidden--visually\" id=\"d9889768-513c-4627-86bb-e9e359151c6a\" type=\"checkbox\" ><label class=\"sk-toggleable__label\" for=\"d9889768-513c-4627-86bb-e9e359151c6a\">onehotencoder</label><div class=\"sk-toggleable__content\"><pre>[0, 1, 2]</pre></div></div></div><div class=\"sk-serial\"><div class=\"sk-item\"><div class=\"sk-estimator sk-toggleable\"><input class=\"sk-toggleable__control sk-hidden--visually\" id=\"34667e39-3c11-4b2c-b5b1-72753fe66588\" type=\"checkbox\" ><label class=\"sk-toggleable__label\" for=\"34667e39-3c11-4b2c-b5b1-72753fe66588\">OneHotEncoder</label><div class=\"sk-toggleable__content\"><pre>OneHotEncoder(sparse=False)</pre></div></div></div></div></div></div><div class=\"sk-parallel-item\"><div class=\"sk-item\"><div class=\"sk-label-container\"><div class=\"sk-label sk-toggleable\"><input class=\"sk-toggleable__control sk-hidden--visually\" id=\"4e9bc835-7458-4fd5-88fc-33930ee27ee2\" type=\"checkbox\" ><label class=\"sk-toggleable__label\" for=\"4e9bc835-7458-4fd5-88fc-33930ee27ee2\">powertransformer</label><div class=\"sk-toggleable__content\"><pre>[3, 4, 9, 10, 11, 13, 14]</pre></div></div></div><div class=\"sk-serial\"><div class=\"sk-item\"><div class=\"sk-estimator sk-toggleable\"><input class=\"sk-toggleable__control sk-hidden--visually\" id=\"a39d1aea-126d-4d55-8970-387021bfdc1a\" type=\"checkbox\" ><label class=\"sk-toggleable__label\" for=\"a39d1aea-126d-4d55-8970-387021bfdc1a\">PowerTransformer</label><div class=\"sk-toggleable__content\"><pre>PowerTransformer()</pre></div></div></div></div></div></div><div class=\"sk-parallel-item\"><div class=\"sk-item\"><div class=\"sk-label-container\"><div class=\"sk-label sk-toggleable\"><input class=\"sk-toggleable__control sk-hidden--visually\" id=\"1b04dcb3-0bf0-4fca-b5a7-6a7212aae29d\" type=\"checkbox\" ><label class=\"sk-toggleable__label\" for=\"1b04dcb3-0bf0-4fca-b5a7-6a7212aae29d\">kbinsdiscretizer</label><div class=\"sk-toggleable__content\"><pre>[5]</pre></div></div></div><div class=\"sk-serial\"><div class=\"sk-item\"><div class=\"sk-estimator sk-toggleable\"><input class=\"sk-toggleable__control sk-hidden--visually\" id=\"df9546cf-544f-4af4-b3fb-7294b44beefe\" type=\"checkbox\" ><label class=\"sk-toggleable__label\" for=\"df9546cf-544f-4af4-b3fb-7294b44beefe\">KBinsDiscretizer</label><div class=\"sk-toggleable__content\"><pre>KBinsDiscretizer()</pre></div></div></div></div></div></div><div class=\"sk-parallel-item\"><div class=\"sk-item\"><div class=\"sk-label-container\"><div class=\"sk-label sk-toggleable\"><input class=\"sk-toggleable__control sk-hidden--visually\" id=\"bc700759-5088-45c2-8544-996377fcb7db\" type=\"checkbox\" ><label class=\"sk-toggleable__label\" for=\"bc700759-5088-45c2-8544-996377fcb7db\">binarizer</label><div class=\"sk-toggleable__content\"><pre>[7, 8, 12]</pre></div></div></div><div class=\"sk-serial\"><div class=\"sk-item\"><div class=\"sk-estimator sk-toggleable\"><input class=\"sk-toggleable__control sk-hidden--visually\" id=\"fa54944a-d9f6-4f91-85b2-6005a3a42f3e\" type=\"checkbox\" ><label class=\"sk-toggleable__label\" for=\"fa54944a-d9f6-4f91-85b2-6005a3a42f3e\">Binarizer</label><div class=\"sk-toggleable__content\"><pre>Binarizer(threshold=55)</pre></div></div></div></div></div></div><div class=\"sk-parallel-item\"><div class=\"sk-item\"><div class=\"sk-label-container\"><div class=\"sk-label sk-toggleable\"><input class=\"sk-toggleable__control sk-hidden--visually\" id=\"f06a2303-5f46-4a0f-9191-45b940d823fc\" type=\"checkbox\" ><label class=\"sk-toggleable__label\" for=\"f06a2303-5f46-4a0f-9191-45b940d823fc\">simpleimputer</label><div class=\"sk-toggleable__content\"><pre>[6]</pre></div></div></div><div class=\"sk-serial\"><div class=\"sk-item\"><div class=\"sk-estimator sk-toggleable\"><input class=\"sk-toggleable__control sk-hidden--visually\" id=\"89bb9d7e-cc84-4a3f-9b77-002692a1562e\" type=\"checkbox\" ><label class=\"sk-toggleable__label\" for=\"89bb9d7e-cc84-4a3f-9b77-002692a1562e\">SimpleImputer</label><div class=\"sk-toggleable__content\"><pre>SimpleImputer()</pre></div></div></div></div></div></div></div></div><div class=\"sk-item sk-dashed-wrapped\"><div class=\"sk-label-container\"><div class=\"sk-label sk-toggleable\"><input class=\"sk-toggleable__control sk-hidden--visually\" id=\"d1c98ba3-9848-4276-a250-9fcc3284ff48\" type=\"checkbox\" ><label class=\"sk-toggleable__label\" for=\"d1c98ba3-9848-4276-a250-9fcc3284ff48\">baggingregressor: BaggingRegressor</label><div class=\"sk-toggleable__content\"><pre>BaggingRegressor(base_estimator=SVR())</pre></div></div></div><div class=\"sk-parallel\"><div class=\"sk-parallel-item\"><div class=\"sk-item\"><div class=\"sk-serial\"><div class=\"sk-item\"><div class=\"sk-estimator sk-toggleable\"><input class=\"sk-toggleable__control sk-hidden--visually\" id=\"80a4be56-825b-4bd0-8075-a14113b78278\" type=\"checkbox\" ><label class=\"sk-toggleable__label\" for=\"80a4be56-825b-4bd0-8075-a14113b78278\">SVR</label><div class=\"sk-toggleable__content\"><pre>SVR()</pre></div></div></div></div></div></div></div></div></div></div></div></div>"
      ],
      "text/plain": [
       "Pipeline(steps=[('columntransformer',\n",
       "                 ColumnTransformer(remainder='passthrough',\n",
       "                                   transformers=[('onehotencoder',\n",
       "                                                  OneHotEncoder(sparse=False),\n",
       "                                                  [0, 1, 2]),\n",
       "                                                 ('powertransformer',\n",
       "                                                  PowerTransformer(),\n",
       "                                                  [3, 4, 9, 10, 11, 13, 14]),\n",
       "                                                 ('kbinsdiscretizer',\n",
       "                                                  KBinsDiscretizer(), [5]),\n",
       "                                                 ('binarizer',\n",
       "                                                  Binarizer(threshold=55),\n",
       "                                                  [7, 8, 12]),\n",
       "                                                 ('simpleimputer',\n",
       "                                                  SimpleImputer(), [6])])),\n",
       "                ('baggingregressor', BaggingRegressor(base_estimator=SVR()))])"
      ]
     },
     "execution_count": 158,
     "metadata": {},
     "output_type": "execute_result"
    }
   ],
   "source": [
    "from sklearn.pipeline import make_pipeline\n",
    "pipe_B = make_pipeline(trans,model_B)\n",
    "pipe_B"
   ]
  },
  {
   "cell_type": "code",
   "execution_count": 159,
   "metadata": {},
   "outputs": [
    {
     "name": "stderr",
     "output_type": "stream",
     "text": [
      "C:\\Users\\yeohw\\anaconda3\\lib\\site-packages\\sklearn\\preprocessing\\_data.py:2995: RuntimeWarning: divide by zero encountered in log\n",
      "  loglike = -n_samples / 2 * np.log(x_trans.var())\n",
      "C:\\Users\\yeohw\\anaconda3\\lib\\site-packages\\sklearn\\utils\\validation.py:72: DataConversionWarning: A column-vector y was passed when a 1d array was expected. Please change the shape of y to (n_samples, ), for example using ravel().\n",
      "  return f(**kwargs)\n"
     ]
    },
    {
     "data": {
      "text/html": [
       "<style>div.sk-top-container {color: black;background-color: white;}div.sk-toggleable {background-color: white;}label.sk-toggleable__label {cursor: pointer;display: block;width: 100%;margin-bottom: 0;padding: 0.2em 0.3em;box-sizing: border-box;text-align: center;}div.sk-toggleable__content {max-height: 0;max-width: 0;overflow: hidden;text-align: left;background-color: #f0f8ff;}div.sk-toggleable__content pre {margin: 0.2em;color: black;border-radius: 0.25em;background-color: #f0f8ff;}input.sk-toggleable__control:checked~div.sk-toggleable__content {max-height: 200px;max-width: 100%;overflow: auto;}div.sk-estimator input.sk-toggleable__control:checked~label.sk-toggleable__label {background-color: #d4ebff;}div.sk-label input.sk-toggleable__control:checked~label.sk-toggleable__label {background-color: #d4ebff;}input.sk-hidden--visually {border: 0;clip: rect(1px 1px 1px 1px);clip: rect(1px, 1px, 1px, 1px);height: 1px;margin: -1px;overflow: hidden;padding: 0;position: absolute;width: 1px;}div.sk-estimator {font-family: monospace;background-color: #f0f8ff;margin: 0.25em 0.25em;border: 1px dotted black;border-radius: 0.25em;box-sizing: border-box;}div.sk-estimator:hover {background-color: #d4ebff;}div.sk-parallel-item::after {content: \"\";width: 100%;border-bottom: 1px solid gray;flex-grow: 1;}div.sk-label:hover label.sk-toggleable__label {background-color: #d4ebff;}div.sk-serial::before {content: \"\";position: absolute;border-left: 1px solid gray;box-sizing: border-box;top: 2em;bottom: 0;left: 50%;}div.sk-serial {display: flex;flex-direction: column;align-items: center;background-color: white;}div.sk-item {z-index: 1;}div.sk-parallel {display: flex;align-items: stretch;justify-content: center;background-color: white;}div.sk-parallel-item {display: flex;flex-direction: column;position: relative;background-color: white;}div.sk-parallel-item:first-child::after {align-self: flex-end;width: 50%;}div.sk-parallel-item:last-child::after {align-self: flex-start;width: 50%;}div.sk-parallel-item:only-child::after {width: 0;}div.sk-dashed-wrapped {border: 1px dashed gray;margin: 0.2em;box-sizing: border-box;padding-bottom: 0.1em;background-color: white;position: relative;}div.sk-label label {font-family: monospace;font-weight: bold;background-color: white;display: inline-block;line-height: 1.2em;}div.sk-label-container {position: relative;z-index: 2;text-align: center;}div.sk-container {display: inline-block;position: relative;}</style><div class=\"sk-top-container\"><div class=\"sk-container\"><div class=\"sk-item sk-dashed-wrapped\"><div class=\"sk-label-container\"><div class=\"sk-label sk-toggleable\"><input class=\"sk-toggleable__control sk-hidden--visually\" id=\"0df6dfd1-59d5-42ed-b11e-267322562c56\" type=\"checkbox\" ><label class=\"sk-toggleable__label\" for=\"0df6dfd1-59d5-42ed-b11e-267322562c56\">Pipeline</label><div class=\"sk-toggleable__content\"><pre>Pipeline(steps=[('columntransformer',\n",
       "                 ColumnTransformer(remainder='passthrough',\n",
       "                                   transformers=[('onehotencoder',\n",
       "                                                  OneHotEncoder(sparse=False),\n",
       "                                                  [0, 1, 2]),\n",
       "                                                 ('powertransformer',\n",
       "                                                  PowerTransformer(),\n",
       "                                                  [3, 4, 9, 10, 11, 13, 14]),\n",
       "                                                 ('kbinsdiscretizer',\n",
       "                                                  KBinsDiscretizer(), [5]),\n",
       "                                                 ('binarizer',\n",
       "                                                  Binarizer(threshold=55),\n",
       "                                                  [7, 8, 12]),\n",
       "                                                 ('simpleimputer',\n",
       "                                                  SimpleImputer(), [6])])),\n",
       "                ('baggingregressor', BaggingRegressor(base_estimator=SVR()))])</pre></div></div></div><div class=\"sk-serial\"><div class=\"sk-item sk-dashed-wrapped\"><div class=\"sk-label-container\"><div class=\"sk-label sk-toggleable\"><input class=\"sk-toggleable__control sk-hidden--visually\" id=\"0d666ad1-3d84-407d-b3fb-efdec2885c4d\" type=\"checkbox\" ><label class=\"sk-toggleable__label\" for=\"0d666ad1-3d84-407d-b3fb-efdec2885c4d\">columntransformer: ColumnTransformer</label><div class=\"sk-toggleable__content\"><pre>ColumnTransformer(remainder='passthrough',\n",
       "                  transformers=[('onehotencoder', OneHotEncoder(sparse=False),\n",
       "                                 [0, 1, 2]),\n",
       "                                ('powertransformer', PowerTransformer(),\n",
       "                                 [3, 4, 9, 10, 11, 13, 14]),\n",
       "                                ('kbinsdiscretizer', KBinsDiscretizer(), [5]),\n",
       "                                ('binarizer', Binarizer(threshold=55),\n",
       "                                 [7, 8, 12]),\n",
       "                                ('simpleimputer', SimpleImputer(), [6])])</pre></div></div></div><div class=\"sk-parallel\"><div class=\"sk-parallel-item\"><div class=\"sk-item\"><div class=\"sk-label-container\"><div class=\"sk-label sk-toggleable\"><input class=\"sk-toggleable__control sk-hidden--visually\" id=\"223abfe8-dff8-4b41-b928-b8882addd99a\" type=\"checkbox\" ><label class=\"sk-toggleable__label\" for=\"223abfe8-dff8-4b41-b928-b8882addd99a\">onehotencoder</label><div class=\"sk-toggleable__content\"><pre>[0, 1, 2]</pre></div></div></div><div class=\"sk-serial\"><div class=\"sk-item\"><div class=\"sk-estimator sk-toggleable\"><input class=\"sk-toggleable__control sk-hidden--visually\" id=\"a484ae6d-a8ff-4f18-901e-9c729897ca7c\" type=\"checkbox\" ><label class=\"sk-toggleable__label\" for=\"a484ae6d-a8ff-4f18-901e-9c729897ca7c\">OneHotEncoder</label><div class=\"sk-toggleable__content\"><pre>OneHotEncoder(sparse=False)</pre></div></div></div></div></div></div><div class=\"sk-parallel-item\"><div class=\"sk-item\"><div class=\"sk-label-container\"><div class=\"sk-label sk-toggleable\"><input class=\"sk-toggleable__control sk-hidden--visually\" id=\"4f7b1497-962c-4f0c-b5f6-75e805b490f7\" type=\"checkbox\" ><label class=\"sk-toggleable__label\" for=\"4f7b1497-962c-4f0c-b5f6-75e805b490f7\">powertransformer</label><div class=\"sk-toggleable__content\"><pre>[3, 4, 9, 10, 11, 13, 14]</pre></div></div></div><div class=\"sk-serial\"><div class=\"sk-item\"><div class=\"sk-estimator sk-toggleable\"><input class=\"sk-toggleable__control sk-hidden--visually\" id=\"56e8a083-2613-45cc-979e-68cdae3cdb88\" type=\"checkbox\" ><label class=\"sk-toggleable__label\" for=\"56e8a083-2613-45cc-979e-68cdae3cdb88\">PowerTransformer</label><div class=\"sk-toggleable__content\"><pre>PowerTransformer()</pre></div></div></div></div></div></div><div class=\"sk-parallel-item\"><div class=\"sk-item\"><div class=\"sk-label-container\"><div class=\"sk-label sk-toggleable\"><input class=\"sk-toggleable__control sk-hidden--visually\" id=\"2266ab9a-37a1-431b-aa5c-c4fbb94937ca\" type=\"checkbox\" ><label class=\"sk-toggleable__label\" for=\"2266ab9a-37a1-431b-aa5c-c4fbb94937ca\">kbinsdiscretizer</label><div class=\"sk-toggleable__content\"><pre>[5]</pre></div></div></div><div class=\"sk-serial\"><div class=\"sk-item\"><div class=\"sk-estimator sk-toggleable\"><input class=\"sk-toggleable__control sk-hidden--visually\" id=\"ad2384d3-34a2-4890-8aad-8521053cd355\" type=\"checkbox\" ><label class=\"sk-toggleable__label\" for=\"ad2384d3-34a2-4890-8aad-8521053cd355\">KBinsDiscretizer</label><div class=\"sk-toggleable__content\"><pre>KBinsDiscretizer()</pre></div></div></div></div></div></div><div class=\"sk-parallel-item\"><div class=\"sk-item\"><div class=\"sk-label-container\"><div class=\"sk-label sk-toggleable\"><input class=\"sk-toggleable__control sk-hidden--visually\" id=\"a5c5eef7-87b3-4ca4-9253-395fa278c352\" type=\"checkbox\" ><label class=\"sk-toggleable__label\" for=\"a5c5eef7-87b3-4ca4-9253-395fa278c352\">binarizer</label><div class=\"sk-toggleable__content\"><pre>[7, 8, 12]</pre></div></div></div><div class=\"sk-serial\"><div class=\"sk-item\"><div class=\"sk-estimator sk-toggleable\"><input class=\"sk-toggleable__control sk-hidden--visually\" id=\"4c8858f2-2830-4317-af64-ea55c8b7f436\" type=\"checkbox\" ><label class=\"sk-toggleable__label\" for=\"4c8858f2-2830-4317-af64-ea55c8b7f436\">Binarizer</label><div class=\"sk-toggleable__content\"><pre>Binarizer(threshold=55)</pre></div></div></div></div></div></div><div class=\"sk-parallel-item\"><div class=\"sk-item\"><div class=\"sk-label-container\"><div class=\"sk-label sk-toggleable\"><input class=\"sk-toggleable__control sk-hidden--visually\" id=\"aa1c03d9-4220-482e-ab0d-9e2aa7eedbb9\" type=\"checkbox\" ><label class=\"sk-toggleable__label\" for=\"aa1c03d9-4220-482e-ab0d-9e2aa7eedbb9\">simpleimputer</label><div class=\"sk-toggleable__content\"><pre>[6]</pre></div></div></div><div class=\"sk-serial\"><div class=\"sk-item\"><div class=\"sk-estimator sk-toggleable\"><input class=\"sk-toggleable__control sk-hidden--visually\" id=\"3aaab6b3-aa6f-4f44-bf76-dd648d2f4c58\" type=\"checkbox\" ><label class=\"sk-toggleable__label\" for=\"3aaab6b3-aa6f-4f44-bf76-dd648d2f4c58\">SimpleImputer</label><div class=\"sk-toggleable__content\"><pre>SimpleImputer()</pre></div></div></div></div></div></div></div></div><div class=\"sk-item sk-dashed-wrapped\"><div class=\"sk-label-container\"><div class=\"sk-label sk-toggleable\"><input class=\"sk-toggleable__control sk-hidden--visually\" id=\"8a032c34-c217-4cb2-b544-79fe218d5da8\" type=\"checkbox\" ><label class=\"sk-toggleable__label\" for=\"8a032c34-c217-4cb2-b544-79fe218d5da8\">baggingregressor: BaggingRegressor</label><div class=\"sk-toggleable__content\"><pre>BaggingRegressor(base_estimator=SVR())</pre></div></div></div><div class=\"sk-parallel\"><div class=\"sk-parallel-item\"><div class=\"sk-item\"><div class=\"sk-serial\"><div class=\"sk-item\"><div class=\"sk-estimator sk-toggleable\"><input class=\"sk-toggleable__control sk-hidden--visually\" id=\"c8671f1b-8270-4a27-a327-8a70e61a90d1\" type=\"checkbox\" ><label class=\"sk-toggleable__label\" for=\"c8671f1b-8270-4a27-a327-8a70e61a90d1\">SVR</label><div class=\"sk-toggleable__content\"><pre>SVR()</pre></div></div></div></div></div></div></div></div></div></div></div></div>"
      ],
      "text/plain": [
       "Pipeline(steps=[('columntransformer',\n",
       "                 ColumnTransformer(remainder='passthrough',\n",
       "                                   transformers=[('onehotencoder',\n",
       "                                                  OneHotEncoder(sparse=False),\n",
       "                                                  [0, 1, 2]),\n",
       "                                                 ('powertransformer',\n",
       "                                                  PowerTransformer(),\n",
       "                                                  [3, 4, 9, 10, 11, 13, 14]),\n",
       "                                                 ('kbinsdiscretizer',\n",
       "                                                  KBinsDiscretizer(), [5]),\n",
       "                                                 ('binarizer',\n",
       "                                                  Binarizer(threshold=55),\n",
       "                                                  [7, 8, 12]),\n",
       "                                                 ('simpleimputer',\n",
       "                                                  SimpleImputer(), [6])])),\n",
       "                ('baggingregressor', BaggingRegressor(base_estimator=SVR()))])"
      ]
     },
     "execution_count": 159,
     "metadata": {},
     "output_type": "execute_result"
    }
   ],
   "source": [
    "pipe_B.fit(x_train,y_train)"
   ]
  },
  {
   "cell_type": "code",
   "execution_count": 160,
   "metadata": {},
   "outputs": [],
   "source": [
    "pred_B = pipe_B.predict(x_test)"
   ]
  },
  {
   "cell_type": "code",
   "execution_count": 161,
   "metadata": {},
   "outputs": [
    {
     "data": {
      "text/plain": [
       "0.8985351533775974"
      ]
     },
     "execution_count": 161,
     "metadata": {},
     "output_type": "execute_result"
    }
   ],
   "source": [
    "from sklearn.metrics import mean_squared_error\n",
    "mean_squared_error(pred_B,y_test)"
   ]
  },
  {
   "cell_type": "code",
   "execution_count": null,
   "metadata": {},
   "outputs": [],
   "source": []
  }
 ],
 "metadata": {
  "kernelspec": {
   "display_name": "Python 3",
   "language": "python",
   "name": "python3"
  },
  "language_info": {
   "codemirror_mode": {
    "name": "ipython",
    "version": 3
   },
   "file_extension": ".py",
   "mimetype": "text/x-python",
   "name": "python",
   "nbconvert_exporter": "python",
   "pygments_lexer": "ipython3",
   "version": "3.8.5"
  }
 },
 "nbformat": 4,
 "nbformat_minor": 4
}
